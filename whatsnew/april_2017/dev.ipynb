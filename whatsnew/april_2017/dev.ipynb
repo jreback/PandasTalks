{
 "cells": [
  {
   "cell_type": "code",
   "execution_count": 1,
   "metadata": {
    "collapsed": false,
    "nbpresent": {
     "id": "262f7648-2afc-4c24-b7e8-c9feffc14f23"
    },
    "slideshow": {
     "slide_type": "slide"
    }
   },
   "outputs": [
    {
     "data": {
      "text/plain": [
       "'0.19.0+712.g66140df'"
      ]
     },
     "execution_count": 1,
     "metadata": {},
     "output_type": "execute_result"
    }
   ],
   "source": [
    "import pandas as pd\n",
    "pd.options.display.max_rows=12\n",
    "pd.__version__"
   ]
  },
  {
   "cell_type": "markdown",
   "metadata": {
    "nbpresent": {
     "id": "f79f3261-29b7-4ed0-ba24-c5cf6f3c56cc"
    },
    "slideshow": {
     "slide_type": "slide"
    }
   },
   "source": [
    "## build schema"
   ]
  },
  {
   "cell_type": "code",
   "execution_count": 2,
   "metadata": {
    "collapsed": false,
    "nbpresent": {
     "id": "6a8e3b5f-c439-42d1-a20d-e1bc01765369"
    },
    "slideshow": {
     "slide_type": "subslide"
    }
   },
   "outputs": [
    {
     "data": {
      "text/html": [
       "<div>\n",
       "<table border=\"1\" class=\"dataframe\">\n",
       "  <thead>\n",
       "    <tr style=\"text-align: right;\">\n",
       "      <th></th>\n",
       "      <th>A</th>\n",
       "      <th>B</th>\n",
       "      <th>C</th>\n",
       "    </tr>\n",
       "    <tr>\n",
       "      <th>idx</th>\n",
       "      <th></th>\n",
       "      <th></th>\n",
       "      <th></th>\n",
       "    </tr>\n",
       "  </thead>\n",
       "  <tbody>\n",
       "    <tr>\n",
       "      <th>0</th>\n",
       "      <td>1</td>\n",
       "      <td>a</td>\n",
       "      <td>2016-01-01</td>\n",
       "    </tr>\n",
       "    <tr>\n",
       "      <th>1</th>\n",
       "      <td>2</td>\n",
       "      <td>b</td>\n",
       "      <td>2016-01-02</td>\n",
       "    </tr>\n",
       "    <tr>\n",
       "      <th>2</th>\n",
       "      <td>3</td>\n",
       "      <td>c</td>\n",
       "      <td>2016-01-03</td>\n",
       "    </tr>\n",
       "  </tbody>\n",
       "</table>\n",
       "</div>"
      ],
      "text/plain": [
       "\n",
       "     A  B          C\n",
       "idx                 \n",
       "0    1  a 2016-01-01\n",
       "1    2  b 2016-01-02\n",
       "2    3  c 2016-01-03"
      ]
     },
     "metadata": {},
     "output_type": "display_data"
    }
   ],
   "source": [
    "df = pd.DataFrame(\n",
    "        {'A': [1, 2, 3],\n",
    "         'B': ['a', 'b', 'c'],\n",
    "         'C': pd.date_range('2016-01-01', freq='d', periods=3),\n",
    "        }, index=pd.Index(range(3), name='idx'))\n",
    "df"
   ]
  },
  {
   "cell_type": "code",
   "execution_count": 3,
   "metadata": {
    "collapsed": true,
    "nbpresent": {
     "id": "788bb619-5c8f-452d-a6fe-8e4ce20f2807"
    },
    "slideshow": {
     "slide_type": "slide"
    }
   },
   "outputs": [],
   "source": [
    "import uuid\n",
    "from IPython.display import display_javascript, display_html, display\n",
    "import json\n",
    "\n",
    "class RenderJSON(object):\n",
    "    def __init__(self, json_data):\n",
    "        if isinstance(json_data, dict):\n",
    "            self.json_str = json.dumps(json_data)\n",
    "        else:\n",
    "            self.json_str = json_data\n",
    "        self.uuid = str(uuid.uuid4())\n",
    "\n",
    "    def _ipython_display_(self):\n",
    "        display_html('<div id=\"{}\" style=\"height: 600px; width:100%;\"></div>'.format(self.uuid), raw=True)\n",
    "        display_javascript(\"\"\"\n",
    "        require([\"https://rawgit.com/caldwell/renderjson/master/renderjson.js\"], function() {\n",
    "        document.getElementById('%s').appendChild(renderjson(%s))\n",
    "        });\n",
    "        \"\"\" % (self.uuid, self.json_str), raw=True)"
   ]
  },
  {
   "cell_type": "code",
   "execution_count": 4,
   "metadata": {
    "collapsed": false,
    "slideshow": {
     "slide_type": "subslide"
    }
   },
   "outputs": [
    {
     "data": {
      "text/plain": [
       "'{\"schema\": {\"fields\":[{\"name\":\"idx\",\"type\":\"integer\"},{\"name\":\"A\",\"type\":\"integer\"},{\"name\":\"B\",\"type\":\"string\"},{\"name\":\"C\",\"type\":\"datetime\"}],\"primaryKey\":[\"idx\"],\"pandas_version\":\"0.20.0\"}, \"data\": [{\"idx\":0,\"A\":1,\"B\":\"a\",\"C\":\"2016-01-01T00:00:00.000Z\"},{\"idx\":1,\"A\":2,\"B\":\"b\",\"C\":\"2016-01-02T00:00:00.000Z\"},{\"idx\":2,\"A\":3,\"B\":\"c\",\"C\":\"2016-01-03T00:00:00.000Z\"}]}'"
      ]
     },
     "execution_count": 4,
     "metadata": {},
     "output_type": "execute_result"
    }
   ],
   "source": [
    "df.to_json(orient='table')"
   ]
  },
  {
   "cell_type": "code",
   "execution_count": 5,
   "metadata": {
    "collapsed": false,
    "nbpresent": {
     "id": "005a63f1-0359-4089-bab8-b45d448a19b3"
    },
    "slideshow": {
     "slide_type": "slide"
    }
   },
   "outputs": [
    {
     "data": {
      "text/html": [
       "<div id=\"e4fb4d84-97a9-43b8-b514-3ae83b9db475\" style=\"height: 600px; width:100%;\"></div>"
      ]
     },
     "metadata": {},
     "output_type": "display_data"
    },
    {
     "data": {
      "application/javascript": [
       "\n",
       "        require([\"https://rawgit.com/caldwell/renderjson/master/renderjson.js\"], function() {\n",
       "        document.getElementById('e4fb4d84-97a9-43b8-b514-3ae83b9db475').appendChild(renderjson({\"schema\": {\"fields\":[{\"name\":\"idx\",\"type\":\"integer\"},{\"name\":\"A\",\"type\":\"integer\"},{\"name\":\"B\",\"type\":\"string\"},{\"name\":\"C\",\"type\":\"datetime\"}],\"primaryKey\":[\"idx\"],\"pandas_version\":\"0.20.0\"}, \"data\": [{\"idx\":0,\"A\":1,\"B\":\"a\",\"C\":\"2016-01-01T00:00:00.000Z\"},{\"idx\":1,\"A\":2,\"B\":\"b\",\"C\":\"2016-01-02T00:00:00.000Z\"},{\"idx\":2,\"A\":3,\"B\":\"c\",\"C\":\"2016-01-03T00:00:00.000Z\"}]}))\n",
       "        });\n",
       "        "
      ]
     },
     "metadata": {},
     "output_type": "display_data"
    }
   ],
   "source": [
    "RenderJSON(df.to_json(orient='table'))"
   ]
  },
  {
   "cell_type": "markdown",
   "metadata": {
    "nbpresent": {
     "id": "3cc41221-ebe7-46a2-a7a6-1feb85f7e04b"
    },
    "slideshow": {
     "slide_type": "slide"
    }
   },
   "source": [
    "## deprecate .ix"
   ]
  },
  {
   "cell_type": "code",
   "execution_count": 6,
   "metadata": {
    "collapsed": false,
    "nbpresent": {
     "id": "e4107619-7222-4638-ba5f-f1b9a05ee208"
    },
    "slideshow": {
     "slide_type": "subslide"
    }
   },
   "outputs": [
    {
     "data": {
      "text/html": [
       "<div>\n",
       "<table border=\"1\" class=\"dataframe\">\n",
       "  <thead>\n",
       "    <tr style=\"text-align: right;\">\n",
       "      <th></th>\n",
       "      <th>A</th>\n",
       "      <th>B</th>\n",
       "    </tr>\n",
       "  </thead>\n",
       "  <tbody>\n",
       "    <tr>\n",
       "      <th>a</th>\n",
       "      <td>1</td>\n",
       "      <td>4</td>\n",
       "    </tr>\n",
       "    <tr>\n",
       "      <th>b</th>\n",
       "      <td>2</td>\n",
       "      <td>5</td>\n",
       "    </tr>\n",
       "    <tr>\n",
       "      <th>c</th>\n",
       "      <td>3</td>\n",
       "      <td>6</td>\n",
       "    </tr>\n",
       "  </tbody>\n",
       "</table>\n",
       "</div>"
      ],
      "text/plain": [
       "\n",
       "   A  B\n",
       "a  1  4\n",
       "b  2  5\n",
       "c  3  6"
      ]
     },
     "metadata": {},
     "output_type": "display_data"
    }
   ],
   "source": [
    "df = pd.DataFrame({'A': [1, 2, 3],\n",
    "                   'B': [4, 5, 6]},\n",
    "                index=list('abc'))\n",
    "df"
   ]
  },
  {
   "cell_type": "code",
   "execution_count": 7,
   "metadata": {
    "collapsed": false,
    "nbpresent": {
     "id": "936b372d-b8eb-4de1-8050-8ae2547bc678"
    },
    "slideshow": {
     "slide_type": "subslide"
    }
   },
   "outputs": [
    {
     "name": "stderr",
     "output_type": "stream",
     "text": [
      "/Users/jreback/miniconda3/envs/agg/lib/python3.6/site-packages/IPython/kernel/__main__.py:1: DeprecationWarning: \n",
      ".ix is deprecated. Please use\n",
      ".loc for label based indexing or\n",
      ".iloc for positional indexing\n",
      "\n",
      "See the documentation here:\n",
      "http://pandas.pydata.org/pandas-docs/stable/indexing.html#deprecate_ix\n",
      "  if __name__ == '__main__':\n"
     ]
    },
    {
     "data": {
      "text/plain": [
       "\n",
       "a    1\n",
       "c    3\n",
       "Name: A, dtype: int64"
      ]
     },
     "metadata": {},
     "output_type": "display_data"
    }
   ],
   "source": [
    "df.ix[[0, 2], 'A']"
   ]
  },
  {
   "cell_type": "code",
   "execution_count": 8,
   "metadata": {
    "collapsed": false,
    "nbpresent": {
     "id": "c45bc51f-93b4-4c14-a5ca-b503fd2b92c6"
    },
    "slideshow": {
     "slide_type": "fragment"
    }
   },
   "outputs": [
    {
     "data": {
      "text/plain": [
       "\n",
       "a    1\n",
       "c    3\n",
       "Name: A, dtype: int64"
      ]
     },
     "metadata": {},
     "output_type": "display_data"
    }
   ],
   "source": [
    "df.loc[df.index[[0, 2]], 'A']"
   ]
  },
  {
   "cell_type": "code",
   "execution_count": 9,
   "metadata": {
    "collapsed": false,
    "nbpresent": {
     "id": "bea6a765-45ff-4172-a9bf-3788575db944"
    },
    "slideshow": {
     "slide_type": "fragment"
    }
   },
   "outputs": [
    {
     "data": {
      "text/plain": [
       "\n",
       "a    1\n",
       "c    3\n",
       "Name: A, dtype: int64"
      ]
     },
     "metadata": {},
     "output_type": "display_data"
    }
   ],
   "source": [
    "df.iloc[[0, 2], df.columns.get_loc('A')]"
   ]
  },
  {
   "cell_type": "markdown",
   "metadata": {
    "collapsed": true,
    "slideshow": {
     "slide_type": "slide"
    }
   },
   "source": [
    "## Panel Deprecation"
   ]
  },
  {
   "cell_type": "code",
   "execution_count": 10,
   "metadata": {
    "collapsed": false,
    "slideshow": {
     "slide_type": "slide"
    }
   },
   "outputs": [
    {
     "data": {
      "text/plain": [
       "\n",
       "<class 'pandas.core.panel.Panel'>\n",
       "Dimensions: 3 (items) x 30 (major_axis) x 4 (minor_axis)\n",
       "Items axis: ItemA to ItemC\n",
       "Major_axis axis: 2000-01-03 00:00:00 to 2000-02-11 00:00:00\n",
       "Minor_axis axis: A to D"
      ]
     },
     "metadata": {},
     "output_type": "display_data"
    }
   ],
   "source": [
    "from pandas.util import testing as tm\n",
    "p = tm.makePanel()\n",
    "p"
   ]
  },
  {
   "cell_type": "code",
   "execution_count": 11,
   "metadata": {
    "collapsed": false,
    "slideshow": {
     "slide_type": "fragment"
    }
   },
   "outputs": [
    {
     "data": {
      "text/html": [
       "<div>\n",
       "<table border=\"1\" class=\"dataframe\">\n",
       "  <thead>\n",
       "    <tr style=\"text-align: right;\">\n",
       "      <th></th>\n",
       "      <th></th>\n",
       "      <th>ItemA</th>\n",
       "      <th>ItemB</th>\n",
       "      <th>ItemC</th>\n",
       "    </tr>\n",
       "    <tr>\n",
       "      <th>major</th>\n",
       "      <th>minor</th>\n",
       "      <th></th>\n",
       "      <th></th>\n",
       "      <th></th>\n",
       "    </tr>\n",
       "  </thead>\n",
       "  <tbody>\n",
       "    <tr>\n",
       "      <th rowspan=\"4\" valign=\"top\">2000-01-03</th>\n",
       "      <th>A</th>\n",
       "      <td>0.554375</td>\n",
       "      <td>0.102788</td>\n",
       "      <td>0.252704</td>\n",
       "    </tr>\n",
       "    <tr>\n",
       "      <th>B</th>\n",
       "      <td>-1.008729</td>\n",
       "      <td>-1.743201</td>\n",
       "      <td>-1.504752</td>\n",
       "    </tr>\n",
       "    <tr>\n",
       "      <th>C</th>\n",
       "      <td>-0.863862</td>\n",
       "      <td>-0.154922</td>\n",
       "      <td>-0.003295</td>\n",
       "    </tr>\n",
       "    <tr>\n",
       "      <th>D</th>\n",
       "      <td>-0.590095</td>\n",
       "      <td>0.133610</td>\n",
       "      <td>-1.397518</td>\n",
       "    </tr>\n",
       "    <tr>\n",
       "      <th rowspan=\"2\" valign=\"top\">2000-01-04</th>\n",
       "      <th>A</th>\n",
       "      <td>2.742404</td>\n",
       "      <td>-1.385856</td>\n",
       "      <td>1.024589</td>\n",
       "    </tr>\n",
       "    <tr>\n",
       "      <th>B</th>\n",
       "      <td>-0.522179</td>\n",
       "      <td>0.221957</td>\n",
       "      <td>0.777994</td>\n",
       "    </tr>\n",
       "    <tr>\n",
       "      <th>...</th>\n",
       "      <th>...</th>\n",
       "      <td>...</td>\n",
       "      <td>...</td>\n",
       "      <td>...</td>\n",
       "    </tr>\n",
       "    <tr>\n",
       "      <th rowspan=\"2\" valign=\"top\">2000-02-10</th>\n",
       "      <th>C</th>\n",
       "      <td>1.164913</td>\n",
       "      <td>-0.723135</td>\n",
       "      <td>0.483671</td>\n",
       "    </tr>\n",
       "    <tr>\n",
       "      <th>D</th>\n",
       "      <td>0.615187</td>\n",
       "      <td>-0.437562</td>\n",
       "      <td>-0.940147</td>\n",
       "    </tr>\n",
       "    <tr>\n",
       "      <th rowspan=\"4\" valign=\"top\">2000-02-11</th>\n",
       "      <th>A</th>\n",
       "      <td>1.255148</td>\n",
       "      <td>-0.301200</td>\n",
       "      <td>0.157915</td>\n",
       "    </tr>\n",
       "    <tr>\n",
       "      <th>B</th>\n",
       "      <td>1.240764</td>\n",
       "      <td>-1.128344</td>\n",
       "      <td>-2.211801</td>\n",
       "    </tr>\n",
       "    <tr>\n",
       "      <th>C</th>\n",
       "      <td>1.298236</td>\n",
       "      <td>0.610738</td>\n",
       "      <td>0.537774</td>\n",
       "    </tr>\n",
       "    <tr>\n",
       "      <th>D</th>\n",
       "      <td>0.936670</td>\n",
       "      <td>-0.101723</td>\n",
       "      <td>0.913355</td>\n",
       "    </tr>\n",
       "  </tbody>\n",
       "</table>\n",
       "<p>120 rows × 3 columns</p>\n",
       "</div>"
      ],
      "text/plain": [
       "\n",
       "                     ItemA     ItemB     ItemC\n",
       "major      minor                              \n",
       "2000-01-03 A      0.554375  0.102788  0.252704\n",
       "           B     -1.008729 -1.743201 -1.504752\n",
       "           C     -0.863862 -0.154922 -0.003295\n",
       "           D     -0.590095  0.133610 -1.397518\n",
       "2000-01-04 A      2.742404 -1.385856  1.024589\n",
       "           B     -0.522179  0.221957  0.777994\n",
       "...                    ...       ...       ...\n",
       "2000-02-10 C      1.164913 -0.723135  0.483671\n",
       "           D      0.615187 -0.437562 -0.940147\n",
       "2000-02-11 A      1.255148 -0.301200  0.157915\n",
       "           B      1.240764 -1.128344 -2.211801\n",
       "           C      1.298236  0.610738  0.537774\n",
       "           D      0.936670 -0.101723  0.913355\n",
       "\n",
       "[120 rows x 3 columns]"
      ]
     },
     "metadata": {},
     "output_type": "display_data"
    }
   ],
   "source": [
    "p.to_frame()"
   ]
  },
  {
   "cell_type": "code",
   "execution_count": 12,
   "metadata": {
    "collapsed": false,
    "slideshow": {
     "slide_type": "subslide"
    }
   },
   "outputs": [
    {
     "name": "stderr",
     "output_type": "stream",
     "text": [
      "/Users/jreback/miniconda3/envs/agg/lib/python3.6/site-packages/xarray/core/formatting.py:16: FutureWarning: The pandas.tslib module is deprecated and will be removed in a future version. Please import from the pandas._libs.tslib instead\n",
      "  from pandas.tslib import OutOfBoundsDatetime\n"
     ]
    },
    {
     "data": {
      "text/plain": [
       "<xarray.DataArray (items: 3, major_axis: 30, minor_axis: 4)>\n",
       "array([[[ 0.554375, -1.008729, -0.863862, -0.590095],\n",
       "        [ 2.742404, -0.522179,  0.156641, -0.526499],\n",
       "        ..., \n",
       "        [-0.209677, -0.671472,  1.164913,  0.615187],\n",
       "        [ 1.255148,  1.240764,  1.298236,  0.93667 ]],\n",
       "\n",
       "       [[ 0.102788, -1.743201, -0.154922,  0.13361 ],\n",
       "        [-1.385856,  0.221957, -0.223744,  0.221995],\n",
       "        ..., \n",
       "        [-0.030756, -1.291795, -0.723135, -0.437562],\n",
       "        [-0.3012  , -1.128344,  0.610738, -0.101723]],\n",
       "\n",
       "       [[ 0.252704, -1.504752, -0.003295, -1.397518],\n",
       "        [ 1.024589,  0.777994,  0.970927, -0.793256],\n",
       "        ..., \n",
       "        [-0.547522, -0.552909,  0.483671, -0.940147],\n",
       "        [ 0.157915, -2.211801,  0.537774,  0.913355]]])\n",
       "Coordinates:\n",
       "  * items       (items) object 'ItemA' 'ItemB' 'ItemC'\n",
       "  * major_axis  (major_axis) datetime64[ns] 2000-01-03 2000-01-04 2000-01-05 ...\n",
       "  * minor_axis  (minor_axis) object 'A' 'B' 'C' 'D'"
      ]
     },
     "execution_count": 12,
     "metadata": {},
     "output_type": "execute_result"
    }
   ],
   "source": [
    "p.to_xarray()"
   ]
  },
  {
   "cell_type": "markdown",
   "metadata": {
    "slideshow": {
     "slide_type": "slide"
    }
   },
   "source": [
    "## I/O Support"
   ]
  },
  {
   "cell_type": "markdown",
   "metadata": {
    "slideshow": {
     "slide_type": "subslide"
    }
   },
   "source": [
    "## Pickle"
   ]
  },
  {
   "cell_type": "code",
   "execution_count": 13,
   "metadata": {
    "collapsed": true,
    "slideshow": {
     "slide_type": "fragment"
    }
   },
   "outputs": [],
   "source": [
    "df = pd.DataFrame({\n",
    "        'A': np.random.randn(1000),\n",
    "        'B': 'foo'})"
   ]
  },
  {
   "cell_type": "code",
   "execution_count": 14,
   "metadata": {
    "collapsed": true,
    "slideshow": {
     "slide_type": "fragment"
    }
   },
   "outputs": [],
   "source": [
    "df.to_pickle('foo.pkl', compression='gzip')"
   ]
  },
  {
   "cell_type": "code",
   "execution_count": 15,
   "metadata": {
    "collapsed": false,
    "slideshow": {
     "slide_type": "fragment"
    }
   },
   "outputs": [
    {
     "data": {
      "text/html": [
       "<div>\n",
       "<table border=\"1\" class=\"dataframe\">\n",
       "  <thead>\n",
       "    <tr style=\"text-align: right;\">\n",
       "      <th></th>\n",
       "      <th>A</th>\n",
       "      <th>B</th>\n",
       "    </tr>\n",
       "  </thead>\n",
       "  <tbody>\n",
       "    <tr>\n",
       "      <th>0</th>\n",
       "      <td>-0.300678</td>\n",
       "      <td>foo</td>\n",
       "    </tr>\n",
       "    <tr>\n",
       "      <th>1</th>\n",
       "      <td>-0.526549</td>\n",
       "      <td>foo</td>\n",
       "    </tr>\n",
       "    <tr>\n",
       "      <th>2</th>\n",
       "      <td>-0.345750</td>\n",
       "      <td>foo</td>\n",
       "    </tr>\n",
       "    <tr>\n",
       "      <th>3</th>\n",
       "      <td>-1.635370</td>\n",
       "      <td>foo</td>\n",
       "    </tr>\n",
       "    <tr>\n",
       "      <th>4</th>\n",
       "      <td>-1.316605</td>\n",
       "      <td>foo</td>\n",
       "    </tr>\n",
       "    <tr>\n",
       "      <th>5</th>\n",
       "      <td>-0.654825</td>\n",
       "      <td>foo</td>\n",
       "    </tr>\n",
       "    <tr>\n",
       "      <th>...</th>\n",
       "      <td>...</td>\n",
       "      <td>...</td>\n",
       "    </tr>\n",
       "    <tr>\n",
       "      <th>994</th>\n",
       "      <td>1.200574</td>\n",
       "      <td>foo</td>\n",
       "    </tr>\n",
       "    <tr>\n",
       "      <th>995</th>\n",
       "      <td>-0.621297</td>\n",
       "      <td>foo</td>\n",
       "    </tr>\n",
       "    <tr>\n",
       "      <th>996</th>\n",
       "      <td>-0.610772</td>\n",
       "      <td>foo</td>\n",
       "    </tr>\n",
       "    <tr>\n",
       "      <th>997</th>\n",
       "      <td>-0.897807</td>\n",
       "      <td>foo</td>\n",
       "    </tr>\n",
       "    <tr>\n",
       "      <th>998</th>\n",
       "      <td>0.453490</td>\n",
       "      <td>foo</td>\n",
       "    </tr>\n",
       "    <tr>\n",
       "      <th>999</th>\n",
       "      <td>0.758142</td>\n",
       "      <td>foo</td>\n",
       "    </tr>\n",
       "  </tbody>\n",
       "</table>\n",
       "<p>1000 rows × 2 columns</p>\n",
       "</div>"
      ],
      "text/plain": [
       "\n",
       "            A    B\n",
       "0   -0.300678  foo\n",
       "1   -0.526549  foo\n",
       "2   -0.345750  foo\n",
       "3   -1.635370  foo\n",
       "4   -1.316605  foo\n",
       "5   -0.654825  foo\n",
       "..        ...  ...\n",
       "994  1.200574  foo\n",
       "995 -0.621297  foo\n",
       "996 -0.610772  foo\n",
       "997 -0.897807  foo\n",
       "998  0.453490  foo\n",
       "999  0.758142  foo\n",
       "\n",
       "[1000 rows x 2 columns]"
      ]
     },
     "metadata": {},
     "output_type": "display_data"
    }
   ],
   "source": [
    "pd.read_pickle('foo.pkl', compression='gzip')"
   ]
  },
  {
   "cell_type": "markdown",
   "metadata": {
    "slideshow": {
     "slide_type": "subslide"
    }
   },
   "source": [
    "## Feather"
   ]
  },
  {
   "cell_type": "code",
   "execution_count": 16,
   "metadata": {
    "collapsed": false,
    "slideshow": {
     "slide_type": "fragment"
    }
   },
   "outputs": [
    {
     "name": "stderr",
     "output_type": "stream",
     "text": [
      "/Users/jreback/miniconda3/envs/agg/lib/python3.6/site-packages/feather/api.py:43: FutureWarning: pandas.lib.infer_dtype is deprecated. Please use pandas._libs.lib.infer_dtype instead.\n",
      "  inferred_type = pd.lib.infer_dtype(col)\n"
     ]
    }
   ],
   "source": [
    "df.to_feather('foo.fth')"
   ]
  },
  {
   "cell_type": "code",
   "execution_count": 17,
   "metadata": {
    "collapsed": false,
    "slideshow": {
     "slide_type": "fragment"
    }
   },
   "outputs": [
    {
     "data": {
      "text/html": [
       "<div>\n",
       "<table border=\"1\" class=\"dataframe\">\n",
       "  <thead>\n",
       "    <tr style=\"text-align: right;\">\n",
       "      <th></th>\n",
       "      <th>A</th>\n",
       "      <th>B</th>\n",
       "    </tr>\n",
       "  </thead>\n",
       "  <tbody>\n",
       "    <tr>\n",
       "      <th>0</th>\n",
       "      <td>-0.300678</td>\n",
       "      <td>foo</td>\n",
       "    </tr>\n",
       "    <tr>\n",
       "      <th>1</th>\n",
       "      <td>-0.526549</td>\n",
       "      <td>foo</td>\n",
       "    </tr>\n",
       "    <tr>\n",
       "      <th>2</th>\n",
       "      <td>-0.345750</td>\n",
       "      <td>foo</td>\n",
       "    </tr>\n",
       "    <tr>\n",
       "      <th>3</th>\n",
       "      <td>-1.635370</td>\n",
       "      <td>foo</td>\n",
       "    </tr>\n",
       "    <tr>\n",
       "      <th>4</th>\n",
       "      <td>-1.316605</td>\n",
       "      <td>foo</td>\n",
       "    </tr>\n",
       "    <tr>\n",
       "      <th>5</th>\n",
       "      <td>-0.654825</td>\n",
       "      <td>foo</td>\n",
       "    </tr>\n",
       "    <tr>\n",
       "      <th>...</th>\n",
       "      <td>...</td>\n",
       "      <td>...</td>\n",
       "    </tr>\n",
       "    <tr>\n",
       "      <th>994</th>\n",
       "      <td>1.200574</td>\n",
       "      <td>foo</td>\n",
       "    </tr>\n",
       "    <tr>\n",
       "      <th>995</th>\n",
       "      <td>-0.621297</td>\n",
       "      <td>foo</td>\n",
       "    </tr>\n",
       "    <tr>\n",
       "      <th>996</th>\n",
       "      <td>-0.610772</td>\n",
       "      <td>foo</td>\n",
       "    </tr>\n",
       "    <tr>\n",
       "      <th>997</th>\n",
       "      <td>-0.897807</td>\n",
       "      <td>foo</td>\n",
       "    </tr>\n",
       "    <tr>\n",
       "      <th>998</th>\n",
       "      <td>0.453490</td>\n",
       "      <td>foo</td>\n",
       "    </tr>\n",
       "    <tr>\n",
       "      <th>999</th>\n",
       "      <td>0.758142</td>\n",
       "      <td>foo</td>\n",
       "    </tr>\n",
       "  </tbody>\n",
       "</table>\n",
       "<p>1000 rows × 2 columns</p>\n",
       "</div>"
      ],
      "text/plain": [
       "\n",
       "            A    B\n",
       "0   -0.300678  foo\n",
       "1   -0.526549  foo\n",
       "2   -0.345750  foo\n",
       "3   -1.635370  foo\n",
       "4   -1.316605  foo\n",
       "5   -0.654825  foo\n",
       "..        ...  ...\n",
       "994  1.200574  foo\n",
       "995 -0.621297  foo\n",
       "996 -0.610772  foo\n",
       "997 -0.897807  foo\n",
       "998  0.453490  foo\n",
       "999  0.758142  foo\n",
       "\n",
       "[1000 rows x 2 columns]"
      ]
     },
     "metadata": {},
     "output_type": "display_data"
    }
   ],
   "source": [
    "pd.read_feather('foo.fth')"
   ]
  },
  {
   "cell_type": "markdown",
   "metadata": {
    "slideshow": {
     "slide_type": "subslide"
    }
   },
   "source": [
    "## Parquet"
   ]
  },
  {
   "cell_type": "code",
   "execution_count": 18,
   "metadata": {
    "collapsed": false,
    "slideshow": {
     "slide_type": "fragment"
    }
   },
   "outputs": [],
   "source": [
    "df.to_parquet('foo.pq', engine='pyarrow', compression='gzip')"
   ]
  },
  {
   "cell_type": "code",
   "execution_count": 19,
   "metadata": {
    "collapsed": false,
    "slideshow": {
     "slide_type": "fragment"
    }
   },
   "outputs": [
    {
     "data": {
      "text/html": [
       "<div>\n",
       "<table border=\"1\" class=\"dataframe\">\n",
       "  <thead>\n",
       "    <tr style=\"text-align: right;\">\n",
       "      <th></th>\n",
       "      <th>A</th>\n",
       "      <th>B</th>\n",
       "    </tr>\n",
       "  </thead>\n",
       "  <tbody>\n",
       "    <tr>\n",
       "      <th>0</th>\n",
       "      <td>-0.300678</td>\n",
       "      <td>foo</td>\n",
       "    </tr>\n",
       "    <tr>\n",
       "      <th>1</th>\n",
       "      <td>-0.526549</td>\n",
       "      <td>foo</td>\n",
       "    </tr>\n",
       "    <tr>\n",
       "      <th>2</th>\n",
       "      <td>-0.345750</td>\n",
       "      <td>foo</td>\n",
       "    </tr>\n",
       "    <tr>\n",
       "      <th>3</th>\n",
       "      <td>-1.635370</td>\n",
       "      <td>foo</td>\n",
       "    </tr>\n",
       "    <tr>\n",
       "      <th>4</th>\n",
       "      <td>-1.316605</td>\n",
       "      <td>foo</td>\n",
       "    </tr>\n",
       "    <tr>\n",
       "      <th>5</th>\n",
       "      <td>-0.654825</td>\n",
       "      <td>foo</td>\n",
       "    </tr>\n",
       "    <tr>\n",
       "      <th>...</th>\n",
       "      <td>...</td>\n",
       "      <td>...</td>\n",
       "    </tr>\n",
       "    <tr>\n",
       "      <th>994</th>\n",
       "      <td>1.200574</td>\n",
       "      <td>foo</td>\n",
       "    </tr>\n",
       "    <tr>\n",
       "      <th>995</th>\n",
       "      <td>-0.621297</td>\n",
       "      <td>foo</td>\n",
       "    </tr>\n",
       "    <tr>\n",
       "      <th>996</th>\n",
       "      <td>-0.610772</td>\n",
       "      <td>foo</td>\n",
       "    </tr>\n",
       "    <tr>\n",
       "      <th>997</th>\n",
       "      <td>-0.897807</td>\n",
       "      <td>foo</td>\n",
       "    </tr>\n",
       "    <tr>\n",
       "      <th>998</th>\n",
       "      <td>0.453490</td>\n",
       "      <td>foo</td>\n",
       "    </tr>\n",
       "    <tr>\n",
       "      <th>999</th>\n",
       "      <td>0.758142</td>\n",
       "      <td>foo</td>\n",
       "    </tr>\n",
       "  </tbody>\n",
       "</table>\n",
       "<p>1000 rows × 2 columns</p>\n",
       "</div>"
      ],
      "text/plain": [
       "\n",
       "            A    B\n",
       "0   -0.300678  foo\n",
       "1   -0.526549  foo\n",
       "2   -0.345750  foo\n",
       "3   -1.635370  foo\n",
       "4   -1.316605  foo\n",
       "5   -0.654825  foo\n",
       "..        ...  ...\n",
       "994  1.200574  foo\n",
       "995 -0.621297  foo\n",
       "996 -0.610772  foo\n",
       "997 -0.897807  foo\n",
       "998  0.453490  foo\n",
       "999  0.758142  foo\n",
       "\n",
       "[1000 rows x 2 columns]"
      ]
     },
     "metadata": {},
     "output_type": "display_data"
    }
   ],
   "source": [
    "pd.read_parquet('foo.pq', engine='pyarrow')"
   ]
  }
 ],
 "metadata": {
  "anaconda-cloud": {},
  "celltoolbar": "Slideshow",
  "kernelspec": {
   "display_name": "Environment (agg)",
   "language": "",
   "name": "agg"
  },
  "language_info": {
   "codemirror_mode": {
    "name": "ipython",
    "version": 3
   },
   "file_extension": ".py",
   "mimetype": "text/x-python",
   "name": "python",
   "nbconvert_exporter": "python",
   "pygments_lexer": "ipython3",
   "version": "3.6.1"
  },
  "nbpresent": {
   "slides": {
    "03827f90-5907-43b2-b5d7-222c51383058": {
     "id": "03827f90-5907-43b2-b5d7-222c51383058",
     "prev": "3746d03f-ecc1-4d5a-a1a1-b329ce26493f",
     "regions": {
      "bc731c1d-2fd3-49e3-b02a-9e16272c5d66": {
       "attrs": {
        "height": 0.8,
        "width": 0.8,
        "x": 0.1,
        "y": 0.1
       },
       "content": {
        "cell": "c45bc51f-93b4-4c14-a5ca-b503fd2b92c6",
        "part": "whole"
       },
       "id": "bc731c1d-2fd3-49e3-b02a-9e16272c5d66"
      }
     }
    },
    "1b4fa951-b688-4fd0-92e7-cc9b22665ee3": {
     "id": "1b4fa951-b688-4fd0-92e7-cc9b22665ee3",
     "prev": "7e13050f-50e2-48ed-9b71-cfe42473fd42",
     "regions": {
      "61f4b1e6-3f52-4655-bb93-4780c59c57b2": {
       "attrs": {
        "height": 1,
        "width": 1,
        "x": 0,
        "y": 0
       },
       "id": "61f4b1e6-3f52-4655-bb93-4780c59c57b2"
      }
     }
    },
    "20b49849-dae2-4d6e-9b12-b2c527ff44b6": {
     "id": "20b49849-dae2-4d6e-9b12-b2c527ff44b6",
     "prev": null,
     "regions": {}
    },
    "324a03fa-da72-402e-be1f-4ae490e8d181": {
     "id": "324a03fa-da72-402e-be1f-4ae490e8d181",
     "prev": "03827f90-5907-43b2-b5d7-222c51383058",
     "regions": {
      "a50a5dc9-50a5-4beb-904e-01325d4571e8": {
       "attrs": {
        "height": 0.8,
        "width": 0.8,
        "x": 0.1,
        "y": 0.1
       },
       "content": {
        "cell": "bea6a765-45ff-4172-a9bf-3788575db944",
        "part": "whole"
       },
       "id": "a50a5dc9-50a5-4beb-904e-01325d4571e8"
      }
     }
    },
    "3746d03f-ecc1-4d5a-a1a1-b329ce26493f": {
     "id": "3746d03f-ecc1-4d5a-a1a1-b329ce26493f",
     "prev": "8a53e6d1-5901-48d4-8153-f89bf23becf6",
     "regions": {
      "0be8d387-6666-4847-a5e6-1b01a8d44bbf": {
       "attrs": {
        "height": 0.8,
        "width": 0.8,
        "x": 0.1,
        "y": 0.1
       },
       "content": {
        "cell": "936b372d-b8eb-4de1-8050-8ae2547bc678",
        "part": "whole"
       },
       "id": "0be8d387-6666-4847-a5e6-1b01a8d44bbf"
      }
     }
    },
    "78460fb5-edbb-4a61-b45f-add4607f18ba": {
     "id": "78460fb5-edbb-4a61-b45f-add4607f18ba",
     "prev": "1b4fa951-b688-4fd0-92e7-cc9b22665ee3",
     "regions": {
      "747f362c-e66a-4464-978e-379afa7d2f90": {
       "attrs": {
        "height": 0.8,
        "width": 0.8,
        "x": 0.1,
        "y": 0.1
       },
       "content": {
        "cell": "3cc41221-ebe7-46a2-a7a6-1feb85f7e04b",
        "part": "whole"
       },
       "id": "747f362c-e66a-4464-978e-379afa7d2f90"
      }
     }
    },
    "7e13050f-50e2-48ed-9b71-cfe42473fd42": {
     "id": "7e13050f-50e2-48ed-9b71-cfe42473fd42",
     "prev": "f39c6dd8-1eee-42b5-9311-87ed8456e719",
     "regions": {
      "da663023-029c-4ade-afd4-f01ac2779544": {
       "attrs": {
        "height": 0.8,
        "width": 0.8,
        "x": 0.1,
        "y": 0.1
       },
       "id": "da663023-029c-4ade-afd4-f01ac2779544"
      }
     }
    },
    "8a53e6d1-5901-48d4-8153-f89bf23becf6": {
     "id": "8a53e6d1-5901-48d4-8153-f89bf23becf6",
     "prev": "78460fb5-edbb-4a61-b45f-add4607f18ba",
     "regions": {
      "911874f4-a9c4-45f8-b94b-137e8c952590": {
       "attrs": {
        "height": 0.8,
        "width": 0.8,
        "x": 0.1,
        "y": 0.1
       },
       "content": {
        "cell": "e4107619-7222-4638-ba5f-f1b9a05ee208",
        "part": "whole"
       },
       "id": "911874f4-a9c4-45f8-b94b-137e8c952590"
      }
     }
    },
    "adebe2fd-15fb-45a5-865a-05b21a534060": {
     "id": "adebe2fd-15fb-45a5-865a-05b21a534060",
     "prev": "bd3251cb-1a12-4008-b269-0f8ee196b9b5",
     "regions": {
      "55cb0bfd-fad0-4d75-bb8d-a0eee69df79d": {
       "attrs": {
        "height": 0.8,
        "width": 0.8,
        "x": 0.1,
        "y": 0.1
       },
       "content": {
        "cell": "6a8e3b5f-c439-42d1-a20d-e1bc01765369",
        "part": "whole"
       },
       "id": "55cb0bfd-fad0-4d75-bb8d-a0eee69df79d"
      }
     }
    },
    "bd3251cb-1a12-4008-b269-0f8ee196b9b5": {
     "id": "bd3251cb-1a12-4008-b269-0f8ee196b9b5",
     "prev": "20b49849-dae2-4d6e-9b12-b2c527ff44b6",
     "regions": {
      "316bc593-86dc-4bda-a3f2-f451ff4f931b": {
       "attrs": {
        "height": 0.8,
        "width": 0.8,
        "x": 0.1,
        "y": 0.1
       },
       "content": {
        "cell": "f79f3261-29b7-4ed0-ba24-c5cf6f3c56cc",
        "part": "whole"
       },
       "id": "316bc593-86dc-4bda-a3f2-f451ff4f931b"
      }
     }
    },
    "e8de8406-7fbb-4e74-946a-f38029b31e16": {
     "id": "e8de8406-7fbb-4e74-946a-f38029b31e16",
     "prev": "324a03fa-da72-402e-be1f-4ae490e8d181",
     "regions": {
      "be09a6d4-0219-4c0a-b653-9e96ba5de090": {
       "attrs": {
        "height": 0.8,
        "width": 0.8,
        "x": 0.1,
        "y": 0.1
       },
       "content": {
        "cell": "ef99b8b0-a973-484c-a483-b0c2e43358e4",
        "part": "whole"
       },
       "id": "be09a6d4-0219-4c0a-b653-9e96ba5de090"
      }
     }
    },
    "f39c6dd8-1eee-42b5-9311-87ed8456e719": {
     "id": "f39c6dd8-1eee-42b5-9311-87ed8456e719",
     "prev": "adebe2fd-15fb-45a5-865a-05b21a534060",
     "regions": {
      "eef14ff9-b8b0-4739-864e-63430c7cb7c1": {
       "attrs": {
        "height": 0.8,
        "width": 0.8,
        "x": 0.1,
        "y": 0.1
       },
       "content": {
        "cell": "788bb619-5c8f-452d-a6fe-8e4ce20f2807",
        "part": "whole"
       },
       "id": "eef14ff9-b8b0-4739-864e-63430c7cb7c1"
      }
     }
    }
   },
   "themes": {}
  }
 },
 "nbformat": 4,
 "nbformat_minor": 1
}
