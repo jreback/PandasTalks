{
 "cells": [
  {
   "cell_type": "code",
   "execution_count": 1,
   "metadata": {
    "collapsed": false,
    "nbpresent": {
     "id": "262f7648-2afc-4c24-b7e8-c9feffc14f23"
    },
    "slideshow": {
     "slide_type": "slide"
    }
   },
   "outputs": [
    {
     "data": {
      "text/plain": [
       "'0.19.0+712.g66140df'"
      ]
     },
     "execution_count": 1,
     "metadata": {},
     "output_type": "execute_result"
    }
   ],
   "source": [
    "import pandas as pd\n",
    "pd.options.display.max_rows=12\n",
    "pd.__version__"
   ]
  },
  {
   "cell_type": "markdown",
   "metadata": {
    "nbpresent": {
     "id": "f79f3261-29b7-4ed0-ba24-c5cf6f3c56cc"
    },
    "slideshow": {
     "slide_type": "slide"
    }
   },
   "source": [
    "## build schema\n",
    "\n",
    "https://github.com/nteract/nteract/pull/1534"
   ]
  },
  {
   "cell_type": "code",
   "execution_count": 2,
   "metadata": {
    "collapsed": false,
    "nbpresent": {
     "id": "6a8e3b5f-c439-42d1-a20d-e1bc01765369"
    },
    "slideshow": {
     "slide_type": "subslide"
    }
   },
   "outputs": [
    {
     "data": {
      "text/html": [
       "<div>\n",
       "<table border=\"1\" class=\"dataframe\">\n",
       "  <thead>\n",
       "    <tr style=\"text-align: right;\">\n",
       "      <th></th>\n",
       "      <th>A</th>\n",
       "      <th>B</th>\n",
       "      <th>C</th>\n",
       "    </tr>\n",
       "    <tr>\n",
       "      <th>idx</th>\n",
       "      <th></th>\n",
       "      <th></th>\n",
       "      <th></th>\n",
       "    </tr>\n",
       "  </thead>\n",
       "  <tbody>\n",
       "    <tr>\n",
       "      <th>0</th>\n",
       "      <td>1</td>\n",
       "      <td>a</td>\n",
       "      <td>2016-01-01</td>\n",
       "    </tr>\n",
       "    <tr>\n",
       "      <th>1</th>\n",
       "      <td>2</td>\n",
       "      <td>b</td>\n",
       "      <td>2016-01-02</td>\n",
       "    </tr>\n",
       "    <tr>\n",
       "      <th>2</th>\n",
       "      <td>3</td>\n",
       "      <td>c</td>\n",
       "      <td>2016-01-03</td>\n",
       "    </tr>\n",
       "  </tbody>\n",
       "</table>\n",
       "</div>"
      ],
      "text/plain": [
       "\n",
       "     A  B          C\n",
       "idx                 \n",
       "0    1  a 2016-01-01\n",
       "1    2  b 2016-01-02\n",
       "2    3  c 2016-01-03"
      ]
     },
     "metadata": {},
     "output_type": "display_data"
    }
   ],
   "source": [
    "df = pd.DataFrame(\n",
    "        {'A': [1, 2, 3],\n",
    "         'B': ['a', 'b', 'c'],\n",
    "         'C': pd.date_range('2016-01-01', freq='d', periods=3),\n",
    "        }, index=pd.Index(range(3), name='idx'))\n",
    "df"
   ]
  },
  {
   "cell_type": "code",
   "execution_count": 3,
   "metadata": {
    "collapsed": true,
    "nbpresent": {
     "id": "788bb619-5c8f-452d-a6fe-8e4ce20f2807"
    },
    "slideshow": {
     "slide_type": "slide"
    }
   },
   "outputs": [],
   "source": [
    "import uuid\n",
    "from IPython.display import display_javascript, display_html, display\n",
    "import json\n",
    "\n",
    "class RenderJSON(object):\n",
    "    def __init__(self, json_data):\n",
    "        if isinstance(json_data, dict):\n",
    "            self.json_str = json.dumps(json_data)\n",
    "        else:\n",
    "            self.json_str = json_data\n",
    "        self.uuid = str(uuid.uuid4())\n",
    "\n",
    "    def _ipython_display_(self):\n",
    "        display_html('<div id=\"{}\" style=\"height: 600px; width:100%;\"></div>'.format(self.uuid), raw=True)\n",
    "        display_javascript(\"\"\"\n",
    "        require([\"https://rawgit.com/caldwell/renderjson/master/renderjson.js\"], function() {\n",
    "        document.getElementById('%s').appendChild(renderjson(%s))\n",
    "        });\n",
    "        \"\"\" % (self.uuid, self.json_str), raw=True)"
   ]
  },
  {
   "cell_type": "code",
   "execution_count": 4,
   "metadata": {
    "collapsed": false,
    "slideshow": {
     "slide_type": "subslide"
    }
   },
   "outputs": [
    {
     "data": {
      "text/plain": [
       "'{\"schema\": {\"fields\":[{\"name\":\"idx\",\"type\":\"integer\"},{\"name\":\"A\",\"type\":\"integer\"},{\"name\":\"B\",\"type\":\"string\"},{\"name\":\"C\",\"type\":\"datetime\"}],\"primaryKey\":[\"idx\"],\"pandas_version\":\"0.20.0\"}, \"data\": [{\"idx\":0,\"A\":1,\"B\":\"a\",\"C\":\"2016-01-01T00:00:00.000Z\"},{\"idx\":1,\"A\":2,\"B\":\"b\",\"C\":\"2016-01-02T00:00:00.000Z\"},{\"idx\":2,\"A\":3,\"B\":\"c\",\"C\":\"2016-01-03T00:00:00.000Z\"}]}'"
      ]
     },
     "execution_count": 4,
     "metadata": {},
     "output_type": "execute_result"
    }
   ],
   "source": [
    "df.to_json(orient='table')"
   ]
  },
  {
   "cell_type": "code",
   "execution_count": 5,
   "metadata": {
    "collapsed": false,
    "nbpresent": {
     "id": "005a63f1-0359-4089-bab8-b45d448a19b3"
    },
    "slideshow": {
     "slide_type": "subslide"
    }
   },
   "outputs": [
    {
     "data": {
      "text/html": [
       "<div id=\"87b2cc2f-30df-42ca-9d72-9ef95f28490e\" style=\"height: 600px; width:100%;\"></div>"
      ]
     },
     "metadata": {},
     "output_type": "display_data"
    },
    {
     "data": {
      "application/javascript": [
       "\n",
       "        require([\"https://rawgit.com/caldwell/renderjson/master/renderjson.js\"], function() {\n",
       "        document.getElementById('87b2cc2f-30df-42ca-9d72-9ef95f28490e').appendChild(renderjson({\"schema\": {\"fields\":[{\"name\":\"idx\",\"type\":\"integer\"},{\"name\":\"A\",\"type\":\"integer\"},{\"name\":\"B\",\"type\":\"string\"},{\"name\":\"C\",\"type\":\"datetime\"}],\"primaryKey\":[\"idx\"],\"pandas_version\":\"0.20.0\"}, \"data\": [{\"idx\":0,\"A\":1,\"B\":\"a\",\"C\":\"2016-01-01T00:00:00.000Z\"},{\"idx\":1,\"A\":2,\"B\":\"b\",\"C\":\"2016-01-02T00:00:00.000Z\"},{\"idx\":2,\"A\":3,\"B\":\"c\",\"C\":\"2016-01-03T00:00:00.000Z\"}]}))\n",
       "        });\n",
       "        "
      ]
     },
     "metadata": {},
     "output_type": "display_data"
    }
   ],
   "source": [
    "RenderJSON(df.to_json(orient='table'))"
   ]
  },
  {
   "cell_type": "markdown",
   "metadata": {
    "slideshow": {
     "slide_type": "subslide"
    }
   },
   "source": [
    "<img src=\"https://camo.githubusercontent.com/638215e5f7484a266fe712a4ab59b5931a16a3df/687474703a2f2f672e7265636f726469742e636f2f73675a477843666c426d2e676966\">"
   ]
  },
  {
   "cell_type": "markdown",
   "metadata": {
    "nbpresent": {
     "id": "3cc41221-ebe7-46a2-a7a6-1feb85f7e04b"
    },
    "slideshow": {
     "slide_type": "slide"
    }
   },
   "source": [
    "## deprecate .ix"
   ]
  },
  {
   "cell_type": "code",
   "execution_count": 6,
   "metadata": {
    "collapsed": false,
    "nbpresent": {
     "id": "e4107619-7222-4638-ba5f-f1b9a05ee208"
    },
    "slideshow": {
     "slide_type": "subslide"
    }
   },
   "outputs": [
    {
     "data": {
      "text/html": [
       "<div>\n",
       "<table border=\"1\" class=\"dataframe\">\n",
       "  <thead>\n",
       "    <tr style=\"text-align: right;\">\n",
       "      <th></th>\n",
       "      <th>A</th>\n",
       "      <th>B</th>\n",
       "    </tr>\n",
       "  </thead>\n",
       "  <tbody>\n",
       "    <tr>\n",
       "      <th>a</th>\n",
       "      <td>1</td>\n",
       "      <td>4</td>\n",
       "    </tr>\n",
       "    <tr>\n",
       "      <th>b</th>\n",
       "      <td>2</td>\n",
       "      <td>5</td>\n",
       "    </tr>\n",
       "    <tr>\n",
       "      <th>c</th>\n",
       "      <td>3</td>\n",
       "      <td>6</td>\n",
       "    </tr>\n",
       "  </tbody>\n",
       "</table>\n",
       "</div>"
      ],
      "text/plain": [
       "\n",
       "   A  B\n",
       "a  1  4\n",
       "b  2  5\n",
       "c  3  6"
      ]
     },
     "metadata": {},
     "output_type": "display_data"
    }
   ],
   "source": [
    "df = pd.DataFrame({'A': [1, 2, 3],\n",
    "                   'B': [4, 5, 6]},\n",
    "                index=list('abc'))\n",
    "df"
   ]
  },
  {
   "cell_type": "code",
   "execution_count": 7,
   "metadata": {
    "collapsed": false,
    "nbpresent": {
     "id": "936b372d-b8eb-4de1-8050-8ae2547bc678"
    },
    "slideshow": {
     "slide_type": "subslide"
    }
   },
   "outputs": [
    {
     "name": "stderr",
     "output_type": "stream",
     "text": [
      "/Users/jreback/miniconda3/envs/agg/lib/python3.6/site-packages/IPython/kernel/__main__.py:1: DeprecationWarning: \n",
      ".ix is deprecated. Please use\n",
      ".loc for label based indexing or\n",
      ".iloc for positional indexing\n",
      "\n",
      "See the documentation here:\n",
      "http://pandas.pydata.org/pandas-docs/stable/indexing.html#deprecate_ix\n",
      "  if __name__ == '__main__':\n"
     ]
    },
    {
     "data": {
      "text/plain": [
       "\n",
       "a    1\n",
       "c    3\n",
       "Name: A, dtype: int64"
      ]
     },
     "metadata": {},
     "output_type": "display_data"
    }
   ],
   "source": [
    "df.ix[[0, 2], 'A']"
   ]
  },
  {
   "cell_type": "code",
   "execution_count": 8,
   "metadata": {
    "collapsed": false,
    "nbpresent": {
     "id": "c45bc51f-93b4-4c14-a5ca-b503fd2b92c6"
    },
    "slideshow": {
     "slide_type": "fragment"
    }
   },
   "outputs": [
    {
     "data": {
      "text/plain": [
       "\n",
       "a    1\n",
       "c    3\n",
       "Name: A, dtype: int64"
      ]
     },
     "metadata": {},
     "output_type": "display_data"
    }
   ],
   "source": [
    "df.loc[df.index[[0, 2]], 'A']"
   ]
  },
  {
   "cell_type": "code",
   "execution_count": 9,
   "metadata": {
    "collapsed": false,
    "nbpresent": {
     "id": "bea6a765-45ff-4172-a9bf-3788575db944"
    },
    "slideshow": {
     "slide_type": "fragment"
    }
   },
   "outputs": [
    {
     "data": {
      "text/plain": [
       "\n",
       "a    1\n",
       "c    3\n",
       "Name: A, dtype: int64"
      ]
     },
     "metadata": {},
     "output_type": "display_data"
    }
   ],
   "source": [
    "df.iloc[[0, 2], df.columns.get_loc('A')]"
   ]
  },
  {
   "cell_type": "markdown",
   "metadata": {
    "collapsed": true,
    "slideshow": {
     "slide_type": "slide"
    }
   },
   "source": [
    "## Panel Deprecation"
   ]
  },
  {
   "cell_type": "code",
   "execution_count": 10,
   "metadata": {
    "collapsed": false,
    "slideshow": {
     "slide_type": "slide"
    }
   },
   "outputs": [
    {
     "data": {
      "text/plain": [
       "\n",
       "<class 'pandas.core.panel.Panel'>\n",
       "Dimensions: 3 (items) x 30 (major_axis) x 4 (minor_axis)\n",
       "Items axis: ItemA to ItemC\n",
       "Major_axis axis: 2000-01-03 00:00:00 to 2000-02-11 00:00:00\n",
       "Minor_axis axis: A to D"
      ]
     },
     "metadata": {},
     "output_type": "display_data"
    }
   ],
   "source": [
    "from pandas.util import testing as tm\n",
    "p = tm.makePanel()\n",
    "p"
   ]
  },
  {
   "cell_type": "code",
   "execution_count": 11,
   "metadata": {
    "collapsed": false,
    "slideshow": {
     "slide_type": "fragment"
    }
   },
   "outputs": [
    {
     "data": {
      "text/html": [
       "<div>\n",
       "<table border=\"1\" class=\"dataframe\">\n",
       "  <thead>\n",
       "    <tr style=\"text-align: right;\">\n",
       "      <th></th>\n",
       "      <th></th>\n",
       "      <th>ItemA</th>\n",
       "      <th>ItemB</th>\n",
       "      <th>ItemC</th>\n",
       "    </tr>\n",
       "    <tr>\n",
       "      <th>major</th>\n",
       "      <th>minor</th>\n",
       "      <th></th>\n",
       "      <th></th>\n",
       "      <th></th>\n",
       "    </tr>\n",
       "  </thead>\n",
       "  <tbody>\n",
       "    <tr>\n",
       "      <th rowspan=\"4\" valign=\"top\">2000-01-03</th>\n",
       "      <th>A</th>\n",
       "      <td>-0.375145</td>\n",
       "      <td>0.586722</td>\n",
       "      <td>-1.317563</td>\n",
       "    </tr>\n",
       "    <tr>\n",
       "      <th>B</th>\n",
       "      <td>0.755556</td>\n",
       "      <td>-0.158258</td>\n",
       "      <td>0.939822</td>\n",
       "    </tr>\n",
       "    <tr>\n",
       "      <th>C</th>\n",
       "      <td>0.137546</td>\n",
       "      <td>-0.416288</td>\n",
       "      <td>0.790865</td>\n",
       "    </tr>\n",
       "    <tr>\n",
       "      <th>D</th>\n",
       "      <td>-0.178856</td>\n",
       "      <td>-0.511952</td>\n",
       "      <td>0.452189</td>\n",
       "    </tr>\n",
       "    <tr>\n",
       "      <th rowspan=\"2\" valign=\"top\">2000-01-04</th>\n",
       "      <th>A</th>\n",
       "      <td>1.167450</td>\n",
       "      <td>-1.392837</td>\n",
       "      <td>-0.099673</td>\n",
       "    </tr>\n",
       "    <tr>\n",
       "      <th>B</th>\n",
       "      <td>0.085941</td>\n",
       "      <td>0.991742</td>\n",
       "      <td>-0.122769</td>\n",
       "    </tr>\n",
       "    <tr>\n",
       "      <th>...</th>\n",
       "      <th>...</th>\n",
       "      <td>...</td>\n",
       "      <td>...</td>\n",
       "      <td>...</td>\n",
       "    </tr>\n",
       "    <tr>\n",
       "      <th rowspan=\"2\" valign=\"top\">2000-02-10</th>\n",
       "      <th>C</th>\n",
       "      <td>-0.853315</td>\n",
       "      <td>-1.314359</td>\n",
       "      <td>1.298981</td>\n",
       "    </tr>\n",
       "    <tr>\n",
       "      <th>D</th>\n",
       "      <td>-1.473551</td>\n",
       "      <td>-1.024697</td>\n",
       "      <td>-0.108618</td>\n",
       "    </tr>\n",
       "    <tr>\n",
       "      <th rowspan=\"4\" valign=\"top\">2000-02-11</th>\n",
       "      <th>A</th>\n",
       "      <td>-1.596060</td>\n",
       "      <td>0.315752</td>\n",
       "      <td>-0.457702</td>\n",
       "    </tr>\n",
       "    <tr>\n",
       "      <th>B</th>\n",
       "      <td>-1.175703</td>\n",
       "      <td>0.225676</td>\n",
       "      <td>-2.098909</td>\n",
       "    </tr>\n",
       "    <tr>\n",
       "      <th>C</th>\n",
       "      <td>-0.131263</td>\n",
       "      <td>0.324331</td>\n",
       "      <td>1.504820</td>\n",
       "    </tr>\n",
       "    <tr>\n",
       "      <th>D</th>\n",
       "      <td>-0.897316</td>\n",
       "      <td>-2.263131</td>\n",
       "      <td>-0.331393</td>\n",
       "    </tr>\n",
       "  </tbody>\n",
       "</table>\n",
       "<p>120 rows × 3 columns</p>\n",
       "</div>"
      ],
      "text/plain": [
       "\n",
       "                     ItemA     ItemB     ItemC\n",
       "major      minor                              \n",
       "2000-01-03 A     -0.375145  0.586722 -1.317563\n",
       "           B      0.755556 -0.158258  0.939822\n",
       "           C      0.137546 -0.416288  0.790865\n",
       "           D     -0.178856 -0.511952  0.452189\n",
       "2000-01-04 A      1.167450 -1.392837 -0.099673\n",
       "           B      0.085941  0.991742 -0.122769\n",
       "...                    ...       ...       ...\n",
       "2000-02-10 C     -0.853315 -1.314359  1.298981\n",
       "           D     -1.473551 -1.024697 -0.108618\n",
       "2000-02-11 A     -1.596060  0.315752 -0.457702\n",
       "           B     -1.175703  0.225676 -2.098909\n",
       "           C     -0.131263  0.324331  1.504820\n",
       "           D     -0.897316 -2.263131 -0.331393\n",
       "\n",
       "[120 rows x 3 columns]"
      ]
     },
     "metadata": {},
     "output_type": "display_data"
    }
   ],
   "source": [
    "p.to_frame()"
   ]
  },
  {
   "cell_type": "code",
   "execution_count": 12,
   "metadata": {
    "collapsed": false,
    "slideshow": {
     "slide_type": "subslide"
    }
   },
   "outputs": [
    {
     "name": "stderr",
     "output_type": "stream",
     "text": [
      "/Users/jreback/miniconda3/envs/agg/lib/python3.6/site-packages/xarray/core/formatting.py:16: FutureWarning: The pandas.tslib module is deprecated and will be removed in a future version. Please import from the pandas._libs.tslib instead\n",
      "  from pandas.tslib import OutOfBoundsDatetime\n"
     ]
    },
    {
     "data": {
      "text/plain": [
       "<xarray.DataArray (items: 3, major_axis: 30, minor_axis: 4)>\n",
       "array([[[-0.375145,  0.755556,  0.137546, -0.178856],\n",
       "        [ 1.16745 ,  0.085941, -0.873849,  3.617286],\n",
       "        ..., \n",
       "        [ 0.282738, -0.666555, -0.853315, -1.473551],\n",
       "        [-1.59606 , -1.175703, -0.131263, -0.897316]],\n",
       "\n",
       "       [[ 0.586722, -0.158258, -0.416288, -0.511952],\n",
       "        [-1.392837,  0.991742,  1.147797, -1.218715],\n",
       "        ..., \n",
       "        [ 0.47374 ,  0.891614, -1.314359, -1.024697],\n",
       "        [ 0.315752,  0.225676,  0.324331, -2.263131]],\n",
       "\n",
       "       [[-1.317563,  0.939822,  0.790865,  0.452189],\n",
       "        [-0.099673, -0.122769, -0.255115, -0.384474],\n",
       "        ..., \n",
       "        [ 0.078082,  0.355299,  1.298981, -0.108618],\n",
       "        [-0.457702, -2.098909,  1.50482 , -0.331393]]])\n",
       "Coordinates:\n",
       "  * items       (items) object 'ItemA' 'ItemB' 'ItemC'\n",
       "  * major_axis  (major_axis) datetime64[ns] 2000-01-03 2000-01-04 2000-01-05 ...\n",
       "  * minor_axis  (minor_axis) object 'A' 'B' 'C' 'D'"
      ]
     },
     "execution_count": 12,
     "metadata": {},
     "output_type": "execute_result"
    }
   ],
   "source": [
    "p.to_xarray()"
   ]
  },
  {
   "cell_type": "markdown",
   "metadata": {
    "slideshow": {
     "slide_type": "slide"
    }
   },
   "source": [
    "## I/O Support"
   ]
  },
  {
   "cell_type": "markdown",
   "metadata": {
    "slideshow": {
     "slide_type": "subslide"
    }
   },
   "source": [
    "## Pickle"
   ]
  },
  {
   "cell_type": "code",
   "execution_count": 13,
   "metadata": {
    "collapsed": true,
    "slideshow": {
     "slide_type": "fragment"
    }
   },
   "outputs": [],
   "source": [
    "df = pd.DataFrame({\n",
    "        'A': np.random.randn(1000),\n",
    "        'B': 'foo'})"
   ]
  },
  {
   "cell_type": "code",
   "execution_count": 14,
   "metadata": {
    "collapsed": true,
    "slideshow": {
     "slide_type": "fragment"
    }
   },
   "outputs": [],
   "source": [
    "df.to_pickle('foo.pkl.gzip', compression='gzip')"
   ]
  },
  {
   "cell_type": "code",
   "execution_count": 15,
   "metadata": {
    "collapsed": false,
    "slideshow": {
     "slide_type": "fragment"
    }
   },
   "outputs": [
    {
     "data": {
      "text/html": [
       "<div>\n",
       "<table border=\"1\" class=\"dataframe\">\n",
       "  <thead>\n",
       "    <tr style=\"text-align: right;\">\n",
       "      <th></th>\n",
       "      <th>A</th>\n",
       "      <th>B</th>\n",
       "    </tr>\n",
       "  </thead>\n",
       "  <tbody>\n",
       "    <tr>\n",
       "      <th>0</th>\n",
       "      <td>1.589551</td>\n",
       "      <td>foo</td>\n",
       "    </tr>\n",
       "    <tr>\n",
       "      <th>1</th>\n",
       "      <td>0.652824</td>\n",
       "      <td>foo</td>\n",
       "    </tr>\n",
       "    <tr>\n",
       "      <th>2</th>\n",
       "      <td>-0.655902</td>\n",
       "      <td>foo</td>\n",
       "    </tr>\n",
       "    <tr>\n",
       "      <th>3</th>\n",
       "      <td>-0.920054</td>\n",
       "      <td>foo</td>\n",
       "    </tr>\n",
       "    <tr>\n",
       "      <th>4</th>\n",
       "      <td>0.347747</td>\n",
       "      <td>foo</td>\n",
       "    </tr>\n",
       "    <tr>\n",
       "      <th>5</th>\n",
       "      <td>0.535859</td>\n",
       "      <td>foo</td>\n",
       "    </tr>\n",
       "    <tr>\n",
       "      <th>...</th>\n",
       "      <td>...</td>\n",
       "      <td>...</td>\n",
       "    </tr>\n",
       "    <tr>\n",
       "      <th>994</th>\n",
       "      <td>0.705266</td>\n",
       "      <td>foo</td>\n",
       "    </tr>\n",
       "    <tr>\n",
       "      <th>995</th>\n",
       "      <td>0.296323</td>\n",
       "      <td>foo</td>\n",
       "    </tr>\n",
       "    <tr>\n",
       "      <th>996</th>\n",
       "      <td>0.095735</td>\n",
       "      <td>foo</td>\n",
       "    </tr>\n",
       "    <tr>\n",
       "      <th>997</th>\n",
       "      <td>0.691124</td>\n",
       "      <td>foo</td>\n",
       "    </tr>\n",
       "    <tr>\n",
       "      <th>998</th>\n",
       "      <td>-0.772045</td>\n",
       "      <td>foo</td>\n",
       "    </tr>\n",
       "    <tr>\n",
       "      <th>999</th>\n",
       "      <td>-0.477982</td>\n",
       "      <td>foo</td>\n",
       "    </tr>\n",
       "  </tbody>\n",
       "</table>\n",
       "<p>1000 rows × 2 columns</p>\n",
       "</div>"
      ],
      "text/plain": [
       "\n",
       "            A    B\n",
       "0    1.589551  foo\n",
       "1    0.652824  foo\n",
       "2   -0.655902  foo\n",
       "3   -0.920054  foo\n",
       "4    0.347747  foo\n",
       "5    0.535859  foo\n",
       "..        ...  ...\n",
       "994  0.705266  foo\n",
       "995  0.296323  foo\n",
       "996  0.095735  foo\n",
       "997  0.691124  foo\n",
       "998 -0.772045  foo\n",
       "999 -0.477982  foo\n",
       "\n",
       "[1000 rows x 2 columns]"
      ]
     },
     "metadata": {},
     "output_type": "display_data"
    }
   ],
   "source": [
    "pd.read_pickle('foo.pkl.gzip', compression='gzip')"
   ]
  },
  {
   "cell_type": "markdown",
   "metadata": {
    "slideshow": {
     "slide_type": "subslide"
    }
   },
   "source": [
    "## Feather"
   ]
  },
  {
   "cell_type": "code",
   "execution_count": 16,
   "metadata": {
    "collapsed": false,
    "slideshow": {
     "slide_type": "fragment"
    }
   },
   "outputs": [
    {
     "name": "stderr",
     "output_type": "stream",
     "text": [
      "/Users/jreback/miniconda3/envs/agg/lib/python3.6/site-packages/feather/api.py:43: FutureWarning: pandas.lib.infer_dtype is deprecated. Please use pandas._libs.lib.infer_dtype instead.\n",
      "  inferred_type = pd.lib.infer_dtype(col)\n"
     ]
    }
   ],
   "source": [
    "df.to_feather('foo.fth')"
   ]
  },
  {
   "cell_type": "code",
   "execution_count": 17,
   "metadata": {
    "collapsed": false,
    "slideshow": {
     "slide_type": "fragment"
    }
   },
   "outputs": [
    {
     "data": {
      "text/html": [
       "<div>\n",
       "<table border=\"1\" class=\"dataframe\">\n",
       "  <thead>\n",
       "    <tr style=\"text-align: right;\">\n",
       "      <th></th>\n",
       "      <th>A</th>\n",
       "      <th>B</th>\n",
       "    </tr>\n",
       "  </thead>\n",
       "  <tbody>\n",
       "    <tr>\n",
       "      <th>0</th>\n",
       "      <td>1.589551</td>\n",
       "      <td>foo</td>\n",
       "    </tr>\n",
       "    <tr>\n",
       "      <th>1</th>\n",
       "      <td>0.652824</td>\n",
       "      <td>foo</td>\n",
       "    </tr>\n",
       "    <tr>\n",
       "      <th>2</th>\n",
       "      <td>-0.655902</td>\n",
       "      <td>foo</td>\n",
       "    </tr>\n",
       "    <tr>\n",
       "      <th>3</th>\n",
       "      <td>-0.920054</td>\n",
       "      <td>foo</td>\n",
       "    </tr>\n",
       "    <tr>\n",
       "      <th>4</th>\n",
       "      <td>0.347747</td>\n",
       "      <td>foo</td>\n",
       "    </tr>\n",
       "    <tr>\n",
       "      <th>5</th>\n",
       "      <td>0.535859</td>\n",
       "      <td>foo</td>\n",
       "    </tr>\n",
       "    <tr>\n",
       "      <th>...</th>\n",
       "      <td>...</td>\n",
       "      <td>...</td>\n",
       "    </tr>\n",
       "    <tr>\n",
       "      <th>994</th>\n",
       "      <td>0.705266</td>\n",
       "      <td>foo</td>\n",
       "    </tr>\n",
       "    <tr>\n",
       "      <th>995</th>\n",
       "      <td>0.296323</td>\n",
       "      <td>foo</td>\n",
       "    </tr>\n",
       "    <tr>\n",
       "      <th>996</th>\n",
       "      <td>0.095735</td>\n",
       "      <td>foo</td>\n",
       "    </tr>\n",
       "    <tr>\n",
       "      <th>997</th>\n",
       "      <td>0.691124</td>\n",
       "      <td>foo</td>\n",
       "    </tr>\n",
       "    <tr>\n",
       "      <th>998</th>\n",
       "      <td>-0.772045</td>\n",
       "      <td>foo</td>\n",
       "    </tr>\n",
       "    <tr>\n",
       "      <th>999</th>\n",
       "      <td>-0.477982</td>\n",
       "      <td>foo</td>\n",
       "    </tr>\n",
       "  </tbody>\n",
       "</table>\n",
       "<p>1000 rows × 2 columns</p>\n",
       "</div>"
      ],
      "text/plain": [
       "\n",
       "            A    B\n",
       "0    1.589551  foo\n",
       "1    0.652824  foo\n",
       "2   -0.655902  foo\n",
       "3   -0.920054  foo\n",
       "4    0.347747  foo\n",
       "5    0.535859  foo\n",
       "..        ...  ...\n",
       "994  0.705266  foo\n",
       "995  0.296323  foo\n",
       "996  0.095735  foo\n",
       "997  0.691124  foo\n",
       "998 -0.772045  foo\n",
       "999 -0.477982  foo\n",
       "\n",
       "[1000 rows x 2 columns]"
      ]
     },
     "metadata": {},
     "output_type": "display_data"
    }
   ],
   "source": [
    "pd.read_feather('foo.fth')"
   ]
  },
  {
   "cell_type": "markdown",
   "metadata": {
    "slideshow": {
     "slide_type": "subslide"
    }
   },
   "source": [
    "## Parquet"
   ]
  },
  {
   "cell_type": "code",
   "execution_count": 18,
   "metadata": {
    "collapsed": false,
    "slideshow": {
     "slide_type": "fragment"
    }
   },
   "outputs": [],
   "source": [
    "df.to_parquet('foo.pq', engine='pyarrow', compression='gzip')"
   ]
  },
  {
   "cell_type": "code",
   "execution_count": 19,
   "metadata": {
    "collapsed": false,
    "slideshow": {
     "slide_type": "fragment"
    }
   },
   "outputs": [
    {
     "data": {
      "text/html": [
       "<div>\n",
       "<table border=\"1\" class=\"dataframe\">\n",
       "  <thead>\n",
       "    <tr style=\"text-align: right;\">\n",
       "      <th></th>\n",
       "      <th>A</th>\n",
       "      <th>B</th>\n",
       "    </tr>\n",
       "  </thead>\n",
       "  <tbody>\n",
       "    <tr>\n",
       "      <th>0</th>\n",
       "      <td>1.589551</td>\n",
       "      <td>foo</td>\n",
       "    </tr>\n",
       "    <tr>\n",
       "      <th>1</th>\n",
       "      <td>0.652824</td>\n",
       "      <td>foo</td>\n",
       "    </tr>\n",
       "    <tr>\n",
       "      <th>2</th>\n",
       "      <td>-0.655902</td>\n",
       "      <td>foo</td>\n",
       "    </tr>\n",
       "    <tr>\n",
       "      <th>3</th>\n",
       "      <td>-0.920054</td>\n",
       "      <td>foo</td>\n",
       "    </tr>\n",
       "    <tr>\n",
       "      <th>4</th>\n",
       "      <td>0.347747</td>\n",
       "      <td>foo</td>\n",
       "    </tr>\n",
       "    <tr>\n",
       "      <th>5</th>\n",
       "      <td>0.535859</td>\n",
       "      <td>foo</td>\n",
       "    </tr>\n",
       "    <tr>\n",
       "      <th>...</th>\n",
       "      <td>...</td>\n",
       "      <td>...</td>\n",
       "    </tr>\n",
       "    <tr>\n",
       "      <th>994</th>\n",
       "      <td>0.705266</td>\n",
       "      <td>foo</td>\n",
       "    </tr>\n",
       "    <tr>\n",
       "      <th>995</th>\n",
       "      <td>0.296323</td>\n",
       "      <td>foo</td>\n",
       "    </tr>\n",
       "    <tr>\n",
       "      <th>996</th>\n",
       "      <td>0.095735</td>\n",
       "      <td>foo</td>\n",
       "    </tr>\n",
       "    <tr>\n",
       "      <th>997</th>\n",
       "      <td>0.691124</td>\n",
       "      <td>foo</td>\n",
       "    </tr>\n",
       "    <tr>\n",
       "      <th>998</th>\n",
       "      <td>-0.772045</td>\n",
       "      <td>foo</td>\n",
       "    </tr>\n",
       "    <tr>\n",
       "      <th>999</th>\n",
       "      <td>-0.477982</td>\n",
       "      <td>foo</td>\n",
       "    </tr>\n",
       "  </tbody>\n",
       "</table>\n",
       "<p>1000 rows × 2 columns</p>\n",
       "</div>"
      ],
      "text/plain": [
       "\n",
       "            A    B\n",
       "0    1.589551  foo\n",
       "1    0.652824  foo\n",
       "2   -0.655902  foo\n",
       "3   -0.920054  foo\n",
       "4    0.347747  foo\n",
       "5    0.535859  foo\n",
       "..        ...  ...\n",
       "994  0.705266  foo\n",
       "995  0.296323  foo\n",
       "996  0.095735  foo\n",
       "997  0.691124  foo\n",
       "998 -0.772045  foo\n",
       "999 -0.477982  foo\n",
       "\n",
       "[1000 rows x 2 columns]"
      ]
     },
     "metadata": {},
     "output_type": "display_data"
    }
   ],
   "source": [
    "pd.read_parquet('foo.pq', engine='pyarrow')"
   ]
  },
  {
   "cell_type": "code",
   "execution_count": 20,
   "metadata": {
    "collapsed": true
   },
   "outputs": [],
   "source": [
    "# cleanup\n",
    "import os\n",
    "os.remove('foo.pq')\n",
    "os.remove('foo.fth')\n",
    "os.remove('foo.pkl.gzip')"
   ]
  }
 ],
 "metadata": {
  "anaconda-cloud": {},
  "celltoolbar": "Slideshow",
  "kernelspec": {
   "display_name": "Environment (agg)",
   "language": "",
   "name": "agg"
  },
  "language_info": {
   "codemirror_mode": {
    "name": "ipython",
    "version": 3
   },
   "file_extension": ".py",
   "mimetype": "text/x-python",
   "name": "python",
   "nbconvert_exporter": "python",
   "pygments_lexer": "ipython3",
   "version": "3.6.1"
  },
  "nbpresent": {
   "slides": {
    "03827f90-5907-43b2-b5d7-222c51383058": {
     "id": "03827f90-5907-43b2-b5d7-222c51383058",
     "prev": "3746d03f-ecc1-4d5a-a1a1-b329ce26493f",
     "regions": {
      "bc731c1d-2fd3-49e3-b02a-9e16272c5d66": {
       "attrs": {
        "height": 0.8,
        "width": 0.8,
        "x": 0.1,
        "y": 0.1
       },
       "content": {
        "cell": "c45bc51f-93b4-4c14-a5ca-b503fd2b92c6",
        "part": "whole"
       },
       "id": "bc731c1d-2fd3-49e3-b02a-9e16272c5d66"
      }
     }
    },
    "1b4fa951-b688-4fd0-92e7-cc9b22665ee3": {
     "id": "1b4fa951-b688-4fd0-92e7-cc9b22665ee3",
     "prev": "7e13050f-50e2-48ed-9b71-cfe42473fd42",
     "regions": {
      "61f4b1e6-3f52-4655-bb93-4780c59c57b2": {
       "attrs": {
        "height": 1,
        "width": 1,
        "x": 0,
        "y": 0
       },
       "id": "61f4b1e6-3f52-4655-bb93-4780c59c57b2"
      }
     }
    },
    "20b49849-dae2-4d6e-9b12-b2c527ff44b6": {
     "id": "20b49849-dae2-4d6e-9b12-b2c527ff44b6",
     "prev": null,
     "regions": {}
    },
    "324a03fa-da72-402e-be1f-4ae490e8d181": {
     "id": "324a03fa-da72-402e-be1f-4ae490e8d181",
     "prev": "03827f90-5907-43b2-b5d7-222c51383058",
     "regions": {
      "a50a5dc9-50a5-4beb-904e-01325d4571e8": {
       "attrs": {
        "height": 0.8,
        "width": 0.8,
        "x": 0.1,
        "y": 0.1
       },
       "content": {
        "cell": "bea6a765-45ff-4172-a9bf-3788575db944",
        "part": "whole"
       },
       "id": "a50a5dc9-50a5-4beb-904e-01325d4571e8"
      }
     }
    },
    "3746d03f-ecc1-4d5a-a1a1-b329ce26493f": {
     "id": "3746d03f-ecc1-4d5a-a1a1-b329ce26493f",
     "prev": "8a53e6d1-5901-48d4-8153-f89bf23becf6",
     "regions": {
      "0be8d387-6666-4847-a5e6-1b01a8d44bbf": {
       "attrs": {
        "height": 0.8,
        "width": 0.8,
        "x": 0.1,
        "y": 0.1
       },
       "content": {
        "cell": "936b372d-b8eb-4de1-8050-8ae2547bc678",
        "part": "whole"
       },
       "id": "0be8d387-6666-4847-a5e6-1b01a8d44bbf"
      }
     }
    },
    "78460fb5-edbb-4a61-b45f-add4607f18ba": {
     "id": "78460fb5-edbb-4a61-b45f-add4607f18ba",
     "prev": "1b4fa951-b688-4fd0-92e7-cc9b22665ee3",
     "regions": {
      "747f362c-e66a-4464-978e-379afa7d2f90": {
       "attrs": {
        "height": 0.8,
        "width": 0.8,
        "x": 0.1,
        "y": 0.1
       },
       "content": {
        "cell": "3cc41221-ebe7-46a2-a7a6-1feb85f7e04b",
        "part": "whole"
       },
       "id": "747f362c-e66a-4464-978e-379afa7d2f90"
      }
     }
    },
    "7e13050f-50e2-48ed-9b71-cfe42473fd42": {
     "id": "7e13050f-50e2-48ed-9b71-cfe42473fd42",
     "prev": "f39c6dd8-1eee-42b5-9311-87ed8456e719",
     "regions": {
      "da663023-029c-4ade-afd4-f01ac2779544": {
       "attrs": {
        "height": 0.8,
        "width": 0.8,
        "x": 0.1,
        "y": 0.1
       },
       "id": "da663023-029c-4ade-afd4-f01ac2779544"
      }
     }
    },
    "8a53e6d1-5901-48d4-8153-f89bf23becf6": {
     "id": "8a53e6d1-5901-48d4-8153-f89bf23becf6",
     "prev": "78460fb5-edbb-4a61-b45f-add4607f18ba",
     "regions": {
      "911874f4-a9c4-45f8-b94b-137e8c952590": {
       "attrs": {
        "height": 0.8,
        "width": 0.8,
        "x": 0.1,
        "y": 0.1
       },
       "content": {
        "cell": "e4107619-7222-4638-ba5f-f1b9a05ee208",
        "part": "whole"
       },
       "id": "911874f4-a9c4-45f8-b94b-137e8c952590"
      }
     }
    },
    "adebe2fd-15fb-45a5-865a-05b21a534060": {
     "id": "adebe2fd-15fb-45a5-865a-05b21a534060",
     "prev": "bd3251cb-1a12-4008-b269-0f8ee196b9b5",
     "regions": {
      "55cb0bfd-fad0-4d75-bb8d-a0eee69df79d": {
       "attrs": {
        "height": 0.8,
        "width": 0.8,
        "x": 0.1,
        "y": 0.1
       },
       "content": {
        "cell": "6a8e3b5f-c439-42d1-a20d-e1bc01765369",
        "part": "whole"
       },
       "id": "55cb0bfd-fad0-4d75-bb8d-a0eee69df79d"
      }
     }
    },
    "bd3251cb-1a12-4008-b269-0f8ee196b9b5": {
     "id": "bd3251cb-1a12-4008-b269-0f8ee196b9b5",
     "prev": "20b49849-dae2-4d6e-9b12-b2c527ff44b6",
     "regions": {
      "316bc593-86dc-4bda-a3f2-f451ff4f931b": {
       "attrs": {
        "height": 0.8,
        "width": 0.8,
        "x": 0.1,
        "y": 0.1
       },
       "content": {
        "cell": "f79f3261-29b7-4ed0-ba24-c5cf6f3c56cc",
        "part": "whole"
       },
       "id": "316bc593-86dc-4bda-a3f2-f451ff4f931b"
      }
     }
    },
    "e8de8406-7fbb-4e74-946a-f38029b31e16": {
     "id": "e8de8406-7fbb-4e74-946a-f38029b31e16",
     "prev": "324a03fa-da72-402e-be1f-4ae490e8d181",
     "regions": {
      "be09a6d4-0219-4c0a-b653-9e96ba5de090": {
       "attrs": {
        "height": 0.8,
        "width": 0.8,
        "x": 0.1,
        "y": 0.1
       },
       "content": {
        "cell": "ef99b8b0-a973-484c-a483-b0c2e43358e4",
        "part": "whole"
       },
       "id": "be09a6d4-0219-4c0a-b653-9e96ba5de090"
      }
     }
    },
    "f39c6dd8-1eee-42b5-9311-87ed8456e719": {
     "id": "f39c6dd8-1eee-42b5-9311-87ed8456e719",
     "prev": "adebe2fd-15fb-45a5-865a-05b21a534060",
     "regions": {
      "eef14ff9-b8b0-4739-864e-63430c7cb7c1": {
       "attrs": {
        "height": 0.8,
        "width": 0.8,
        "x": 0.1,
        "y": 0.1
       },
       "content": {
        "cell": "788bb619-5c8f-452d-a6fe-8e4ce20f2807",
        "part": "whole"
       },
       "id": "eef14ff9-b8b0-4739-864e-63430c7cb7c1"
      }
     }
    }
   },
   "themes": {}
  }
 },
 "nbformat": 4,
 "nbformat_minor": 1
}
