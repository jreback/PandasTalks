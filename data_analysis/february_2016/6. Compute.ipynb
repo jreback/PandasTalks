{
 "cells": [
  {
   "cell_type": "markdown",
   "metadata": {
    "slideshow": {
     "slide_type": "slide"
    }
   },
   "source": [
    "# Compute\n",
    "\n",
    "We oftentimes want to interact with other libraries and have them handle pandas objects."
   ]
  },
  {
   "cell_type": "code",
   "execution_count": 58,
   "metadata": {
    "collapsed": false,
    "slideshow": {
     "slide_type": "-"
    }
   },
   "outputs": [],
   "source": [
    "import numpy as np\n",
    "import pandas as pd\n",
    "import seaborn as sns\n",
    "import matplotlib.pyplot as plt\n",
    "%matplotlib inline\n",
    "\n",
    "pd.options.display.max_rows = 8\n",
    "pd.options.display.max_columns = 8"
   ]
  },
  {
   "cell_type": "markdown",
   "metadata": {
    "slideshow": {
     "slide_type": "subslide"
    }
   },
   "source": [
    "We are going to look at some interactions with:\n",
    "\n",
    "- ``scikit-learn``\n",
    "- ``statsmodels``\n",
    "- ``numba`` & ``cython``\n",
    "- ``dask``"
   ]
  },
  {
   "cell_type": "markdown",
   "metadata": {
    "collapsed": true,
    "slideshow": {
     "slide_type": "slide"
    }
   },
   "source": [
    "# Scikit-Learn\n",
    "\n",
    "http://scikit-learn.org/stable/documentation.html"
   ]
  },
  {
   "cell_type": "markdown",
   "metadata": {},
   "source": [
    "Scikit-Learn's algorithms all deal with numpy arrays. typically:\n",
    "\n",
    "- data munging in pandas\n",
    "- pass numpy array to an Estimator\n",
    "- wrap result in a DataFrame or Series"
   ]
  },
  {
   "cell_type": "code",
   "execution_count": 2,
   "metadata": {
    "collapsed": false
   },
   "outputs": [
    {
     "data": {
      "text/plain": [
       "'0.17'"
      ]
     },
     "execution_count": 2,
     "metadata": {},
     "output_type": "execute_result"
    }
   ],
   "source": [
    "import sklearn\n",
    "sklearn.__version__"
   ]
  },
  {
   "cell_type": "code",
   "execution_count": 3,
   "metadata": {
    "collapsed": false,
    "slideshow": {
     "slide_type": "fragment"
    }
   },
   "outputs": [],
   "source": [
    "from sklearn.datasets import california_housing\n",
    "data = california_housing.fetch_california_housing()"
   ]
  },
  {
   "cell_type": "code",
   "execution_count": 4,
   "metadata": {
    "collapsed": false,
    "slideshow": {
     "slide_type": "subslide"
    }
   },
   "outputs": [
    {
     "data": {
      "text/html": [
       "<div>\n",
       "<table border=\"1\" class=\"dataframe\">\n",
       "  <thead>\n",
       "    <tr style=\"text-align: right;\">\n",
       "      <th></th>\n",
       "      <th>MedInc</th>\n",
       "      <th>HouseAge</th>\n",
       "      <th>AveRooms</th>\n",
       "      <th>AveBedrms</th>\n",
       "      <th>Population</th>\n",
       "      <th>AveOccup</th>\n",
       "      <th>Latitude</th>\n",
       "      <th>Longitude</th>\n",
       "    </tr>\n",
       "  </thead>\n",
       "  <tbody>\n",
       "    <tr>\n",
       "      <th>0</th>\n",
       "      <td>8.3252</td>\n",
       "      <td>41.0</td>\n",
       "      <td>6.984127</td>\n",
       "      <td>1.023810</td>\n",
       "      <td>322.0</td>\n",
       "      <td>2.555556</td>\n",
       "      <td>37.88</td>\n",
       "      <td>-122.23</td>\n",
       "    </tr>\n",
       "    <tr>\n",
       "      <th>1</th>\n",
       "      <td>8.3014</td>\n",
       "      <td>21.0</td>\n",
       "      <td>6.238137</td>\n",
       "      <td>0.971880</td>\n",
       "      <td>2401.0</td>\n",
       "      <td>2.109842</td>\n",
       "      <td>37.86</td>\n",
       "      <td>-122.22</td>\n",
       "    </tr>\n",
       "    <tr>\n",
       "      <th>2</th>\n",
       "      <td>7.2574</td>\n",
       "      <td>52.0</td>\n",
       "      <td>8.288136</td>\n",
       "      <td>1.073446</td>\n",
       "      <td>496.0</td>\n",
       "      <td>2.802260</td>\n",
       "      <td>37.85</td>\n",
       "      <td>-122.24</td>\n",
       "    </tr>\n",
       "    <tr>\n",
       "      <th>3</th>\n",
       "      <td>5.6431</td>\n",
       "      <td>52.0</td>\n",
       "      <td>5.817352</td>\n",
       "      <td>1.073059</td>\n",
       "      <td>558.0</td>\n",
       "      <td>2.547945</td>\n",
       "      <td>37.85</td>\n",
       "      <td>-122.25</td>\n",
       "    </tr>\n",
       "    <tr>\n",
       "      <th>...</th>\n",
       "      <td>...</td>\n",
       "      <td>...</td>\n",
       "      <td>...</td>\n",
       "      <td>...</td>\n",
       "      <td>...</td>\n",
       "      <td>...</td>\n",
       "      <td>...</td>\n",
       "      <td>...</td>\n",
       "    </tr>\n",
       "    <tr>\n",
       "      <th>20636</th>\n",
       "      <td>2.5568</td>\n",
       "      <td>18.0</td>\n",
       "      <td>6.114035</td>\n",
       "      <td>1.315789</td>\n",
       "      <td>356.0</td>\n",
       "      <td>3.122807</td>\n",
       "      <td>39.49</td>\n",
       "      <td>-121.21</td>\n",
       "    </tr>\n",
       "    <tr>\n",
       "      <th>20637</th>\n",
       "      <td>1.7000</td>\n",
       "      <td>17.0</td>\n",
       "      <td>5.205543</td>\n",
       "      <td>1.120092</td>\n",
       "      <td>1007.0</td>\n",
       "      <td>2.325635</td>\n",
       "      <td>39.43</td>\n",
       "      <td>-121.22</td>\n",
       "    </tr>\n",
       "    <tr>\n",
       "      <th>20638</th>\n",
       "      <td>1.8672</td>\n",
       "      <td>18.0</td>\n",
       "      <td>5.329513</td>\n",
       "      <td>1.171920</td>\n",
       "      <td>741.0</td>\n",
       "      <td>2.123209</td>\n",
       "      <td>39.43</td>\n",
       "      <td>-121.32</td>\n",
       "    </tr>\n",
       "    <tr>\n",
       "      <th>20639</th>\n",
       "      <td>2.3886</td>\n",
       "      <td>16.0</td>\n",
       "      <td>5.254717</td>\n",
       "      <td>1.162264</td>\n",
       "      <td>1387.0</td>\n",
       "      <td>2.616981</td>\n",
       "      <td>39.37</td>\n",
       "      <td>-121.24</td>\n",
       "    </tr>\n",
       "  </tbody>\n",
       "</table>\n",
       "<p>20640 rows × 8 columns</p>\n",
       "</div>"
      ],
      "text/plain": [
       "       MedInc  HouseAge  AveRooms  AveBedrms  Population  AveOccup  Latitude  Longitude\n",
       "0      8.3252      41.0  6.984127   1.023810       322.0  2.555556     37.88    -122.23\n",
       "1      8.3014      21.0  6.238137   0.971880      2401.0  2.109842     37.86    -122.22\n",
       "2      7.2574      52.0  8.288136   1.073446       496.0  2.802260     37.85    -122.24\n",
       "3      5.6431      52.0  5.817352   1.073059       558.0  2.547945     37.85    -122.25\n",
       "...       ...       ...       ...        ...         ...       ...       ...        ...\n",
       "20636  2.5568      18.0  6.114035   1.315789       356.0  3.122807     39.49    -121.21\n",
       "20637  1.7000      17.0  5.205543   1.120092      1007.0  2.325635     39.43    -121.22\n",
       "20638  1.8672      18.0  5.329513   1.171920       741.0  2.123209     39.43    -121.32\n",
       "20639  2.3886      16.0  5.254717   1.162264      1387.0  2.616981     39.37    -121.24\n",
       "\n",
       "[20640 rows x 8 columns]"
      ]
     },
     "execution_count": 4,
     "metadata": {},
     "output_type": "execute_result"
    }
   ],
   "source": [
    "X = pd.DataFrame(data.data, columns=data.feature_names)\n",
    "X"
   ]
  },
  {
   "cell_type": "code",
   "execution_count": 5,
   "metadata": {
    "collapsed": false,
    "slideshow": {
     "slide_type": "subslide"
    }
   },
   "outputs": [
    {
     "data": {
      "text/plain": [
       "0        4.526\n",
       "1        3.585\n",
       "2        3.521\n",
       "3        3.413\n",
       "         ...  \n",
       "20636    0.771\n",
       "20637    0.923\n",
       "20638    0.847\n",
       "20639    0.894\n",
       "dtype: float64"
      ]
     },
     "execution_count": 5,
     "metadata": {},
     "output_type": "execute_result"
    }
   ],
   "source": [
    "y = pd.Series(data.target)\n",
    "y"
   ]
  },
  {
   "cell_type": "code",
   "execution_count": 6,
   "metadata": {
    "collapsed": false,
    "slideshow": {
     "slide_type": "subslide"
    }
   },
   "outputs": [],
   "source": [
    "from sklearn.ensemble import RandomForestRegressor\n",
    "from sklearn.grid_search import GridSearchCV"
   ]
  },
  {
   "cell_type": "code",
   "execution_count": 7,
   "metadata": {
    "collapsed": false
   },
   "outputs": [
    {
     "name": "stdout",
     "output_type": "stream",
     "text": [
      "CPU times: user 824 ms, sys: 172 ms, total: 996 ms\n",
      "Wall time: 7.54 s\n"
     ]
    }
   ],
   "source": [
    "%%time\n",
    "param_grid = dict(\n",
    "    max_features=np.arange(2, 8),\n",
    "    max_depth=[2, 4],\n",
    "    min_samples_split=[5, 10, 15, 20],\n",
    ")\n",
    "rfc = RandomForestRegressor(n_estimators=10)\n",
    "gs = GridSearchCV(rfc, param_grid, cv=5, n_jobs=-1)\n",
    "gs.fit(X.values, y.values)"
   ]
  },
  {
   "cell_type": "code",
   "execution_count": 8,
   "metadata": {
    "collapsed": false,
    "slideshow": {
     "slide_type": "subslide"
    }
   },
   "outputs": [
    {
     "data": {
      "text/plain": [
       "[mean: 0.16860, std: 0.06366, params: {'max_depth': 2, 'max_features': 2, 'min_samples_split': 5},\n",
       " mean: 0.19697, std: 0.10137, params: {'max_depth': 2, 'max_features': 2, 'min_samples_split': 10},\n",
       " mean: 0.28522, std: 0.07573, params: {'max_depth': 2, 'max_features': 2, 'min_samples_split': 15},\n",
       " mean: 0.21689, std: 0.05659, params: {'max_depth': 2, 'max_features': 2, 'min_samples_split': 20},\n",
       " mean: 0.31457, std: 0.06943, params: {'max_depth': 2, 'max_features': 3, 'min_samples_split': 5},\n",
       " mean: 0.33092, std: 0.08558, params: {'max_depth': 2, 'max_features': 3, 'min_samples_split': 10},\n",
       " mean: 0.33806, std: 0.09457, params: {'max_depth': 2, 'max_features': 3, 'min_samples_split': 15},\n",
       " mean: 0.36483, std: 0.07498, params: {'max_depth': 2, 'max_features': 3, 'min_samples_split': 20},\n",
       " mean: 0.41446, std: 0.06660, params: {'max_depth': 2, 'max_features': 4, 'min_samples_split': 5},\n",
       " mean: 0.37167, std: 0.06066, params: {'max_depth': 2, 'max_features': 4, 'min_samples_split': 10}]"
      ]
     },
     "execution_count": 8,
     "metadata": {},
     "output_type": "execute_result"
    }
   ],
   "source": [
    "scores = gs.grid_scores_\n",
    "scores[:10]"
   ]
  },
  {
   "cell_type": "code",
   "execution_count": 9,
   "metadata": {
    "collapsed": true,
    "slideshow": {
     "slide_type": "subslide"
    }
   },
   "outputs": [],
   "source": [
    "def unpack_grid_scores(scores):\n",
    "    rows = []\n",
    "    params = sorted(scores[0].parameters)\n",
    "    for row in scores:\n",
    "        mean = row.mean_validation_score\n",
    "        std = row.cv_validation_scores.std()\n",
    "        rows.append([mean, std] + [row.parameters[k] for k in params])\n",
    "    return pd.DataFrame(rows, columns=['mean_', 'std_'] + params)"
   ]
  },
  {
   "cell_type": "code",
   "execution_count": 10,
   "metadata": {
    "collapsed": false
   },
   "outputs": [
    {
     "data": {
      "text/html": [
       "<div>\n",
       "<table border=\"1\" class=\"dataframe\">\n",
       "  <thead>\n",
       "    <tr style=\"text-align: right;\">\n",
       "      <th></th>\n",
       "      <th>mean_</th>\n",
       "      <th>std_</th>\n",
       "      <th>max_depth</th>\n",
       "      <th>max_features</th>\n",
       "      <th>min_samples_split</th>\n",
       "    </tr>\n",
       "  </thead>\n",
       "  <tbody>\n",
       "    <tr>\n",
       "      <th>0</th>\n",
       "      <td>0.168600</td>\n",
       "      <td>0.063660</td>\n",
       "      <td>2</td>\n",
       "      <td>2</td>\n",
       "      <td>5</td>\n",
       "    </tr>\n",
       "    <tr>\n",
       "      <th>1</th>\n",
       "      <td>0.196974</td>\n",
       "      <td>0.101366</td>\n",
       "      <td>2</td>\n",
       "      <td>2</td>\n",
       "      <td>10</td>\n",
       "    </tr>\n",
       "    <tr>\n",
       "      <th>2</th>\n",
       "      <td>0.285216</td>\n",
       "      <td>0.075730</td>\n",
       "      <td>2</td>\n",
       "      <td>2</td>\n",
       "      <td>15</td>\n",
       "    </tr>\n",
       "    <tr>\n",
       "      <th>3</th>\n",
       "      <td>0.216886</td>\n",
       "      <td>0.056595</td>\n",
       "      <td>2</td>\n",
       "      <td>2</td>\n",
       "      <td>20</td>\n",
       "    </tr>\n",
       "    <tr>\n",
       "      <th>...</th>\n",
       "      <td>...</td>\n",
       "      <td>...</td>\n",
       "      <td>...</td>\n",
       "      <td>...</td>\n",
       "      <td>...</td>\n",
       "    </tr>\n",
       "    <tr>\n",
       "      <th>44</th>\n",
       "      <td>0.532177</td>\n",
       "      <td>0.074068</td>\n",
       "      <td>4</td>\n",
       "      <td>7</td>\n",
       "      <td>5</td>\n",
       "    </tr>\n",
       "    <tr>\n",
       "      <th>45</th>\n",
       "      <td>0.530026</td>\n",
       "      <td>0.076361</td>\n",
       "      <td>4</td>\n",
       "      <td>7</td>\n",
       "      <td>10</td>\n",
       "    </tr>\n",
       "    <tr>\n",
       "      <th>46</th>\n",
       "      <td>0.533337</td>\n",
       "      <td>0.077606</td>\n",
       "      <td>4</td>\n",
       "      <td>7</td>\n",
       "      <td>15</td>\n",
       "    </tr>\n",
       "    <tr>\n",
       "      <th>47</th>\n",
       "      <td>0.530026</td>\n",
       "      <td>0.076361</td>\n",
       "      <td>4</td>\n",
       "      <td>7</td>\n",
       "      <td>20</td>\n",
       "    </tr>\n",
       "  </tbody>\n",
       "</table>\n",
       "<p>48 rows × 5 columns</p>\n",
       "</div>"
      ],
      "text/plain": [
       "       mean_      std_  max_depth  max_features  min_samples_split\n",
       "0   0.168600  0.063660          2             2                  5\n",
       "1   0.196974  0.101366          2             2                 10\n",
       "2   0.285216  0.075730          2             2                 15\n",
       "3   0.216886  0.056595          2             2                 20\n",
       "..       ...       ...        ...           ...                ...\n",
       "44  0.532177  0.074068          4             7                  5\n",
       "45  0.530026  0.076361          4             7                 10\n",
       "46  0.533337  0.077606          4             7                 15\n",
       "47  0.530026  0.076361          4             7                 20\n",
       "\n",
       "[48 rows x 5 columns]"
      ]
     },
     "execution_count": 10,
     "metadata": {},
     "output_type": "execute_result"
    }
   ],
   "source": [
    "scores = unpack_grid_scores(gs.grid_scores_)\n",
    "scores"
   ]
  },
  {
   "cell_type": "code",
   "execution_count": 11,
   "metadata": {
    "collapsed": false,
    "slideshow": {
     "slide_type": "subslide"
    }
   },
   "outputs": [
    {
     "data": {
      "text/plain": [
       "<seaborn.axisgrid.FacetGrid at 0x11bccc470>"
      ]
     },
     "execution_count": 11,
     "metadata": {},
     "output_type": "execute_result"
    },
    {
     "data": {
      "image/png": "[encoded data removed]",
      "text/plain": [
       "<matplotlib.figure.Figure at 0x11bccc358>"
      ]
     },
     "metadata": {},
     "output_type": "display_data"
    }
   ],
   "source": [
    "(scores\n",
    "       .pipe((sns.factorplot,'data'), \n",
    "             x='max_features', \n",
    "             y='mean_', \n",
    "             hue='max_depth', \n",
    "             col='min_samples_split')\n",
    " )"
   ]
  },
  {
   "cell_type": "code",
   "execution_count": 12,
   "metadata": {
    "collapsed": false,
    "slideshow": {
     "slide_type": "subslide"
    }
   },
   "outputs": [
    {
     "data": {
      "text/plain": [
       "<matplotlib.axes._subplots.AxesSubplot at 0x10bad57b8>"
      ]
     },
     "execution_count": 12,
     "metadata": {},
     "output_type": "execute_result"
    },
    {
     "data": {
      "image/png": "[encoded data removed]",
      "text/plain": [
       "<matplotlib.figure.Figure at 0x11bf33b00>"
      ]
     },
     "metadata": {},
     "output_type": "display_data"
    }
   ],
   "source": [
    "s = pd.Series(gs.best_estimator_.feature_importances_,index=X.columns)\n",
    "(s.sort_values()\n",
    "  .plot\n",
    "  .barh(figsize=(5,8))\n",
    ")"
   ]
  },
  {
   "cell_type": "markdown",
   "metadata": {
    "slideshow": {
     "slide_type": "slide"
    }
   },
   "source": [
    "# Statsmodels\n",
    "\n",
    "http://statsmodels.sourceforge.net/"
   ]
  },
  {
   "cell_type": "code",
   "execution_count": 13,
   "metadata": {
    "collapsed": false,
    "slideshow": {
     "slide_type": "fragment"
    }
   },
   "outputs": [
    {
     "data": {
      "text/plain": [
       "'0.6.1'"
      ]
     },
     "execution_count": 13,
     "metadata": {},
     "output_type": "execute_result"
    }
   ],
   "source": [
    "import statsmodels\n",
    "import statsmodels.api as sm\n",
    "statsmodels.__version__"
   ]
  },
  {
   "cell_type": "code",
   "execution_count": 57,
   "metadata": {
    "collapsed": false,
    "slideshow": {
     "slide_type": "subslide"
    }
   },
   "outputs": [
    {
     "data": {
      "text/html": [
       "<div>\n",
       "<table border=\"1\" class=\"dataframe\">\n",
       "  <thead>\n",
       "    <tr style=\"text-align: right;\">\n",
       "      <th></th>\n",
       "      <th>date</th>\n",
       "      <th>away_team</th>\n",
       "      <th>away_points</th>\n",
       "      <th>home_team</th>\n",
       "      <th>...</th>\n",
       "      <th>away_strength</th>\n",
       "      <th>home_strength</th>\n",
       "      <th>away_rest</th>\n",
       "      <th>home_rest</th>\n",
       "    </tr>\n",
       "    <tr>\n",
       "      <th>game_id</th>\n",
       "      <th></th>\n",
       "      <th></th>\n",
       "      <th></th>\n",
       "      <th></th>\n",
       "      <th></th>\n",
       "      <th></th>\n",
       "      <th></th>\n",
       "      <th></th>\n",
       "      <th></th>\n",
       "    </tr>\n",
       "  </thead>\n",
       "  <tbody>\n",
       "    <tr>\n",
       "      <th>0</th>\n",
       "      <td>2014-10-28 22:30:00</td>\n",
       "      <td>Houston Rockets</td>\n",
       "      <td>108.0</td>\n",
       "      <td>Los Angeles Lakers</td>\n",
       "      <td>...</td>\n",
       "      <td>0.682927</td>\n",
       "      <td>0.256098</td>\n",
       "      <td>NaN</td>\n",
       "      <td>NaN</td>\n",
       "    </tr>\n",
       "    <tr>\n",
       "      <th>1</th>\n",
       "      <td>2014-10-28 20:00:00</td>\n",
       "      <td>Orlando Magic</td>\n",
       "      <td>84.0</td>\n",
       "      <td>New Orleans Pelicans</td>\n",
       "      <td>...</td>\n",
       "      <td>0.304878</td>\n",
       "      <td>0.548780</td>\n",
       "      <td>NaN</td>\n",
       "      <td>NaN</td>\n",
       "    </tr>\n",
       "    <tr>\n",
       "      <th>2</th>\n",
       "      <td>2014-10-28 20:00:00</td>\n",
       "      <td>Dallas Mavericks</td>\n",
       "      <td>100.0</td>\n",
       "      <td>San Antonio Spurs</td>\n",
       "      <td>...</td>\n",
       "      <td>0.609756</td>\n",
       "      <td>0.670732</td>\n",
       "      <td>NaN</td>\n",
       "      <td>NaN</td>\n",
       "    </tr>\n",
       "    <tr>\n",
       "      <th>3</th>\n",
       "      <td>2014-10-29 19:30:00</td>\n",
       "      <td>Brooklyn Nets</td>\n",
       "      <td>105.0</td>\n",
       "      <td>Boston Celtics</td>\n",
       "      <td>...</td>\n",
       "      <td>0.463415</td>\n",
       "      <td>0.487805</td>\n",
       "      <td>NaN</td>\n",
       "      <td>NaN</td>\n",
       "    </tr>\n",
       "    <tr>\n",
       "      <th>4</th>\n",
       "      <td>2014-10-29 19:00:00</td>\n",
       "      <td>Milwaukee Bucks</td>\n",
       "      <td>106.0</td>\n",
       "      <td>Charlotte Hornets</td>\n",
       "      <td>...</td>\n",
       "      <td>0.500000</td>\n",
       "      <td>0.402439</td>\n",
       "      <td>NaN</td>\n",
       "      <td>NaN</td>\n",
       "    </tr>\n",
       "    <tr>\n",
       "      <th>5</th>\n",
       "      <td>2014-10-29 21:00:00</td>\n",
       "      <td>Detroit Pistons</td>\n",
       "      <td>79.0</td>\n",
       "      <td>Denver Nuggets</td>\n",
       "      <td>...</td>\n",
       "      <td>0.390244</td>\n",
       "      <td>0.365854</td>\n",
       "      <td>NaN</td>\n",
       "      <td>NaN</td>\n",
       "    </tr>\n",
       "    <tr>\n",
       "      <th>...</th>\n",
       "      <td>...</td>\n",
       "      <td>...</td>\n",
       "      <td>...</td>\n",
       "      <td>...</td>\n",
       "      <td>...</td>\n",
       "      <td>...</td>\n",
       "      <td>...</td>\n",
       "      <td>...</td>\n",
       "      <td>...</td>\n",
       "    </tr>\n",
       "    <tr>\n",
       "      <th>1230</th>\n",
       "      <td>2015-04-15 20:00:00</td>\n",
       "      <td>Boston Celtics</td>\n",
       "      <td>105.0</td>\n",
       "      <td>Milwaukee Bucks</td>\n",
       "      <td>...</td>\n",
       "      <td>0.487805</td>\n",
       "      <td>0.500000</td>\n",
       "      <td>0.0</td>\n",
       "      <td>1.0</td>\n",
       "    </tr>\n",
       "    <tr>\n",
       "      <th>1231</th>\n",
       "      <td>2015-04-15 20:00:00</td>\n",
       "      <td>Oklahoma City Thunder</td>\n",
       "      <td>138.0</td>\n",
       "      <td>Minnesota Timberwolves</td>\n",
       "      <td>...</td>\n",
       "      <td>0.548780</td>\n",
       "      <td>0.195122</td>\n",
       "      <td>1.0</td>\n",
       "      <td>1.0</td>\n",
       "    </tr>\n",
       "    <tr>\n",
       "      <th>1232</th>\n",
       "      <td>2015-04-15 20:00:00</td>\n",
       "      <td>San Antonio Spurs</td>\n",
       "      <td>103.0</td>\n",
       "      <td>New Orleans Pelicans</td>\n",
       "      <td>...</td>\n",
       "      <td>0.670732</td>\n",
       "      <td>0.548780</td>\n",
       "      <td>2.0</td>\n",
       "      <td>1.0</td>\n",
       "    </tr>\n",
       "    <tr>\n",
       "      <th>1233</th>\n",
       "      <td>2015-04-15 20:00:00</td>\n",
       "      <td>Detroit Pistons</td>\n",
       "      <td>112.0</td>\n",
       "      <td>New York Knicks</td>\n",
       "      <td>...</td>\n",
       "      <td>0.390244</td>\n",
       "      <td>0.207317</td>\n",
       "      <td>1.0</td>\n",
       "      <td>1.0</td>\n",
       "    </tr>\n",
       "    <tr>\n",
       "      <th>1234</th>\n",
       "      <td>2015-04-15 20:00:00</td>\n",
       "      <td>Miami Heat</td>\n",
       "      <td>105.0</td>\n",
       "      <td>Philadelphia 76ers</td>\n",
       "      <td>...</td>\n",
       "      <td>0.451220</td>\n",
       "      <td>0.219512</td>\n",
       "      <td>1.0</td>\n",
       "      <td>1.0</td>\n",
       "    </tr>\n",
       "    <tr>\n",
       "      <th>1235</th>\n",
       "      <td>2015-04-15 19:00:00</td>\n",
       "      <td>Charlotte Hornets</td>\n",
       "      <td>87.0</td>\n",
       "      <td>Toronto Raptors</td>\n",
       "      <td>...</td>\n",
       "      <td>0.402439</td>\n",
       "      <td>0.597561</td>\n",
       "      <td>1.0</td>\n",
       "      <td>-1.0</td>\n",
       "    </tr>\n",
       "  </tbody>\n",
       "</table>\n",
       "<p>1236 rows × 10 columns</p>\n",
       "</div>"
      ],
      "text/plain": [
       "                       date              away_team  away_points               home_team    ...      away_strength home_strength  away_rest  home_rest\n",
       "game_id                                                                                    ...                                                       \n",
       "0       2014-10-28 22:30:00        Houston Rockets        108.0      Los Angeles Lakers    ...           0.682927      0.256098        NaN        NaN\n",
       "1       2014-10-28 20:00:00          Orlando Magic         84.0    New Orleans Pelicans    ...           0.304878      0.548780        NaN        NaN\n",
       "2       2014-10-28 20:00:00       Dallas Mavericks        100.0       San Antonio Spurs    ...           0.609756      0.670732        NaN        NaN\n",
       "3       2014-10-29 19:30:00          Brooklyn Nets        105.0          Boston Celtics    ...           0.463415      0.487805        NaN        NaN\n",
       "4       2014-10-29 19:00:00        Milwaukee Bucks        106.0       Charlotte Hornets    ...           0.500000      0.402439        NaN        NaN\n",
       "5       2014-10-29 21:00:00        Detroit Pistons         79.0          Denver Nuggets    ...           0.390244      0.365854        NaN        NaN\n",
       "...                     ...                    ...          ...                     ...    ...                ...           ...        ...        ...\n",
       "1230    2015-04-15 20:00:00         Boston Celtics        105.0         Milwaukee Bucks    ...           0.487805      0.500000        0.0        1.0\n",
       "1231    2015-04-15 20:00:00  Oklahoma City Thunder        138.0  Minnesota Timberwolves    ...           0.548780      0.195122        1.0        1.0\n",
       "1232    2015-04-15 20:00:00      San Antonio Spurs        103.0    New Orleans Pelicans    ...           0.670732      0.548780        2.0        1.0\n",
       "1233    2015-04-15 20:00:00        Detroit Pistons        112.0         New York Knicks    ...           0.390244      0.207317        1.0        1.0\n",
       "1234    2015-04-15 20:00:00             Miami Heat        105.0      Philadelphia 76ers    ...           0.451220      0.219512        1.0        1.0\n",
       "1235    2015-04-15 19:00:00      Charlotte Hornets         87.0         Toronto Raptors    ...           0.402439      0.597561        1.0       -1.0\n",
       "\n",
       "[1236 rows x 10 columns]"
      ]
     },
     "execution_count": 57,
     "metadata": {},
     "output_type": "execute_result"
    }
   ],
   "source": [
    "# created in 5. Tidy Data\n",
    "df = pd.read_hdf('data/games.hdf','df')\n",
    "df"
   ]
  },
  {
   "cell_type": "code",
   "execution_count": 15,
   "metadata": {
    "collapsed": false,
    "slideshow": {
     "slide_type": "subslide"
    }
   },
   "outputs": [
    {
     "name": "stdout",
     "output_type": "stream",
     "text": [
      "<class 'pandas.core.frame.DataFrame'>\n",
      "Int64Index: 1236 entries, 0 to 1235\n",
      "Data columns (total 10 columns):\n",
      "date             1230 non-null datetime64[ns]\n",
      "away_team        1230 non-null object\n",
      "away_points      1230 non-null float64\n",
      "home_team        1230 non-null object\n",
      "home_points      1230 non-null float64\n",
      "home_win         1236 non-null bool\n",
      "away_strength    1230 non-null float64\n",
      "home_strength    1230 non-null float64\n",
      "away_rest        1217 non-null float64\n",
      "home_rest        1213 non-null float64\n",
      "dtypes: bool(1), datetime64[ns](1), float64(6), object(2)\n",
      "memory usage: 97.8+ KB\n"
     ]
    }
   ],
   "source": [
    "df.info()"
   ]
  },
  {
   "cell_type": "code",
   "execution_count": 16,
   "metadata": {
    "collapsed": true,
    "slideshow": {
     "slide_type": "fragment"
    }
   },
   "outputs": [],
   "source": [
    "df['home_win'] = df.home_win.astype(int)"
   ]
  },
  {
   "cell_type": "code",
   "execution_count": 17,
   "metadata": {
    "collapsed": false,
    "slideshow": {
     "slide_type": "subslide"
    }
   },
   "outputs": [
    {
     "name": "stdout",
     "output_type": "stream",
     "text": [
      "Optimization terminated successfully.\n",
      "         Current function value: 0.564584\n",
      "         Iterations 6\n"
     ]
    }
   ],
   "source": [
    "f ='home_win ~ home_strength + away_strength + home_rest + away_rest'\n",
    "res = (sm\n",
    "         .Logit\n",
    "         .from_formula(f, df)\n",
    "         .fit()\n",
    ")"
   ]
  },
  {
   "cell_type": "code",
   "execution_count": 18,
   "metadata": {
    "collapsed": false,
    "slideshow": {
     "slide_type": "subslide"
    }
   },
   "outputs": [
    {
     "data": {
      "text/html": [
       "<table class=\"simpletable\">\n",
       "<caption>Logit Regression Results</caption>\n",
       "<tr>\n",
       "  <th>Dep. Variable:</th>     <td>home_win</td>     <th>  No. Observations:  </th>  <td>  1213</td>  \n",
       "</tr>\n",
       "<tr>\n",
       "  <th>Model:</th>               <td>Logit</td>      <th>  Df Residuals:      </th>  <td>  1208</td>  \n",
       "</tr>\n",
       "<tr>\n",
       "  <th>Method:</th>               <td>MLE</td>       <th>  Df Model:          </th>  <td>     4</td>  \n",
       "</tr>\n",
       "<tr>\n",
       "  <th>Date:</th>          <td>Fri, 19 Feb 2016</td> <th>  Pseudo R-squ.:     </th>  <td>0.1727</td>  \n",
       "</tr>\n",
       "<tr>\n",
       "  <th>Time:</th>              <td>11:08:08</td>     <th>  Log-Likelihood:    </th> <td> -684.84</td> \n",
       "</tr>\n",
       "<tr>\n",
       "  <th>converged:</th>           <td>True</td>       <th>  LL-Null:           </th> <td> -827.83</td> \n",
       "</tr>\n",
       "<tr>\n",
       "  <th> </th>                      <td> </td>        <th>  LLR p-value:       </th> <td>1.148e-60</td>\n",
       "</tr>\n",
       "</table>\n",
       "<table class=\"simpletable\">\n",
       "<tr>\n",
       "        <td></td>           <th>coef</th>     <th>std err</th>      <th>z</th>      <th>P>|z|</th> <th>[95.0% Conf. Int.]</th> \n",
       "</tr>\n",
       "<tr>\n",
       "  <th>Intercept</th>     <td>   -0.3254</td> <td>    0.296</td> <td>   -1.098</td> <td> 0.272</td> <td>   -0.906     0.255</td>\n",
       "</tr>\n",
       "<tr>\n",
       "  <th>home_strength</th> <td>    5.5558</td> <td>    0.449</td> <td>   12.374</td> <td> 0.000</td> <td>    4.676     6.436</td>\n",
       "</tr>\n",
       "<tr>\n",
       "  <th>away_strength</th> <td>   -4.3365</td> <td>    0.442</td> <td>   -9.817</td> <td> 0.000</td> <td>   -5.202    -3.471</td>\n",
       "</tr>\n",
       "<tr>\n",
       "  <th>home_rest</th>     <td>    0.1215</td> <td>    0.063</td> <td>    1.944</td> <td> 0.052</td> <td>   -0.001     0.244</td>\n",
       "</tr>\n",
       "<tr>\n",
       "  <th>away_rest</th>     <td>   -0.0411</td> <td>    0.061</td> <td>   -0.669</td> <td> 0.503</td> <td>   -0.161     0.079</td>\n",
       "</tr>\n",
       "</table>"
      ],
      "text/plain": [
       "<class 'statsmodels.iolib.summary.Summary'>\n",
       "\"\"\"\n",
       "                           Logit Regression Results                           \n",
       "==============================================================================\n",
       "Dep. Variable:               home_win   No. Observations:                 1213\n",
       "Model:                          Logit   Df Residuals:                     1208\n",
       "Method:                           MLE   Df Model:                            4\n",
       "Date:                Fri, 19 Feb 2016   Pseudo R-squ.:                  0.1727\n",
       "Time:                        11:08:08   Log-Likelihood:                -684.84\n",
       "converged:                       True   LL-Null:                       -827.83\n",
       "                                        LLR p-value:                 1.148e-60\n",
       "=================================================================================\n",
       "                    coef    std err          z      P>|z|      [95.0% Conf. Int.]\n",
       "---------------------------------------------------------------------------------\n",
       "Intercept        -0.3254      0.296     -1.098      0.272        -0.906     0.255\n",
       "home_strength     5.5558      0.449     12.374      0.000         4.676     6.436\n",
       "away_strength    -4.3365      0.442     -9.817      0.000        -5.202    -3.471\n",
       "home_rest         0.1215      0.063      1.944      0.052        -0.001     0.244\n",
       "away_rest        -0.0411      0.061     -0.669      0.503        -0.161     0.079\n",
       "=================================================================================\n",
       "\"\"\""
      ]
     },
     "execution_count": 18,
     "metadata": {},
     "output_type": "execute_result"
    }
   ],
   "source": [
    "res.summary()"
   ]
  },
  {
   "cell_type": "code",
   "execution_count": 19,
   "metadata": {
    "collapsed": false,
    "slideshow": {
     "slide_type": "subslide"
    }
   },
   "outputs": [],
   "source": [
    "df2 = df.assign(rest_difference=df.home_rest - df.away_rest,\n",
    "                spread=df.home_points - df.away_points)\n",
    "\n",
    "f = 'spread ~ home_strength + away_strength + rest_difference'\n",
    "res = (sm\n",
    "         .OLS\n",
    "         .from_formula(f, df2)\n",
    "         .fit()\n",
    "       )"
   ]
  },
  {
   "cell_type": "code",
   "execution_count": 20,
   "metadata": {
    "collapsed": false,
    "slideshow": {
     "slide_type": "subslide"
    }
   },
   "outputs": [
    {
     "data": {
      "text/html": [
       "<table class=\"simpletable\">\n",
       "<caption>OLS Regression Results</caption>\n",
       "<tr>\n",
       "  <th>Dep. Variable:</th>         <td>spread</td>      <th>  R-squared:         </th> <td>   0.236</td>\n",
       "</tr>\n",
       "<tr>\n",
       "  <th>Model:</th>                   <td>OLS</td>       <th>  Adj. R-squared:    </th> <td>   0.234</td>\n",
       "</tr>\n",
       "<tr>\n",
       "  <th>Method:</th>             <td>Least Squares</td>  <th>  F-statistic:       </th> <td>   124.6</td>\n",
       "</tr>\n",
       "<tr>\n",
       "  <th>Date:</th>             <td>Fri, 19 Feb 2016</td> <th>  Prob (F-statistic):</th> <td>2.57e-70</td>\n",
       "</tr>\n",
       "<tr>\n",
       "  <th>Time:</th>                 <td>11:08:08</td>     <th>  Log-Likelihood:    </th> <td> -4712.1</td>\n",
       "</tr>\n",
       "<tr>\n",
       "  <th>No. Observations:</th>      <td>  1213</td>      <th>  AIC:               </th> <td>   9432.</td>\n",
       "</tr>\n",
       "<tr>\n",
       "  <th>Df Residuals:</th>          <td>  1209</td>      <th>  BIC:               </th> <td>   9453.</td>\n",
       "</tr>\n",
       "<tr>\n",
       "  <th>Df Model:</th>              <td>     3</td>      <th>                     </th>     <td> </td>   \n",
       "</tr>\n",
       "<tr>\n",
       "  <th>Covariance Type:</th>      <td>nonrobust</td>    <th>                     </th>     <td> </td>   \n",
       "</tr>\n",
       "</table>\n",
       "<table class=\"simpletable\">\n",
       "<tr>\n",
       "         <td></td>            <th>coef</th>     <th>std err</th>      <th>t</th>      <th>P>|t|</th> <th>[95.0% Conf. Int.]</th> \n",
       "</tr>\n",
       "<tr>\n",
       "  <th>Intercept</th>       <td>   -0.4035</td> <td>    1.546</td> <td>   -0.261</td> <td> 0.794</td> <td>   -3.437     2.630</td>\n",
       "</tr>\n",
       "<tr>\n",
       "  <th>home_strength</th>   <td>   30.8045</td> <td>    2.097</td> <td>   14.687</td> <td> 0.000</td> <td>   26.689    34.919</td>\n",
       "</tr>\n",
       "<tr>\n",
       "  <th>away_strength</th>   <td>  -25.6003</td> <td>    2.105</td> <td>  -12.159</td> <td> 0.000</td> <td>  -29.731   -21.470</td>\n",
       "</tr>\n",
       "<tr>\n",
       "  <th>rest_difference</th> <td>    0.5745</td> <td>    0.278</td> <td>    2.064</td> <td> 0.039</td> <td>    0.028     1.121</td>\n",
       "</tr>\n",
       "</table>\n",
       "<table class=\"simpletable\">\n",
       "<tr>\n",
       "  <th>Omnibus:</th>       <td> 9.335</td> <th>  Durbin-Watson:     </th> <td>   1.997</td>\n",
       "</tr>\n",
       "<tr>\n",
       "  <th>Prob(Omnibus):</th> <td> 0.009</td> <th>  Jarque-Bera (JB):  </th> <td>  11.716</td>\n",
       "</tr>\n",
       "<tr>\n",
       "  <th>Skew:</th>          <td> 0.099</td> <th>  Prob(JB):          </th> <td> 0.00286</td>\n",
       "</tr>\n",
       "<tr>\n",
       "  <th>Kurtosis:</th>      <td> 3.438</td> <th>  Cond. No.          </th> <td>    10.9</td>\n",
       "</tr>\n",
       "</table>"
      ],
      "text/plain": [
       "<class 'statsmodels.iolib.summary.Summary'>\n",
       "\"\"\"\n",
       "                            OLS Regression Results                            \n",
       "==============================================================================\n",
       "Dep. Variable:                 spread   R-squared:                       0.236\n",
       "Model:                            OLS   Adj. R-squared:                  0.234\n",
       "Method:                 Least Squares   F-statistic:                     124.6\n",
       "Date:                Fri, 19 Feb 2016   Prob (F-statistic):           2.57e-70\n",
       "Time:                        11:08:08   Log-Likelihood:                -4712.1\n",
       "No. Observations:                1213   AIC:                             9432.\n",
       "Df Residuals:                    1209   BIC:                             9453.\n",
       "Df Model:                           3                                         \n",
       "Covariance Type:            nonrobust                                         \n",
       "===================================================================================\n",
       "                      coef    std err          t      P>|t|      [95.0% Conf. Int.]\n",
       "-----------------------------------------------------------------------------------\n",
       "Intercept          -0.4035      1.546     -0.261      0.794        -3.437     2.630\n",
       "home_strength      30.8045      2.097     14.687      0.000        26.689    34.919\n",
       "away_strength     -25.6003      2.105    -12.159      0.000       -29.731   -21.470\n",
       "rest_difference     0.5745      0.278      2.064      0.039         0.028     1.121\n",
       "==============================================================================\n",
       "Omnibus:                        9.335   Durbin-Watson:                   1.997\n",
       "Prob(Omnibus):                  0.009   Jarque-Bera (JB):               11.716\n",
       "Skew:                           0.099   Prob(JB):                      0.00286\n",
       "Kurtosis:                       3.438   Cond. No.                         10.9\n",
       "==============================================================================\n",
       "\n",
       "Warnings:\n",
       "[1] Standard Errors assume that the covariance matrix of the errors is correctly specified.\n",
       "\"\"\""
      ]
     },
     "execution_count": 20,
     "metadata": {},
     "output_type": "execute_result"
    }
   ],
   "source": [
    "res.summary()"
   ]
  },
  {
   "cell_type": "markdown",
   "metadata": {
    "slideshow": {
     "slide_type": "slide"
    }
   },
   "source": [
    "# Numba & Cython\n",
    "\n",
    "http://pandas.pydata.org/pandas-docs/stable/enhancingperf.html"
   ]
  },
  {
   "cell_type": "code",
   "execution_count": 21,
   "metadata": {
    "collapsed": false,
    "slideshow": {
     "slide_type": "fragment"
    }
   },
   "outputs": [
    {
     "name": "stderr",
     "output_type": "stream",
     "text": [
      "/Users/jreback/miniconda/envs/talk/lib/python3.5/site-packages/ipykernel/__main__.py:7: DeprecationWarning: using a non-integer number instead of an integer will result in an error in the future\n"
     ]
    }
   ],
   "source": [
    "from numba import jit\n",
    "import cython\n",
    "%load_ext cython\n",
    "\n",
    "np.random.seed(1234)\n",
    "pd.set_option('max_row',12)\n",
    "s = Series(np.random.randn(1e5))\n",
    "com = 20.0"
   ]
  },
  {
   "cell_type": "code",
   "execution_count": 22,
   "metadata": {
    "collapsed": true,
    "slideshow": {
     "slide_type": "subslide"
    }
   },
   "outputs": [],
   "source": [
    "def python(s):\n",
    "    output = Series(index=range(len(s)))\n",
    "\n",
    "    alpha = 1. / (1. + com)\n",
    "    old_weight = 1.0\n",
    "    new_weight = 1.0\n",
    "    weighted_avg = s[0]\n",
    "    output[0] = weighted_avg\n",
    "    \n",
    "    for i in range(1,len(s)):\n",
    "        v = s[i]\n",
    "        old_weight *= (1-alpha)\n",
    "        weighted_avg = ((old_weight * weighted_avg) + \n",
    "                        (new_weight * v)) / (old_weight + new_weight)\n",
    "        old_weight += new_weight\n",
    "        output[i] = weighted_avg\n",
    "        \n",
    "    return output"
   ]
  },
  {
   "cell_type": "code",
   "execution_count": 23,
   "metadata": {
    "collapsed": false,
    "slideshow": {
     "slide_type": "subslide"
    }
   },
   "outputs": [],
   "source": [
    "%%cython\n",
    "cimport cython\n",
    "@cython.wraparound(False)\n",
    "@cython.boundscheck(False)\n",
    "def _cython(double[:] arr, double com, double[:] output):\n",
    "    cdef:\n",
    "        double alpha, old_weight, new_weight, weighted_avg, v\n",
    "        int i\n",
    "    \n",
    "    alpha = 1. / (1. + com)\n",
    "    old_weight = 1.0\n",
    "    new_weight = 1.0\n",
    "    weighted_avg = arr[0]\n",
    "    output[0] = weighted_avg\n",
    "    \n",
    "    for i in range(1,arr.shape[0]):\n",
    "        v = arr[i]\n",
    "        old_weight *= (1-alpha)\n",
    "        weighted_avg = ((old_weight * weighted_avg) + \n",
    "                        (new_weight * v)) / (old_weight + new_weight)\n",
    "        old_weight += new_weight\n",
    "        output[i] = weighted_avg\n",
    "        \n",
    "    return output"
   ]
  },
  {
   "cell_type": "code",
   "execution_count": 24,
   "metadata": {
    "collapsed": true,
    "slideshow": {
     "slide_type": "subslide"
    }
   },
   "outputs": [],
   "source": [
    "def cython1(s):\n",
    "    output = np.empty(len(s),dtype='float64')\n",
    "    _cython(s.values, com, output)\n",
    "    return Series(output)"
   ]
  },
  {
   "cell_type": "code",
   "execution_count": 42,
   "metadata": {
    "collapsed": true,
    "slideshow": {
     "slide_type": "subslide"
    }
   },
   "outputs": [],
   "source": [
    "def cython2(s):\n",
    "    return s.ewm(com=com,adjust=True).mean()"
   ]
  },
  {
   "cell_type": "code",
   "execution_count": 38,
   "metadata": {
    "collapsed": true,
    "slideshow": {
     "slide_type": "subslide"
    }
   },
   "outputs": [],
   "source": [
    "@jit\n",
    "def _numba(arr, output):\n",
    "    alpha = 1. / (1. + com)\n",
    "    old_weight = 1.0\n",
    "    new_weight = 1.0\n",
    "    weighted_avg = arr[0]\n",
    "    output[0] = weighted_avg\n",
    "    \n",
    "    for i in range(1,arr.shape[0]):\n",
    "        v = arr[i]\n",
    "        old_weight *= (1-alpha)\n",
    "        weighted_avg = ((old_weight * weighted_avg) + \n",
    "                        (new_weight * v)) / (old_weight + new_weight)\n",
    "        old_weight += new_weight\n",
    "        output[i] = weighted_avg\n",
    "    \n",
    "\n",
    "def numba(s):\n",
    " \n",
    "    output = np.empty(len(s),dtype='float64')\n",
    "    _numba(s.values, output)\n",
    "    return Series(output)"
   ]
  },
  {
   "cell_type": "code",
   "execution_count": 43,
   "metadata": {
    "collapsed": false,
    "slideshow": {
     "slide_type": "subslide"
    }
   },
   "outputs": [
    {
     "data": {
      "text/plain": [
       "True"
      ]
     },
     "execution_count": 43,
     "metadata": {},
     "output_type": "execute_result"
    }
   ],
   "source": [
    "result1 = python(s)\n",
    "result2 = cython1(s)\n",
    "result3 = cython2(s)\n",
    "result4 = numba(s)\n",
    "result1.equals(\n",
    "    result2) and result1.equals(\n",
    "    result3) and result1.equals(\n",
    "    result4)"
   ]
  },
  {
   "cell_type": "code",
   "execution_count": 44,
   "metadata": {
    "collapsed": false,
    "slideshow": {
     "slide_type": "subslide"
    }
   },
   "outputs": [
    {
     "name": "stdout",
     "output_type": "stream",
     "text": [
      "1 loop, best of 3: 1.43 s per loop\n"
     ]
    }
   ],
   "source": [
    "%timeit python(s)"
   ]
  },
  {
   "cell_type": "code",
   "execution_count": 45,
   "metadata": {
    "collapsed": false,
    "slideshow": {
     "slide_type": "fragment"
    }
   },
   "outputs": [
    {
     "name": "stdout",
     "output_type": "stream",
     "text": [
      "1000 loops, best of 3: 930 µs per loop\n"
     ]
    }
   ],
   "source": [
    "%timeit cython1(s)"
   ]
  },
  {
   "cell_type": "code",
   "execution_count": 46,
   "metadata": {
    "collapsed": false,
    "slideshow": {
     "slide_type": "fragment"
    }
   },
   "outputs": [
    {
     "name": "stdout",
     "output_type": "stream",
     "text": [
      "100 loops, best of 3: 8.82 ms per loop\n"
     ]
    }
   ],
   "source": [
    "%timeit cython2(s)"
   ]
  },
  {
   "cell_type": "code",
   "execution_count": 47,
   "metadata": {
    "collapsed": false,
    "slideshow": {
     "slide_type": "fragment"
    }
   },
   "outputs": [
    {
     "name": "stdout",
     "output_type": "stream",
     "text": [
      "1000 loops, best of 3: 927 µs per loop\n"
     ]
    }
   ],
   "source": [
    "%timeit numba(s)"
   ]
  },
  {
   "cell_type": "markdown",
   "metadata": {
    "slideshow": {
     "slide_type": "slide"
    }
   },
   "source": [
    "# Dask\n",
    "\n",
    "https://dask.readthedocs.org/en/latest/"
   ]
  },
  {
   "cell_type": "code",
   "execution_count": 49,
   "metadata": {
    "collapsed": true
   },
   "outputs": [],
   "source": [
    "import dask.dataframe as dd"
   ]
  },
  {
   "cell_type": "code",
   "execution_count": 50,
   "metadata": {
    "collapsed": false,
    "slideshow": {
     "slide_type": "subslide"
    }
   },
   "outputs": [
    {
     "data": {
      "text/plain": [
       "dd.DataFrame<from_pandas-6bba1156f06742bbdaf58b9d400597eb, divisions=(0, 1250000, 2500000, ..., 8750000, 9999999)>"
      ]
     },
     "execution_count": 50,
     "metadata": {},
     "output_type": "execute_result"
    }
   ],
   "source": [
    "np.random.seed(1234)\n",
    "N = int(1e7)\n",
    "df = DataFrame({'key' : np.random.randint(0,1000,size=N), \n",
    "                'value' : np.random.randn(N)})\n",
    "ddf = dd.from_pandas(df, npartitions=8)\n",
    "ddf"
   ]
  },
  {
   "cell_type": "code",
   "execution_count": 51,
   "metadata": {
    "collapsed": false,
    "slideshow": {
     "slide_type": "subslide"
    }
   },
   "outputs": [
    {
     "name": "stdout",
     "output_type": "stream",
     "text": [
      "1 loop, best of 3: 271 ms per loop\n"
     ]
    }
   ],
   "source": [
    "%timeit df.groupby('key').value.sum()"
   ]
  },
  {
   "cell_type": "code",
   "execution_count": 52,
   "metadata": {
    "collapsed": false,
    "slideshow": {
     "slide_type": "fragment"
    }
   },
   "outputs": [
    {
     "name": "stdout",
     "output_type": "stream",
     "text": [
      "10 loops, best of 3: 121 ms per loop\n"
     ]
    }
   ],
   "source": [
    "d = ddf.groupby('key').value.sum()\n",
    "%timeit d.compute()"
   ]
  },
  {
   "cell_type": "code",
   "execution_count": 53,
   "metadata": {
    "collapsed": false,
    "slideshow": {
     "slide_type": "subslide"
    }
   },
   "outputs": [
    {
     "name": "stdout",
     "output_type": "stream",
     "text": [
      "[########################################] | 100% Completed |  0.2s\n"
     ]
    }
   ],
   "source": [
    "from dask.diagnostics import ProgressBar\n",
    "with ProgressBar():\n",
    "    d.compute()"
   ]
  },
  {
   "cell_type": "code",
   "execution_count": 54,
   "metadata": {
    "collapsed": false,
    "slideshow": {
     "slide_type": "fragment"
    }
   },
   "outputs": [
    {
     "data": {
      "image/png": "[encoded data removed]",
      "text/plain": [
       "<IPython.core.display.Image object>"
      ]
     },
     "execution_count": 54,
     "metadata": {},
     "output_type": "execute_result"
    }
   ],
   "source": [
    "d.visualize()"
   ]
  },
  {
   "cell_type": "code",
   "execution_count": 55,
   "metadata": {
    "collapsed": false,
    "slideshow": {
     "slide_type": "subslide"
    }
   },
   "outputs": [],
   "source": [
    "from dask.diagnostics import Profiler, ResourceProfiler\n",
    "with Profiler() as prof, ResourceProfiler(dt=0.05) as rprof:\n",
    "     out = d.compute()"
   ]
  },
  {
   "cell_type": "code",
   "execution_count": 56,
   "metadata": {
    "collapsed": false,
    "slideshow": {
     "slide_type": "fragment"
    }
   },
   "outputs": [
    {
     "data": {
      "text/html": []
     },
     "metadata": {},
     "output_type": "display_data"
    },
    {
     "data": {
      "application/javascript": [
       "\n",
       "(function(global) {\n",
       "  function now() {\n",
       "    return new Date();\n",
       "  }\n",
       "\n",
       "  if (typeof (window._bokeh_onload_callbacks) === \"undefined\") {\n",
       "    window._bokeh_onload_callbacks = [];\n",
       "  }\n",
       "\n",
       "  function run_callbacks() {\n",
       "    window._bokeh_onload_callbacks.forEach(function(callback) { callback() });\n",
       "    delete window._bokeh_onload_callbacks\n",
       "    console.info(\"Bokeh: all callbacks have finished\");\n",
       "  }\n",
       "\n",
       "  function load_libs(js_urls, callback) {\n",
       "    window._bokeh_onload_callbacks.push(callback);\n",
       "    if (window._bokeh_is_loading > 0) {\n",
       "      console.log(\"Bokeh: BokehJS is being loaded, scheduling callback at\", now());\n",
       "      return null;\n",
       "    }\n",
       "    if (js_urls == null || js_urls.length === 0) {\n",
       "      run_callbacks();\n",
       "      return null;\n",
       "    }\n",
       "    console.log(\"Bokeh: BokehJS not loaded, scheduling load and callback at\", now());\n",
       "    window._bokeh_is_loading = js_urls.length;\n",
       "    for (var i = 0; i < js_urls.length; i++) {\n",
       "      var url = js_urls[i];\n",
       "      var s = document.createElement('script');\n",
       "      s.src = url;\n",
       "      s.async = false;\n",
       "      s.onreadystatechange = s.onload = function() {\n",
       "        window._bokeh_is_loading--;\n",
       "        if (window._bokeh_is_loading === 0) {\n",
       "          console.log(\"Bokeh: all BokehJS libraries loaded\");\n",
       "          run_callbacks()\n",
       "        }\n",
       "      };\n",
       "      s.onerror = function() {\n",
       "        console.warn(\"failed to load library \" + url);\n",
       "      };\n",
       "      console.log(\"Bokeh: injecting script tag for BokehJS library: \", url);\n",
       "      document.getElementsByTagName(\"head\")[0].appendChild(s);\n",
       "    }\n",
       "  };\n",
       "\n",
       "  var js_urls = ['https://cdn.pydata.org/bokeh/release/bokeh-0.11.1.min.js', 'https://cdn.pydata.org/bokeh/release/bokeh-widgets-0.11.1.min.js', 'https://cdn.pydata.org/bokeh/release/bokeh-compiler-0.11.1.min.js'];\n",
       "\n",
       "  var inline_js = [\n",
       "    function(Bokeh) {\n",
       "      Bokeh.set_log_level(\"info\");\n",
       "    },\n",
       "    \n",
       "    function(Bokeh) {\n",
       "      Bokeh.$(\"#c467879a-3a0e-4465-a4e0-1d0ac52a2e8e\").text(\"BokehJS successfully loaded\");\n",
       "    },\n",
       "    function(Bokeh) {\n",
       "      console.log(\"Bokeh: injecting CSS: https://cdn.pydata.org/bokeh/release/bokeh-0.11.1.min.css\");\n",
       "      Bokeh.embed.inject_css(\"https://cdn.pydata.org/bokeh/release/bokeh-0.11.1.min.css\");\n",
       "      console.log(\"Bokeh: injecting CSS: https://cdn.pydata.org/bokeh/release/bokeh-widgets-0.11.1.min.css\");\n",
       "      Bokeh.embed.inject_css(\"https://cdn.pydata.org/bokeh/release/bokeh-widgets-0.11.1.min.css\");\n",
       "    }\n",
       "  ];\n",
       "\n",
       "  function run_inline_js() {\n",
       "    for (var i = 0; i < inline_js.length; i++) {\n",
       "      inline_js[i](window.Bokeh);\n",
       "    }\n",
       "  }\n",
       "\n",
       "  if (window._bokeh_is_loading === 0) {\n",
       "    console.log(\"Bokeh: BokehJS loaded, going straight to plotting\");\n",
       "    run_inline_js();\n",
       "  } else {\n",
       "    load_libs(js_urls, function() {\n",
       "      console.log(\"Bokeh: BokehJS plotting callback run at\", now());\n",
       "      run_inline_js();\n",
       "    });\n",
       "  }\n",
       "}(this));"
      ]
     },
     "metadata": {},
     "output_type": "display_data"
    },
    {
     "data": {
      "text/html": [
       "\n",
       "\n",
       "    <div class=\"plotdiv\" id=\"1c57259e-c4f3-48af-8720-944ca7bbb6b0\"></div>\n",
       "<script type=\"text/javascript\">\n",
       "  \n",
       "  (function(global) {\n",
       "    function now() {\n",
       "      return new Date();\n",
       "    }\n",
       "  \n",
       "    if (typeof (window._bokeh_onload_callbacks) === \"undefined\") {\n",
       "      window._bokeh_onload_callbacks = [];\n",
       "    }\n",
       "  \n",
       "    function run_callbacks() {\n",
       "      window._bokeh_onload_callbacks.forEach(function(callback) { callback() });\n",
       "      delete window._bokeh_onload_callbacks\n",
       "      console.info(\"Bokeh: all callbacks have finished\");\n",
       "    }\n",
       "  \n",
       "    function load_libs(js_urls, callback) {\n",
       "      window._bokeh_onload_callbacks.push(callback);\n",
       "      if (window._bokeh_is_loading > 0) {\n",
       "        console.log(\"Bokeh: BokehJS is being loaded, scheduling callback at\", now());\n",
       "        return null;\n",
       "      }\n",
       "      if (js_urls == null || js_urls.length === 0) {\n",
       "        run_callbacks();\n",
       "        return null;\n",
       "      }\n",
       "      console.log(\"Bokeh: BokehJS not loaded, scheduling load and callback at\", now());\n",
       "      window._bokeh_is_loading = js_urls.length;\n",
       "      for (var i = 0; i < js_urls.length; i++) {\n",
       "        var url = js_urls[i];\n",
       "        var s = document.createElement('script');\n",
       "        s.src = url;\n",
       "        s.async = false;\n",
       "        s.onreadystatechange = s.onload = function() {\n",
       "          window._bokeh_is_loading--;\n",
       "          if (window._bokeh_is_loading === 0) {\n",
       "            console.log(\"Bokeh: all BokehJS libraries loaded\");\n",
       "            run_callbacks()\n",
       "          }\n",
       "        };\n",
       "        s.onerror = function() {\n",
       "          console.warn(\"failed to load library \" + url);\n",
       "        };\n",
       "        console.log(\"Bokeh: injecting script tag for BokehJS library: \", url);\n",
       "        document.getElementsByTagName(\"head\")[0].appendChild(s);\n",
       "      }\n",
       "    };var element = document.getElementById(\"1c57259e-c4f3-48af-8720-944ca7bbb6b0\");\n",
       "    if (element == null) {\n",
       "      console.log(\"Bokeh: ERROR: autoload.js configured with elementid '1c57259e-c4f3-48af-8720-944ca7bbb6b0' but no matching script tag was found. \")\n",
       "      return false;\n",
       "    }\n",
       "  \n",
       "    var js_urls = [];\n",
       "  \n",
       "    var inline_js = [\n",
       "      function(Bokeh) {\n",
       "        Bokeh.$(function() {\n",
       "            var docs_json = {\"ef0461f3-7471-44a2-81f6-25f76fb897e9\":{\"roots\":{\"references\":[{\"attributes\":{\"fill_color\":{\"field\":\"color\"},\"height\":{\"units\":\"data\",\"value\":1},\"line_color\":{\"value\":\"gray\"},\"width\":{\"field\":\"width\",\"units\":\"data\"},\"x\":{\"field\":\"x\"},\"y\":{\"field\":\"y\"}},\"id\":\"df6288f7-b2de-4494-b7cd-cc17436d325f\",\"type\":\"Rect\"},{\"attributes\":{\"plot\":{\"id\":\"e3e4321d-ba6c-4798-92ef-1464f8944c14\",\"subtype\":\"Figure\",\"type\":\"Plot\"}},\"id\":\"23cf0702-a02d-47f5-9ea3-2290b950a639\",\"type\":\"PreviewSaveTool\"},{\"attributes\":{\"dimension\":1,\"grid_line_color\":{\"value\":null},\"plot\":{\"id\":\"e3e4321d-ba6c-4798-92ef-1464f8944c14\",\"subtype\":\"Figure\",\"type\":\"Plot\"},\"ticker\":{\"id\":\"23d57cc4-97d6-4fb6-b5d3-30f4a4f1ca8a\",\"type\":\"CategoricalTicker\"}},\"id\":\"17532a70-63fd-4268-85f5-9602451dcc9d\",\"type\":\"Grid\"},{\"attributes\":{\"data_source\":{\"id\":\"8cd583a5-e7e3-48ca-a194-08564173997c\",\"type\":\"ColumnDataSource\"},\"glyph\":{\"id\":\"df6288f7-b2de-4494-b7cd-cc17436d325f\",\"type\":\"Rect\"},\"hover_glyph\":null,\"nonselection_glyph\":{\"id\":\"ab9a58d7-ca16-4b6e-986a-77847311134e\",\"type\":\"Rect\"},\"selection_glyph\":null},\"id\":\"99a03d38-0f34-44d2-a8ab-f1670a6892c7\",\"type\":\"GlyphRenderer\"},{\"attributes\":{\"children\":[[{\"id\":\"e3e4321d-ba6c-4798-92ef-1464f8944c14\",\"subtype\":\"Figure\",\"type\":\"Plot\"}],[{\"id\":\"aea3bd33-402f-4605-bff1-c5f391f5d700\",\"subtype\":\"Figure\",\"type\":\"Plot\"}]]},\"id\":\"4edef683-d52f-46a3-866d-03b40c8889e4\",\"type\":\"GridPlot\"},{\"attributes\":{},\"id\":\"690627ab-cb20-4186-b72a-52385e8b0aa3\",\"type\":\"BasicTicker\"},{\"attributes\":{\"plot\":{\"id\":\"aea3bd33-402f-4605-bff1-c5f391f5d700\",\"subtype\":\"Figure\",\"type\":\"Plot\"}},\"id\":\"563bae03-cd19-4d4f-a924-06412fa431be\",\"type\":\"ResetTool\"},{\"attributes\":{\"data_source\":{\"id\":\"704fc515-07b9-42d4-bb62-aad289d91f0e\",\"type\":\"ColumnDataSource\"},\"glyph\":{\"id\":\"3c93bf34-d0fd-47da-bf84-bd68725d535c\",\"type\":\"Line\"},\"hover_glyph\":null,\"nonselection_glyph\":{\"id\":\"eeb0f5da-953e-4f0d-92a2-c3acfdb5e6bd\",\"type\":\"Line\"},\"selection_glyph\":null},\"id\":\"b812bdcd-d66d-432c-b5f0-2b557e7da7e9\",\"type\":\"GlyphRenderer\"},{\"attributes\":{},\"id\":\"b5913fc4-9a75-4497-99a4-974c0139b092\",\"type\":\"ToolEvents\"},{\"attributes\":{\"plot\":{\"id\":\"aea3bd33-402f-4605-bff1-c5f391f5d700\",\"subtype\":\"Figure\",\"type\":\"Plot\"}},\"id\":\"c037c92a-62a0-43f9-8ac6-cbd36d13c6c4\",\"type\":\"ResizeTool\"},{\"attributes\":{},\"id\":\"85eee537-e096-4ca1-8b36-5206d62ea835\",\"type\":\"BasicTicker\"},{\"attributes\":{},\"id\":\"029612a4-b302-4512-b2c5-06c984ba81c0\",\"type\":\"BasicTickFormatter\"},{\"attributes\":{\"callback\":null,\"end\":589.2},\"id\":\"92e2ef83-a862-431e-b523-fa5ca759b44f\",\"type\":\"Range1d\"},{\"attributes\":{\"callback\":null,\"column_names\":[\"x\",\"y\"],\"data\":{\"x\":[0.0,0.050631081219762564,0.1009369702078402,0.15217853104695678],\"y\":[0.0,589.2,568.5,472.5]}},\"id\":\"704fc515-07b9-42d4-bb62-aad289d91f0e\",\"type\":\"ColumnDataSource\"},{\"attributes\":{\"axis_label\":\"Memory (MB)\",\"formatter\":{\"id\":\"2094a08f-d267-4cbf-abe2-c09f940fd260\",\"type\":\"BasicTickFormatter\"},\"plot\":{\"id\":\"aea3bd33-402f-4605-bff1-c5f391f5d700\",\"subtype\":\"Figure\",\"type\":\"Plot\"},\"ticker\":{\"id\":\"690627ab-cb20-4186-b72a-52385e8b0aa3\",\"type\":\"BasicTicker\"},\"y_range_name\":\"memory\"},\"id\":\"a405daba-69f0-444b-8b43-7f24d3d1f9a9\",\"type\":\"LinearAxis\"},{\"attributes\":{\"callback\":null,\"end\":634.998784,\"start\":539.516928},\"id\":\"c365a2bf-70bf-4f27-bc6b-036e39d80941\",\"type\":\"Range1d\"},{\"attributes\":{\"callback\":null,\"factors\":[\"0\",\"1\",\"2\",\"3\",\"4\",\"5\",\"6\",\"7\"]},\"id\":\"f65bc240-5694-446c-9890-377d727b670d\",\"type\":\"FactorRange\"},{\"attributes\":{\"callback\":null,\"plot\":{\"id\":\"e3e4321d-ba6c-4798-92ef-1464f8944c14\",\"subtype\":\"Figure\",\"type\":\"Plot\"},\"point_policy\":\"follow_mouse\",\"tooltips\":\"\\n    <div>\\n        <span style=\\\"font-size: 14px; font-weight: bold;\\\">Key:</span>&nbsp;\\n        <span style=\\\"font-size: 10px; font-family: Monaco, monospace;\\\">@key</span>\\n    </div>\\n    <div>\\n        <span style=\\\"font-size: 14px; font-weight: bold;\\\">Task:</span>&nbsp;\\n        <span style=\\\"font-size: 10px; font-family: Monaco, monospace;\\\">@function</span>\\n    </div>\\n    \"},\"id\":\"dc17c92b-3fe2-4161-818b-04348e541f67\",\"type\":\"HoverTool\"},{\"attributes\":{\"dimensions\":[\"width\"],\"plot\":{\"id\":\"aea3bd33-402f-4605-bff1-c5f391f5d700\",\"subtype\":\"Figure\",\"type\":\"Plot\"}},\"id\":\"3aaf504b-b132-4df2-937f-7ff618140332\",\"type\":\"WheelZoomTool\"},{\"attributes\":{},\"id\":\"cc9fac4b-3382-4b25-b577-deeb4d2f25dd\",\"type\":\"BasicTicker\"},{\"attributes\":{\"axis_label\":\"Time (s)\",\"formatter\":{\"id\":\"1324ff59-4b12-49b8-8c75-d8fcca77e027\",\"type\":\"BasicTickFormatter\"},\"plot\":{\"id\":\"aea3bd33-402f-4605-bff1-c5f391f5d700\",\"subtype\":\"Figure\",\"type\":\"Plot\"},\"ticker\":{\"id\":\"a2a5e800-acd4-427c-ace4-633944732fc8\",\"type\":\"BasicTicker\"}},\"id\":\"6ec5c8e3-8981-4601-a37c-492de34a417a\",\"type\":\"LinearAxis\"},{\"attributes\":{\"dimensions\":[\"width\"],\"plot\":{\"id\":\"aea3bd33-402f-4605-bff1-c5f391f5d700\",\"subtype\":\"Figure\",\"type\":\"Plot\"}},\"id\":\"7656175c-42f1-4adb-8ffc-c01d93081fef\",\"type\":\"PanTool\"},{\"attributes\":{\"data_source\":{\"id\":\"c05f39d7-01ad-4ed8-b2cc-de9a98155bad\",\"type\":\"ColumnDataSource\"},\"glyph\":{\"id\":\"c084326d-92f4-4856-beaf-29f532c4b611\",\"type\":\"Line\"},\"hover_glyph\":null,\"nonselection_glyph\":{\"id\":\"670caf48-0f36-46d9-8613-11edc34c7bd2\",\"type\":\"Line\"},\"selection_glyph\":null,\"y_range_name\":\"memory\"},\"id\":\"d7a19fd8-23ed-40a0-a821-5c2b8f55053e\",\"type\":\"GlyphRenderer\"},{\"attributes\":{\"below\":[{\"id\":\"6ec5c8e3-8981-4601-a37c-492de34a417a\",\"type\":\"LinearAxis\"}],\"extra_y_ranges\":{\"memory\":{\"id\":\"c365a2bf-70bf-4f27-bc6b-036e39d80941\",\"type\":\"Range1d\"}},\"left\":[{\"id\":\"dd94ffd9-0d4b-4eb2-bfb9-d96f14257d0b\",\"type\":\"LinearAxis\"}],\"min_border_left\":75,\"min_border_right\":75,\"min_border_top\":20,\"plot_height\":300,\"plot_width\":800,\"renderers\":[{\"id\":\"6ec5c8e3-8981-4601-a37c-492de34a417a\",\"type\":\"LinearAxis\"},{\"id\":\"bb2d6789-4a66-48fd-a8b7-81d1c6afeef5\",\"type\":\"Grid\"},{\"id\":\"dd94ffd9-0d4b-4eb2-bfb9-d96f14257d0b\",\"type\":\"LinearAxis\"},{\"id\":\"6ba21652-646b-4a6e-a867-d4d3dec565d7\",\"type\":\"Grid\"},{\"id\":\"c2227a51-a4f9-4529-b210-f670c54360c7\",\"type\":\"Legend\"},{\"id\":\"b812bdcd-d66d-432c-b5f0-2b557e7da7e9\",\"type\":\"GlyphRenderer\"},{\"id\":\"d7a19fd8-23ed-40a0-a821-5c2b8f55053e\",\"type\":\"GlyphRenderer\"},{\"id\":\"a405daba-69f0-444b-8b43-7f24d3d1f9a9\",\"type\":\"LinearAxis\"}],\"right\":[{\"id\":\"a405daba-69f0-444b-8b43-7f24d3d1f9a9\",\"type\":\"LinearAxis\"}],\"title\":null,\"tool_events\":{\"id\":\"93635885-548c-40d7-b79b-4e86b0c853bb\",\"type\":\"ToolEvents\"},\"tools\":[{\"id\":\"4f77b92d-f450-40b7-a862-abbe3d0ff2a2\",\"type\":\"PreviewSaveTool\"},{\"id\":\"563bae03-cd19-4d4f-a924-06412fa431be\",\"type\":\"ResetTool\"},{\"id\":\"c037c92a-62a0-43f9-8ac6-cbd36d13c6c4\",\"type\":\"ResizeTool\"},{\"id\":\"3aaf504b-b132-4df2-937f-7ff618140332\",\"type\":\"WheelZoomTool\"},{\"id\":\"7656175c-42f1-4adb-8ffc-c01d93081fef\",\"type\":\"PanTool\"}],\"x_range\":{\"id\":\"7ccbf62e-bd1e-4617-bffc-d5e715e9284e\",\"type\":\"Range1d\"},\"y_range\":{\"id\":\"92e2ef83-a862-431e-b523-fa5ca759b44f\",\"type\":\"Range1d\"}},\"id\":\"aea3bd33-402f-4605-bff1-c5f391f5d700\",\"subtype\":\"Figure\",\"type\":\"Plot\"},{\"attributes\":{\"callback\":null,\"column_names\":[\"y\",\"x\"],\"data\":{\"x\":[0.0,0.050631081219762564,0.1009369702078402,0.15217853104695678],\"y\":[539.516928,593.739776,614.735872,634.998784]}},\"id\":\"c05f39d7-01ad-4ed8-b2cc-de9a98155bad\",\"type\":\"ColumnDataSource\"},{\"attributes\":{\"below\":[{\"id\":\"9b7c4f91-00d0-487a-bc30-9563cd3d702d\",\"type\":\"LinearAxis\"}],\"left\":[{\"id\":\"76a7c641-0357-4b3a-a9e9-97c0785ab11d\",\"type\":\"CategoricalAxis\"}],\"min_border_bottom\":20,\"min_border_left\":75,\"min_border_right\":75,\"plot_height\":300,\"plot_width\":800,\"renderers\":[{\"id\":\"9b7c4f91-00d0-487a-bc30-9563cd3d702d\",\"type\":\"LinearAxis\"},{\"id\":\"991b1ace-485b-4489-bfb7-d34721794c67\",\"type\":\"Grid\"},{\"id\":\"76a7c641-0357-4b3a-a9e9-97c0785ab11d\",\"type\":\"CategoricalAxis\"},{\"id\":\"17532a70-63fd-4268-85f5-9602451dcc9d\",\"type\":\"Grid\"},{\"id\":\"99a03d38-0f34-44d2-a8ab-f1670a6892c7\",\"type\":\"GlyphRenderer\"}],\"title\":\"Profile Results\",\"tool_events\":{\"id\":\"b5913fc4-9a75-4497-99a4-974c0139b092\",\"type\":\"ToolEvents\"},\"tools\":[{\"id\":\"dc17c92b-3fe2-4161-818b-04348e541f67\",\"type\":\"HoverTool\"},{\"id\":\"23cf0702-a02d-47f5-9ea3-2290b950a639\",\"type\":\"PreviewSaveTool\"},{\"id\":\"a8f73d43-9e7c-4a75-b4b6-31d97ebf75cc\",\"type\":\"ResetTool\"},{\"id\":\"8cef9335-db69-4f9c-8682-5e7958d4dc4a\",\"type\":\"ResizeTool\"},{\"id\":\"ee08a093-b8d2-4d03-9f2c-ca9ead4277a5\",\"type\":\"WheelZoomTool\"},{\"id\":\"26d4d45c-a3a7-43d8-a674-44c1b866e27d\",\"type\":\"PanTool\"}],\"x_range\":{\"id\":\"7ccbf62e-bd1e-4617-bffc-d5e715e9284e\",\"type\":\"Range1d\"},\"y_range\":{\"id\":\"f65bc240-5694-446c-9890-377d727b670d\",\"type\":\"FactorRange\"}},\"id\":\"e3e4321d-ba6c-4798-92ef-1464f8944c14\",\"subtype\":\"Figure\",\"type\":\"Plot\"},{\"attributes\":{\"callback\":null,\"end\":0.19542349316179752},\"id\":\"7ccbf62e-bd1e-4617-bffc-d5e715e9284e\",\"type\":\"Range1d\"},{\"attributes\":{\"line_alpha\":{\"value\":0.1},\"line_color\":{\"value\":\"#1f77b4\"},\"line_width\":{\"value\":4},\"x\":{\"field\":\"x\"},\"y\":{\"field\":\"y\"}},\"id\":\"670caf48-0f36-46d9-8613-11edc34c7bd2\",\"type\":\"Line\"},{\"attributes\":{},\"id\":\"23d57cc4-97d6-4fb6-b5d3-30f4a4f1ca8a\",\"type\":\"CategoricalTicker\"},{\"attributes\":{},\"id\":\"66171b1a-26f3-4231-9318-d18752c5fdce\",\"type\":\"BasicTickFormatter\"},{\"attributes\":{},\"id\":\"a2a5e800-acd4-427c-ace4-633944732fc8\",\"type\":\"BasicTicker\"},{\"attributes\":{\"plot\":{\"id\":\"aea3bd33-402f-4605-bff1-c5f391f5d700\",\"subtype\":\"Figure\",\"type\":\"Plot\"},\"ticker\":{\"id\":\"a2a5e800-acd4-427c-ace4-633944732fc8\",\"type\":\"BasicTicker\"}},\"id\":\"bb2d6789-4a66-48fd-a8b7-81d1c6afeef5\",\"type\":\"Grid\"},{\"attributes\":{},\"id\":\"7349485c-5269-439f-85de-f3846612f104\",\"type\":\"CategoricalTickFormatter\"},{\"attributes\":{\"axis_label\":\"% CPU\",\"formatter\":{\"id\":\"029612a4-b302-4512-b2c5-06c984ba81c0\",\"type\":\"BasicTickFormatter\"},\"plot\":{\"id\":\"aea3bd33-402f-4605-bff1-c5f391f5d700\",\"subtype\":\"Figure\",\"type\":\"Plot\"},\"ticker\":{\"id\":\"85eee537-e096-4ca1-8b36-5206d62ea835\",\"type\":\"BasicTicker\"}},\"id\":\"dd94ffd9-0d4b-4eb2-bfb9-d96f14257d0b\",\"type\":\"LinearAxis\"},{\"attributes\":{\"callback\":null,\"column_names\":[\"color\",\"y\",\"function\",\"key\",\"x\",\"width\"],\"data\":{\"color\":[\"#a8ddb5\",\"#a8ddb5\",\"#a8ddb5\",\"#a8ddb5\",\"#a8ddb5\",\"#43a2ca\",\"#a8ddb5\",\"#a8ddb5\",\"#a8ddb5\"],\"function\":[\"chunk(_)\",\"chunk(_)\",\"chunk(_)\",\"chunk(_)\",\"chunk(_)\",\"<lambda>(_concat(list([_, _, _, ...])))\",\"chunk(_)\",\"chunk(_)\",\"chunk(_)\"],\"key\":[\"('series-groupby-sum--first-eb32de3f04c56b836aa4293eb83e1868', 0)\",\"('series-groupby-sum--first-eb32de3f04c56b836aa4293eb83e1868', 7)\",\"('series-groupby-sum--first-eb32de3f04c56b836aa4293eb83e1868', 1)\",\"('series-groupby-sum--first-eb32de3f04c56b836aa4293eb83e1868', 4)\",\"('series-groupby-sum--first-eb32de3f04c56b836aa4293eb83e1868', 5)\",\"('series-groupby-sum--second-eb32de3f04c56b836aa4293eb83e1868', 0)\",\"('series-groupby-sum--first-eb32de3f04c56b836aa4293eb83e1868', 2)\",\"('series-groupby-sum--first-eb32de3f04c56b836aa4293eb83e1868', 3)\",\"('series-groupby-sum--first-eb32de3f04c56b836aa4293eb83e1868', 6)\"],\"width\":[0.15597821306437254,0.1439957651309669,0.17329171020537615,0.1911492650397122,0.19120477885007858,0.0038147629238665104,0.17313821986317635,0.1811370481736958,0.191590772010386],\"x\":[0.07826391281560063,0.07246590685099363,0.08687666431069374,0.0959978923201561,0.09600205579772592,0.1935161119326949,0.08692470612004399,0.09089273493736982,0.095795386005193],\"y\":[7,8,5,3,2,8,6,4,1]}},\"id\":\"8cd583a5-e7e3-48ca-a194-08564173997c\",\"type\":\"ColumnDataSource\"},{\"attributes\":{\"plot\":{\"id\":\"aea3bd33-402f-4605-bff1-c5f391f5d700\",\"subtype\":\"Figure\",\"type\":\"Plot\"}},\"id\":\"4f77b92d-f450-40b7-a862-abbe3d0ff2a2\",\"type\":\"PreviewSaveTool\"},{\"attributes\":{\"plot\":{\"id\":\"e3e4321d-ba6c-4798-92ef-1464f8944c14\",\"subtype\":\"Figure\",\"type\":\"Plot\"}},\"id\":\"a8f73d43-9e7c-4a75-b4b6-31d97ebf75cc\",\"type\":\"ResetTool\"},{\"attributes\":{\"line_alpha\":{\"value\":0.1},\"line_color\":{\"value\":\"#1f77b4\"},\"line_width\":{\"value\":4},\"x\":{\"field\":\"x\"},\"y\":{\"field\":\"y\"}},\"id\":\"eeb0f5da-953e-4f0d-92a2-c3acfdb5e6bd\",\"type\":\"Line\"},{\"attributes\":{\"fill_alpha\":{\"value\":0.1},\"fill_color\":{\"value\":\"#1f77b4\"},\"height\":{\"units\":\"data\",\"value\":1},\"line_alpha\":{\"value\":0.1},\"line_color\":{\"value\":\"#1f77b4\"},\"width\":{\"field\":\"width\",\"units\":\"data\"},\"x\":{\"field\":\"x\"},\"y\":{\"field\":\"y\"}},\"id\":\"ab9a58d7-ca16-4b6e-986a-77847311134e\",\"type\":\"Rect\"},{\"attributes\":{\"grid_line_color\":{\"value\":null},\"plot\":{\"id\":\"e3e4321d-ba6c-4798-92ef-1464f8944c14\",\"subtype\":\"Figure\",\"type\":\"Plot\"},\"ticker\":{\"id\":\"cc9fac4b-3382-4b25-b577-deeb4d2f25dd\",\"type\":\"BasicTicker\"}},\"id\":\"991b1ace-485b-4489-bfb7-d34721794c67\",\"type\":\"Grid\"},{\"attributes\":{\"plot\":{\"id\":\"e3e4321d-ba6c-4798-92ef-1464f8944c14\",\"subtype\":\"Figure\",\"type\":\"Plot\"}},\"id\":\"8cef9335-db69-4f9c-8682-5e7958d4dc4a\",\"type\":\"ResizeTool\"},{\"attributes\":{\"legends\":[[\"% CPU\",[{\"id\":\"b812bdcd-d66d-432c-b5f0-2b557e7da7e9\",\"type\":\"GlyphRenderer\"}]],[\"Memory\",[{\"id\":\"d7a19fd8-23ed-40a0-a821-5c2b8f55053e\",\"type\":\"GlyphRenderer\"}]]],\"plot\":{\"id\":\"aea3bd33-402f-4605-bff1-c5f391f5d700\",\"subtype\":\"Figure\",\"type\":\"Plot\"}},\"id\":\"c2227a51-a4f9-4529-b210-f670c54360c7\",\"type\":\"Legend\"},{\"attributes\":{},\"id\":\"2094a08f-d267-4cbf-abe2-c09f940fd260\",\"type\":\"BasicTickFormatter\"},{\"attributes\":{\"line_color\":{\"value\":\"#7bccc4\"},\"line_width\":{\"value\":4},\"x\":{\"field\":\"x\"},\"y\":{\"field\":\"y\"}},\"id\":\"c084326d-92f4-4856-beaf-29f532c4b611\",\"type\":\"Line\"},{\"attributes\":{},\"id\":\"93635885-548c-40d7-b79b-4e86b0c853bb\",\"type\":\"ToolEvents\"},{\"attributes\":{\"axis_label\":null,\"axis_line_color\":{\"value\":null},\"formatter\":{\"id\":\"66171b1a-26f3-4231-9318-d18752c5fdce\",\"type\":\"BasicTickFormatter\"},\"major_tick_line_color\":{\"value\":null},\"plot\":{\"id\":\"e3e4321d-ba6c-4798-92ef-1464f8944c14\",\"subtype\":\"Figure\",\"type\":\"Plot\"},\"ticker\":{\"id\":\"cc9fac4b-3382-4b25-b577-deeb4d2f25dd\",\"type\":\"BasicTicker\"}},\"id\":\"9b7c4f91-00d0-487a-bc30-9563cd3d702d\",\"type\":\"LinearAxis\"},{\"attributes\":{\"axis_label\":\"Worker ID\",\"axis_line_color\":{\"value\":null},\"formatter\":{\"id\":\"7349485c-5269-439f-85de-f3846612f104\",\"type\":\"CategoricalTickFormatter\"},\"major_tick_line_color\":{\"value\":null},\"plot\":{\"id\":\"e3e4321d-ba6c-4798-92ef-1464f8944c14\",\"subtype\":\"Figure\",\"type\":\"Plot\"},\"ticker\":{\"id\":\"23d57cc4-97d6-4fb6-b5d3-30f4a4f1ca8a\",\"type\":\"CategoricalTicker\"}},\"id\":\"76a7c641-0357-4b3a-a9e9-97c0785ab11d\",\"type\":\"CategoricalAxis\"},{\"attributes\":{\"dimensions\":[\"width\"],\"plot\":{\"id\":\"e3e4321d-ba6c-4798-92ef-1464f8944c14\",\"subtype\":\"Figure\",\"type\":\"Plot\"}},\"id\":\"26d4d45c-a3a7-43d8-a674-44c1b866e27d\",\"type\":\"PanTool\"},{\"attributes\":{\"dimensions\":[\"width\"],\"plot\":{\"id\":\"e3e4321d-ba6c-4798-92ef-1464f8944c14\",\"subtype\":\"Figure\",\"type\":\"Plot\"}},\"id\":\"ee08a093-b8d2-4d03-9f2c-ca9ead4277a5\",\"type\":\"WheelZoomTool\"},{\"attributes\":{\"line_color\":{\"value\":\"#0868ac\"},\"line_width\":{\"value\":4},\"x\":{\"field\":\"x\"},\"y\":{\"field\":\"y\"}},\"id\":\"3c93bf34-d0fd-47da-bf84-bd68725d535c\",\"type\":\"Line\"},{\"attributes\":{},\"id\":\"1324ff59-4b12-49b8-8c75-d8fcca77e027\",\"type\":\"BasicTickFormatter\"},{\"attributes\":{\"dimension\":1,\"plot\":{\"id\":\"aea3bd33-402f-4605-bff1-c5f391f5d700\",\"subtype\":\"Figure\",\"type\":\"Plot\"},\"ticker\":{\"id\":\"85eee537-e096-4ca1-8b36-5206d62ea835\",\"type\":\"BasicTicker\"}},\"id\":\"6ba21652-646b-4a6e-a867-d4d3dec565d7\",\"type\":\"Grid\"}],\"root_ids\":[\"4edef683-d52f-46a3-866d-03b40c8889e4\"]},\"title\":\"Bokeh Application\",\"version\":\"0.11.1\"}};\n",
       "            var render_items = [{\"docid\":\"ef0461f3-7471-44a2-81f6-25f76fb897e9\",\"elementid\":\"1c57259e-c4f3-48af-8720-944ca7bbb6b0\",\"modelid\":\"4edef683-d52f-46a3-866d-03b40c8889e4\",\"notebook_comms_target\":\"e29cc41b-e8bc-4934-b8e9-d5d0200496c5\"}];\n",
       "            \n",
       "            Bokeh.embed.embed_items(docs_json, render_items);\n",
       "        });\n",
       "      },\n",
       "      function(Bokeh) {\n",
       "      }\n",
       "    ];\n",
       "  \n",
       "    function run_inline_js() {\n",
       "      for (var i = 0; i < inline_js.length; i++) {\n",
       "        inline_js[i](window.Bokeh);\n",
       "      }\n",
       "    }\n",
       "  \n",
       "    if (window._bokeh_is_loading === 0) {\n",
       "      console.log(\"Bokeh: BokehJS loaded, going straight to plotting\");\n",
       "      run_inline_js();\n",
       "    } else {\n",
       "      load_libs(js_urls, function() {\n",
       "        console.log(\"Bokeh: BokehJS plotting callback run at\", now());\n",
       "        run_inline_js();\n",
       "      });\n",
       "    }\n",
       "  }(this));\n",
       "</script>"
      ]
     },
     "metadata": {},
     "output_type": "display_data"
    },
    {
     "data": {
      "text/plain": [
       "<bokeh.models.plots.GridPlot at 0x12687ca58>"
      ]
     },
     "execution_count": 56,
     "metadata": {},
     "output_type": "execute_result"
    }
   ],
   "source": [
    "from dask.diagnostics import visualize\n",
    "from bokeh.io import output_notebook\n",
    "from bokeh.resources import CDN\n",
    "output_notebook(CDN, hide_banner=True)\n",
    "visualize([prof, rprof])"
   ]
  }
 ],
 "metadata": {
  "celltoolbar": "Slideshow",
  "kernelspec": {
   "display_name": "Python3 (talk)",
   "language": "python",
   "name": "talk"
  },
  "language_info": {
   "codemirror_mode": {
    "name": "ipython",
    "version": 3
   },
   "file_extension": ".py",
   "mimetype": "text/x-python",
   "name": "python",
   "nbconvert_exporter": "python",
   "pygments_lexer": "ipython3",
   "version": "3.5.1"
  }
 },
 "nbformat": 4,
 "nbformat_minor": 0
}
