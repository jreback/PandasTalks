{
 "cells": [
  {
   "cell_type": "markdown",
   "metadata": {
    "slideshow": {
     "slide_type": "slide"
    }
   },
   "source": [
    "# Examining the Data"
   ]
  },
  {
   "cell_type": "code",
   "execution_count": 40,
   "metadata": {
    "collapsed": false,
    "slideshow": {
     "slide_type": "-"
    }
   },
   "outputs": [
    {
     "data": {
      "text/plain": [
       "'0.18.0rc1'"
      ]
     },
     "execution_count": 40,
     "metadata": {},
     "output_type": "execute_result"
    }
   ],
   "source": [
    "import numpy as np\n",
    "import pandas as pd\n",
    "pd.options.display.max_rows = 6\n",
    "pd.options.display.max_columns = 8\n",
    "pd.options.display.width = 100\n",
    "pd.__version__"
   ]
  },
  {
   "cell_type": "code",
   "execution_count": 41,
   "metadata": {
    "collapsed": false,
    "slideshow": {
     "slide_type": "slide"
    }
   },
   "outputs": [
    {
     "data": {
      "text/html": [
       "<div>\n",
       "<table border=\"1\" class=\"dataframe\">\n",
       "  <thead>\n",
       "    <tr style=\"text-align: right;\">\n",
       "      <th></th>\n",
       "      <th>abv</th>\n",
       "      <th>beer_id</th>\n",
       "      <th>brewer_id</th>\n",
       "      <th>beer_name</th>\n",
       "      <th>...</th>\n",
       "      <th>profile_name</th>\n",
       "      <th>review_taste</th>\n",
       "      <th>text</th>\n",
       "      <th>time</th>\n",
       "    </tr>\n",
       "  </thead>\n",
       "  <tbody>\n",
       "    <tr>\n",
       "      <th>0</th>\n",
       "      <td>7.0</td>\n",
       "      <td>2511</td>\n",
       "      <td>287</td>\n",
       "      <td>Bell's Cherry Stout</td>\n",
       "      <td>...</td>\n",
       "      <td>blaheath</td>\n",
       "      <td>4.5</td>\n",
       "      <td>Batch 8144\\tPitch black in color with a 1/2 f...</td>\n",
       "      <td>2009-10-05 21:31:48</td>\n",
       "    </tr>\n",
       "    <tr>\n",
       "      <th>1</th>\n",
       "      <td>5.7</td>\n",
       "      <td>19736</td>\n",
       "      <td>9790</td>\n",
       "      <td>Duck-Rabbit Porter</td>\n",
       "      <td>...</td>\n",
       "      <td>GJ40</td>\n",
       "      <td>4.0</td>\n",
       "      <td>Sampled from a 12oz bottle in a standard pint...</td>\n",
       "      <td>2009-10-05 21:32:09</td>\n",
       "    </tr>\n",
       "    <tr>\n",
       "      <th>2</th>\n",
       "      <td>4.8</td>\n",
       "      <td>11098</td>\n",
       "      <td>3182</td>\n",
       "      <td>Fürstenberg Premium Pilsener</td>\n",
       "      <td>...</td>\n",
       "      <td>biegaman</td>\n",
       "      <td>3.5</td>\n",
       "      <td>Haystack yellow with an energetic group of bu...</td>\n",
       "      <td>2009-10-05 21:32:13</td>\n",
       "    </tr>\n",
       "    <tr>\n",
       "      <th>...</th>\n",
       "      <td>...</td>\n",
       "      <td>...</td>\n",
       "      <td>...</td>\n",
       "      <td>...</td>\n",
       "      <td>...</td>\n",
       "      <td>...</td>\n",
       "      <td>...</td>\n",
       "      <td>...</td>\n",
       "      <td>...</td>\n",
       "    </tr>\n",
       "    <tr>\n",
       "      <th>49997</th>\n",
       "      <td>8.1</td>\n",
       "      <td>21950</td>\n",
       "      <td>2372</td>\n",
       "      <td>Terrapin Coffee Oatmeal Imperial Stout</td>\n",
       "      <td>...</td>\n",
       "      <td>ugaterrapin</td>\n",
       "      <td>4.5</td>\n",
       "      <td>Poured a light sucking crude oil beckoning bl...</td>\n",
       "      <td>2009-12-25 17:23:52</td>\n",
       "    </tr>\n",
       "    <tr>\n",
       "      <th>49998</th>\n",
       "      <td>4.6</td>\n",
       "      <td>5453</td>\n",
       "      <td>1306</td>\n",
       "      <td>Badger Original Ale</td>\n",
       "      <td>...</td>\n",
       "      <td>MrHurmateeowish</td>\n",
       "      <td>3.5</td>\n",
       "      <td>500ml brown bottle, 4.0% ABV. Pours a crystal...</td>\n",
       "      <td>2009-12-25 17:25:06</td>\n",
       "    </tr>\n",
       "    <tr>\n",
       "      <th>49999</th>\n",
       "      <td>9.4</td>\n",
       "      <td>47695</td>\n",
       "      <td>14879</td>\n",
       "      <td>Barrel Aged B.O.R.I.S. Oatmeal Imperial Stout</td>\n",
       "      <td>...</td>\n",
       "      <td>strictly4DK</td>\n",
       "      <td>4.5</td>\n",
       "      <td>22 oz bottle poured into a flute glass, share...</td>\n",
       "      <td>2009-12-25 17:26:06</td>\n",
       "    </tr>\n",
       "  </tbody>\n",
       "</table>\n",
       "<p>50000 rows × 13 columns</p>\n",
       "</div>"
      ],
      "text/plain": [
       "       abv  beer_id  brewer_id                                      beer_name         ...          \\\n",
       "0      7.0     2511        287                            Bell's Cherry Stout         ...           \n",
       "1      5.7    19736       9790                             Duck-Rabbit Porter         ...           \n",
       "2      4.8    11098       3182                   Fürstenberg Premium Pilsener         ...           \n",
       "...    ...      ...        ...                                            ...         ...           \n",
       "49997  8.1    21950       2372         Terrapin Coffee Oatmeal Imperial Stout         ...           \n",
       "49998  4.6     5453       1306                            Badger Original Ale         ...           \n",
       "49999  9.4    47695      14879  Barrel Aged B.O.R.I.S. Oatmeal Imperial Stout         ...           \n",
       "\n",
       "          profile_name  review_taste                                               text  \\\n",
       "0             blaheath           4.5   Batch 8144\\tPitch black in color with a 1/2 f...   \n",
       "1                 GJ40           4.0   Sampled from a 12oz bottle in a standard pint...   \n",
       "2             biegaman           3.5   Haystack yellow with an energetic group of bu...   \n",
       "...                ...           ...                                                ...   \n",
       "49997      ugaterrapin           4.5   Poured a light sucking crude oil beckoning bl...   \n",
       "49998  MrHurmateeowish           3.5   500ml brown bottle, 4.0% ABV. Pours a crystal...   \n",
       "49999      strictly4DK           4.5   22 oz bottle poured into a flute glass, share...   \n",
       "\n",
       "                     time  \n",
       "0     2009-10-05 21:31:48  \n",
       "1     2009-10-05 21:32:09  \n",
       "2     2009-10-05 21:32:13  \n",
       "...                   ...  \n",
       "49997 2009-12-25 17:23:52  \n",
       "49998 2009-12-25 17:25:06  \n",
       "49999 2009-12-25 17:26:06  \n",
       "\n",
       "[50000 rows x 13 columns]"
      ]
     },
     "execution_count": 41,
     "metadata": {},
     "output_type": "execute_result"
    }
   ],
   "source": [
    "df = pd.read_hdf('data/beer.hdf','df')\n",
    "df"
   ]
  },
  {
   "cell_type": "code",
   "execution_count": 42,
   "metadata": {
    "collapsed": false,
    "slideshow": {
     "slide_type": "slide"
    }
   },
   "outputs": [
    {
     "name": "stdout",
     "output_type": "stream",
     "text": [
      "<class 'pandas.core.frame.DataFrame'>\n",
      "Int64Index: 50000 entries, 0 to 49999\n",
      "Data columns (total 13 columns):\n",
      "abv                  48389 non-null float64\n",
      "beer_id              50000 non-null int64\n",
      "brewer_id            50000 non-null int64\n",
      "beer_name            50000 non-null object\n",
      "beer_style           50000 non-null object\n",
      "review_appearance    50000 non-null float64\n",
      "review_aroma         50000 non-null float64\n",
      "review_overall       50000 non-null float64\n",
      "review_palate        50000 non-null float64\n",
      "profile_name         50000 non-null object\n",
      "review_taste         50000 non-null float64\n",
      "text                 50000 non-null object\n",
      "time                 50000 non-null datetime64[ns]\n",
      "dtypes: datetime64[ns](1), float64(6), int64(2), object(4)\n",
      "memory usage: 5.3+ MB\n"
     ]
    }
   ],
   "source": [
    "df.info()"
   ]
  },
  {
   "cell_type": "markdown",
   "metadata": {
    "slideshow": {
     "slide_type": "slide"
    }
   },
   "source": [
    "# dtype accessors"
   ]
  },
  {
   "cell_type": "markdown",
   "metadata": {},
   "source": [
    "- text: http://pandas.pydata.org/pandas-docs/stable/text.html\n",
    "\n",
    "- categorical: http://pandas.pydata.org/pandas-docs/stable/categorical.html\n",
    "\n",
    "- datetime: http://pandas.pydata.org/pandas-docs/stable/timeseries.html#time-date-components\n",
    "\n"
   ]
  },
  {
   "cell_type": "code",
   "execution_count": 43,
   "metadata": {
    "collapsed": false,
    "slideshow": {
     "slide_type": "subslide"
    }
   },
   "outputs": [
    {
     "data": {
      "text/plain": [
       "0                          American Stout\n",
       "1                         American Porter\n",
       "2                         German Pilsener\n",
       "                       ...               \n",
       "49997    American Double / Imperial Stout\n",
       "49998                    English Pale Ale\n",
       "49999              Russian Imperial Stout\n",
       "Name: beer_style, dtype: object"
      ]
     },
     "execution_count": 43,
     "metadata": {},
     "output_type": "execute_result"
    }
   ],
   "source": [
    "df.beer_style"
   ]
  },
  {
   "cell_type": "code",
   "execution_count": 44,
   "metadata": {
    "collapsed": false,
    "slideshow": {
     "slide_type": "subslide"
    }
   },
   "outputs": [
    {
     "data": {
      "text/plain": [
       "0        14\n",
       "1        15\n",
       "2        15\n",
       "         ..\n",
       "49997    32\n",
       "49998    16\n",
       "49999    22\n",
       "Name: beer_style, dtype: int64"
      ]
     },
     "execution_count": 44,
     "metadata": {},
     "output_type": "execute_result"
    }
   ],
   "source": [
    "df.beer_style.str.len()"
   ]
  },
  {
   "cell_type": "code",
   "execution_count": 45,
   "metadata": {
    "collapsed": false,
    "slideshow": {
     "slide_type": "fragment"
    }
   },
   "outputs": [
    {
     "data": {
      "text/plain": [
       "0         True\n",
       "1         True\n",
       "2        False\n",
       "         ...  \n",
       "49997     True\n",
       "49998    False\n",
       "49999    False\n",
       "Name: beer_style, dtype: bool"
      ]
     },
     "execution_count": 45,
     "metadata": {},
     "output_type": "execute_result"
    }
   ],
   "source": [
    "df.beer_style.str.contains('[A|a]merican')"
   ]
  },
  {
   "cell_type": "markdown",
   "metadata": {
    "slideshow": {
     "slide_type": "slide"
    }
   },
   "source": [
    "# Indexing"
   ]
  },
  {
   "cell_type": "markdown",
   "metadata": {},
   "source": [
    "http://pandas.pydata.org/pandas-docs/stable/indexing.html"
   ]
  },
  {
   "cell_type": "markdown",
   "metadata": {
    "slideshow": {
     "slide_type": "slide"
    }
   },
   "source": [
    "# Boolean indexing\n",
    "\n",
    "Like a where clause in SQL. The indexer (or boolean mask) should be 1-dimensional and the same length as the thing being indexed."
   ]
  },
  {
   "cell_type": "code",
   "execution_count": 46,
   "metadata": {
    "collapsed": false,
    "slideshow": {
     "slide_type": "subslide"
    }
   },
   "outputs": [
    {
     "data": {
      "text/plain": [
       "0        False\n",
       "1        False\n",
       "2         True\n",
       "         ...  \n",
       "49997    False\n",
       "49998     True\n",
       "49999    False\n",
       "Name: abv, dtype: bool"
      ]
     },
     "execution_count": 46,
     "metadata": {},
     "output_type": "execute_result"
    }
   ],
   "source": [
    "df.abv < 5"
   ]
  },
  {
   "cell_type": "code",
   "execution_count": 47,
   "metadata": {
    "collapsed": false,
    "slideshow": {
     "slide_type": "fragment"
    }
   },
   "outputs": [
    {
     "data": {
      "text/html": [
       "<div>\n",
       "<table border=\"1\" class=\"dataframe\">\n",
       "  <thead>\n",
       "    <tr style=\"text-align: right;\">\n",
       "      <th></th>\n",
       "      <th>abv</th>\n",
       "      <th>beer_id</th>\n",
       "      <th>brewer_id</th>\n",
       "      <th>beer_name</th>\n",
       "      <th>...</th>\n",
       "      <th>profile_name</th>\n",
       "      <th>review_taste</th>\n",
       "      <th>text</th>\n",
       "      <th>time</th>\n",
       "    </tr>\n",
       "  </thead>\n",
       "  <tbody>\n",
       "    <tr>\n",
       "      <th>2</th>\n",
       "      <td>4.8</td>\n",
       "      <td>11098</td>\n",
       "      <td>3182</td>\n",
       "      <td>Fürstenberg Premium Pilsener</td>\n",
       "      <td>...</td>\n",
       "      <td>biegaman</td>\n",
       "      <td>3.5</td>\n",
       "      <td>Haystack yellow with an energetic group of bu...</td>\n",
       "      <td>2009-10-05 21:32:13</td>\n",
       "    </tr>\n",
       "    <tr>\n",
       "      <th>7</th>\n",
       "      <td>4.8</td>\n",
       "      <td>1669</td>\n",
       "      <td>256</td>\n",
       "      <td>Great White</td>\n",
       "      <td>...</td>\n",
       "      <td>n0rc41</td>\n",
       "      <td>4.5</td>\n",
       "      <td>Ok, for starters great white I believe will b...</td>\n",
       "      <td>2009-10-05 21:34:29</td>\n",
       "    </tr>\n",
       "    <tr>\n",
       "      <th>21</th>\n",
       "      <td>4.6</td>\n",
       "      <td>401</td>\n",
       "      <td>118</td>\n",
       "      <td>Dark Island</td>\n",
       "      <td>...</td>\n",
       "      <td>abuliarose</td>\n",
       "      <td>4.0</td>\n",
       "      <td>Poured into a snifter, revealing black opaque...</td>\n",
       "      <td>2009-10-05 21:47:36</td>\n",
       "    </tr>\n",
       "    <tr>\n",
       "      <th>...</th>\n",
       "      <td>...</td>\n",
       "      <td>...</td>\n",
       "      <td>...</td>\n",
       "      <td>...</td>\n",
       "      <td>...</td>\n",
       "      <td>...</td>\n",
       "      <td>...</td>\n",
       "      <td>...</td>\n",
       "      <td>...</td>\n",
       "    </tr>\n",
       "    <tr>\n",
       "      <th>49976</th>\n",
       "      <td>4.7</td>\n",
       "      <td>18552</td>\n",
       "      <td>9663</td>\n",
       "      <td>Ichnusa</td>\n",
       "      <td>...</td>\n",
       "      <td>gregalobeer</td>\n",
       "      <td>2.0</td>\n",
       "      <td>When in Sardinia I drink this beer, and altho...</td>\n",
       "      <td>2009-12-25 15:43:48</td>\n",
       "    </tr>\n",
       "    <tr>\n",
       "      <th>49980</th>\n",
       "      <td>4.1</td>\n",
       "      <td>51464</td>\n",
       "      <td>29</td>\n",
       "      <td>Bud Light Golden Wheat</td>\n",
       "      <td>...</td>\n",
       "      <td>wolfpack87</td>\n",
       "      <td>3.5</td>\n",
       "      <td>Not quite as good as other wheat beers, but i...</td>\n",
       "      <td>2009-12-25 15:57:12</td>\n",
       "    </tr>\n",
       "    <tr>\n",
       "      <th>49998</th>\n",
       "      <td>4.6</td>\n",
       "      <td>5453</td>\n",
       "      <td>1306</td>\n",
       "      <td>Badger Original Ale</td>\n",
       "      <td>...</td>\n",
       "      <td>MrHurmateeowish</td>\n",
       "      <td>3.5</td>\n",
       "      <td>500ml brown bottle, 4.0% ABV. Pours a crystal...</td>\n",
       "      <td>2009-12-25 17:25:06</td>\n",
       "    </tr>\n",
       "  </tbody>\n",
       "</table>\n",
       "<p>5399 rows × 13 columns</p>\n",
       "</div>"
      ],
      "text/plain": [
       "       abv  beer_id  brewer_id                     beer_name         ...             profile_name  \\\n",
       "2      4.8    11098       3182  Fürstenberg Premium Pilsener         ...                 biegaman   \n",
       "7      4.8     1669        256                   Great White         ...                   n0rc41   \n",
       "21     4.6      401        118                   Dark Island         ...               abuliarose   \n",
       "...    ...      ...        ...                           ...         ...                      ...   \n",
       "49976  4.7    18552       9663                       Ichnusa         ...              gregalobeer   \n",
       "49980  4.1    51464         29        Bud Light Golden Wheat         ...               wolfpack87   \n",
       "49998  4.6     5453       1306           Badger Original Ale         ...          MrHurmateeowish   \n",
       "\n",
       "       review_taste                                               text                time  \n",
       "2               3.5   Haystack yellow with an energetic group of bu... 2009-10-05 21:32:13  \n",
       "7               4.5   Ok, for starters great white I believe will b... 2009-10-05 21:34:29  \n",
       "21              4.0   Poured into a snifter, revealing black opaque... 2009-10-05 21:47:36  \n",
       "...             ...                                                ...                 ...  \n",
       "49976           2.0   When in Sardinia I drink this beer, and altho... 2009-12-25 15:43:48  \n",
       "49980           3.5   Not quite as good as other wheat beers, but i... 2009-12-25 15:57:12  \n",
       "49998           3.5   500ml brown bottle, 4.0% ABV. Pours a crystal... 2009-12-25 17:25:06  \n",
       "\n",
       "[5399 rows x 13 columns]"
      ]
     },
     "execution_count": 47,
     "metadata": {},
     "output_type": "execute_result"
    }
   ],
   "source": [
    "df[df.abv < 5]"
   ]
  },
  {
   "cell_type": "markdown",
   "metadata": {
    "slideshow": {
     "slide_type": "subslide"
    }
   },
   "source": [
    "Notice that we just used `[]` there. We can pass the boolean indexer in to `.loc` as well."
   ]
  },
  {
   "cell_type": "code",
   "execution_count": 48,
   "metadata": {
    "collapsed": false,
    "scrolled": true,
    "slideshow": {
     "slide_type": "fragment"
    }
   },
   "outputs": [
    {
     "data": {
      "text/html": [
       "<div>\n",
       "<table border=\"1\" class=\"dataframe\">\n",
       "  <thead>\n",
       "    <tr style=\"text-align: right;\">\n",
       "      <th></th>\n",
       "      <th>beer_style</th>\n",
       "      <th>review_overall</th>\n",
       "    </tr>\n",
       "  </thead>\n",
       "  <tbody>\n",
       "    <tr>\n",
       "      <th>2</th>\n",
       "      <td>German Pilsener</td>\n",
       "      <td>3.0</td>\n",
       "    </tr>\n",
       "    <tr>\n",
       "      <th>7</th>\n",
       "      <td>Witbier</td>\n",
       "      <td>4.5</td>\n",
       "    </tr>\n",
       "    <tr>\n",
       "      <th>21</th>\n",
       "      <td>Scottish Ale</td>\n",
       "      <td>3.5</td>\n",
       "    </tr>\n",
       "    <tr>\n",
       "      <th>...</th>\n",
       "      <td>...</td>\n",
       "      <td>...</td>\n",
       "    </tr>\n",
       "    <tr>\n",
       "      <th>49976</th>\n",
       "      <td>Euro Pale Lager</td>\n",
       "      <td>3.0</td>\n",
       "    </tr>\n",
       "    <tr>\n",
       "      <th>49980</th>\n",
       "      <td>Herbed / Spiced Beer</td>\n",
       "      <td>4.0</td>\n",
       "    </tr>\n",
       "    <tr>\n",
       "      <th>49998</th>\n",
       "      <td>English Pale Ale</td>\n",
       "      <td>4.0</td>\n",
       "    </tr>\n",
       "  </tbody>\n",
       "</table>\n",
       "<p>5399 rows × 2 columns</p>\n",
       "</div>"
      ],
      "text/plain": [
       "                 beer_style  review_overall\n",
       "2           German Pilsener             3.0\n",
       "7                   Witbier             4.5\n",
       "21             Scottish Ale             3.5\n",
       "...                     ...             ...\n",
       "49976       Euro Pale Lager             3.0\n",
       "49980  Herbed / Spiced Beer             4.0\n",
       "49998      English Pale Ale             4.0\n",
       "\n",
       "[5399 rows x 2 columns]"
      ]
     },
     "execution_count": 48,
     "metadata": {},
     "output_type": "execute_result"
    }
   ],
   "source": [
    "df.loc[df.abv < 5, ['beer_style', 'review_overall']]"
   ]
  },
  {
   "cell_type": "markdown",
   "metadata": {
    "slideshow": {
     "slide_type": "subslide"
    }
   },
   "source": [
    "Again, you can get complicated"
   ]
  },
  {
   "cell_type": "code",
   "execution_count": 49,
   "metadata": {
    "collapsed": false,
    "slideshow": {
     "slide_type": "fragment"
    }
   },
   "outputs": [
    {
     "data": {
      "text/html": [
       "<div>\n",
       "<table border=\"1\" class=\"dataframe\">\n",
       "  <thead>\n",
       "    <tr style=\"text-align: right;\">\n",
       "      <th></th>\n",
       "      <th>abv</th>\n",
       "      <th>beer_id</th>\n",
       "      <th>brewer_id</th>\n",
       "      <th>beer_name</th>\n",
       "      <th>...</th>\n",
       "      <th>profile_name</th>\n",
       "      <th>review_taste</th>\n",
       "      <th>text</th>\n",
       "      <th>time</th>\n",
       "    </tr>\n",
       "  </thead>\n",
       "  <tbody>\n",
       "    <tr>\n",
       "      <th>0</th>\n",
       "      <td>7.0</td>\n",
       "      <td>2511</td>\n",
       "      <td>287</td>\n",
       "      <td>Bell's Cherry Stout</td>\n",
       "      <td>...</td>\n",
       "      <td>blaheath</td>\n",
       "      <td>4.5</td>\n",
       "      <td>Batch 8144\\tPitch black in color with a 1/2 f...</td>\n",
       "      <td>2009-10-05 21:31:48</td>\n",
       "    </tr>\n",
       "    <tr>\n",
       "      <th>1</th>\n",
       "      <td>5.7</td>\n",
       "      <td>19736</td>\n",
       "      <td>9790</td>\n",
       "      <td>Duck-Rabbit Porter</td>\n",
       "      <td>...</td>\n",
       "      <td>GJ40</td>\n",
       "      <td>4.0</td>\n",
       "      <td>Sampled from a 12oz bottle in a standard pint...</td>\n",
       "      <td>2009-10-05 21:32:09</td>\n",
       "    </tr>\n",
       "    <tr>\n",
       "      <th>2</th>\n",
       "      <td>4.8</td>\n",
       "      <td>11098</td>\n",
       "      <td>3182</td>\n",
       "      <td>Fürstenberg Premium Pilsener</td>\n",
       "      <td>...</td>\n",
       "      <td>biegaman</td>\n",
       "      <td>3.5</td>\n",
       "      <td>Haystack yellow with an energetic group of bu...</td>\n",
       "      <td>2009-10-05 21:32:13</td>\n",
       "    </tr>\n",
       "    <tr>\n",
       "      <th>...</th>\n",
       "      <td>...</td>\n",
       "      <td>...</td>\n",
       "      <td>...</td>\n",
       "      <td>...</td>\n",
       "      <td>...</td>\n",
       "      <td>...</td>\n",
       "      <td>...</td>\n",
       "      <td>...</td>\n",
       "      <td>...</td>\n",
       "    </tr>\n",
       "    <tr>\n",
       "      <th>49997</th>\n",
       "      <td>8.1</td>\n",
       "      <td>21950</td>\n",
       "      <td>2372</td>\n",
       "      <td>Terrapin Coffee Oatmeal Imperial Stout</td>\n",
       "      <td>...</td>\n",
       "      <td>ugaterrapin</td>\n",
       "      <td>4.5</td>\n",
       "      <td>Poured a light sucking crude oil beckoning bl...</td>\n",
       "      <td>2009-12-25 17:23:52</td>\n",
       "    </tr>\n",
       "    <tr>\n",
       "      <th>49998</th>\n",
       "      <td>4.6</td>\n",
       "      <td>5453</td>\n",
       "      <td>1306</td>\n",
       "      <td>Badger Original Ale</td>\n",
       "      <td>...</td>\n",
       "      <td>MrHurmateeowish</td>\n",
       "      <td>3.5</td>\n",
       "      <td>500ml brown bottle, 4.0% ABV. Pours a crystal...</td>\n",
       "      <td>2009-12-25 17:25:06</td>\n",
       "    </tr>\n",
       "    <tr>\n",
       "      <th>49999</th>\n",
       "      <td>9.4</td>\n",
       "      <td>47695</td>\n",
       "      <td>14879</td>\n",
       "      <td>Barrel Aged B.O.R.I.S. Oatmeal Imperial Stout</td>\n",
       "      <td>...</td>\n",
       "      <td>strictly4DK</td>\n",
       "      <td>4.5</td>\n",
       "      <td>22 oz bottle poured into a flute glass, share...</td>\n",
       "      <td>2009-12-25 17:26:06</td>\n",
       "    </tr>\n",
       "  </tbody>\n",
       "</table>\n",
       "<p>18007 rows × 13 columns</p>\n",
       "</div>"
      ],
      "text/plain": [
       "       abv  beer_id  brewer_id                                      beer_name         ...          \\\n",
       "0      7.0     2511        287                            Bell's Cherry Stout         ...           \n",
       "1      5.7    19736       9790                             Duck-Rabbit Porter         ...           \n",
       "2      4.8    11098       3182                   Fürstenberg Premium Pilsener         ...           \n",
       "...    ...      ...        ...                                            ...         ...           \n",
       "49997  8.1    21950       2372         Terrapin Coffee Oatmeal Imperial Stout         ...           \n",
       "49998  4.6     5453       1306                            Badger Original Ale         ...           \n",
       "49999  9.4    47695      14879  Barrel Aged B.O.R.I.S. Oatmeal Imperial Stout         ...           \n",
       "\n",
       "          profile_name  review_taste                                               text  \\\n",
       "0             blaheath           4.5   Batch 8144\\tPitch black in color with a 1/2 f...   \n",
       "1                 GJ40           4.0   Sampled from a 12oz bottle in a standard pint...   \n",
       "2             biegaman           3.5   Haystack yellow with an energetic group of bu...   \n",
       "...                ...           ...                                                ...   \n",
       "49997      ugaterrapin           4.5   Poured a light sucking crude oil beckoning bl...   \n",
       "49998  MrHurmateeowish           3.5   500ml brown bottle, 4.0% ABV. Pours a crystal...   \n",
       "49999      strictly4DK           4.5   22 oz bottle poured into a flute glass, share...   \n",
       "\n",
       "                     time  \n",
       "0     2009-10-05 21:31:48  \n",
       "1     2009-10-05 21:32:09  \n",
       "2     2009-10-05 21:32:13  \n",
       "...                   ...  \n",
       "49997 2009-12-25 17:23:52  \n",
       "49998 2009-12-25 17:25:06  \n",
       "49999 2009-12-25 17:26:06  \n",
       "\n",
       "[18007 rows x 13 columns]"
      ]
     },
     "execution_count": 49,
     "metadata": {},
     "output_type": "execute_result"
    }
   ],
   "source": [
    "df[((df.abv < 5) & (df.time > pd.Timestamp('2009-06'))) | (\n",
    "        df.review_overall >= 4.5)]"
   ]
  },
  {
   "cell_type": "markdown",
   "metadata": {
    "slideshow": {
     "slide_type": "slide"
    }
   },
   "source": [
    "# isin\n",
    "\n",
    "Select just the rows where the `beer_style` contains IPA. "
   ]
  },
  {
   "cell_type": "code",
   "execution_count": 50,
   "metadata": {
    "collapsed": false,
    "slideshow": {
     "slide_type": "fragment"
    }
   },
   "outputs": [
    {
     "data": {
      "text/html": [
       "<div>\n",
       "<table border=\"1\" class=\"dataframe\">\n",
       "  <thead>\n",
       "    <tr style=\"text-align: right;\">\n",
       "      <th></th>\n",
       "      <th>abv</th>\n",
       "      <th>beer_id</th>\n",
       "      <th>brewer_id</th>\n",
       "      <th>beer_name</th>\n",
       "      <th>...</th>\n",
       "      <th>profile_name</th>\n",
       "      <th>review_taste</th>\n",
       "      <th>text</th>\n",
       "      <th>time</th>\n",
       "    </tr>\n",
       "  </thead>\n",
       "  <tbody>\n",
       "    <tr>\n",
       "      <th>3</th>\n",
       "      <td>9.5</td>\n",
       "      <td>28577</td>\n",
       "      <td>3818</td>\n",
       "      <td>Unearthly (Imperial India Pale Ale)</td>\n",
       "      <td>...</td>\n",
       "      <td>nick76</td>\n",
       "      <td>4.0</td>\n",
       "      <td>The aroma has pine, wood, citrus, caramel, an...</td>\n",
       "      <td>2009-10-05 21:32:37</td>\n",
       "    </tr>\n",
       "    <tr>\n",
       "      <th>8</th>\n",
       "      <td>6.7</td>\n",
       "      <td>6549</td>\n",
       "      <td>140</td>\n",
       "      <td>Northern Hemisphere Harvest Wet Hop Ale</td>\n",
       "      <td>...</td>\n",
       "      <td>david18</td>\n",
       "      <td>4.0</td>\n",
       "      <td>I like all of Sierra Nevada's beers but felt ...</td>\n",
       "      <td>2009-10-05 21:34:31</td>\n",
       "    </tr>\n",
       "    <tr>\n",
       "      <th>16</th>\n",
       "      <td>8.0</td>\n",
       "      <td>36179</td>\n",
       "      <td>3818</td>\n",
       "      <td>Hoppe (Imperial Extra Pale Ale)</td>\n",
       "      <td>...</td>\n",
       "      <td>nick76</td>\n",
       "      <td>3.0</td>\n",
       "      <td>The aroma is papery with citrus, yeast, and s...</td>\n",
       "      <td>2009-10-05 21:43:23</td>\n",
       "    </tr>\n",
       "    <tr>\n",
       "      <th>...</th>\n",
       "      <td>...</td>\n",
       "      <td>...</td>\n",
       "      <td>...</td>\n",
       "      <td>...</td>\n",
       "      <td>...</td>\n",
       "      <td>...</td>\n",
       "      <td>...</td>\n",
       "      <td>...</td>\n",
       "      <td>...</td>\n",
       "    </tr>\n",
       "    <tr>\n",
       "      <th>49947</th>\n",
       "      <td>7.0</td>\n",
       "      <td>709</td>\n",
       "      <td>199</td>\n",
       "      <td>Big Eye IPA</td>\n",
       "      <td>...</td>\n",
       "      <td>billshmeinke</td>\n",
       "      <td>4.0</td>\n",
       "      <td>12oz into my pint glass.\\t\\tA: Golden honey a...</td>\n",
       "      <td>2009-12-25 08:48:11</td>\n",
       "    </tr>\n",
       "    <tr>\n",
       "      <th>49984</th>\n",
       "      <td>6.0</td>\n",
       "      <td>38388</td>\n",
       "      <td>3718</td>\n",
       "      <td>L'IPA Du Lièvre</td>\n",
       "      <td>...</td>\n",
       "      <td>hlance</td>\n",
       "      <td>4.5</td>\n",
       "      <td>I love this beer, seek it out when I am in Mo...</td>\n",
       "      <td>2009-12-25 16:25:45</td>\n",
       "    </tr>\n",
       "    <tr>\n",
       "      <th>49996</th>\n",
       "      <td>8.0</td>\n",
       "      <td>7971</td>\n",
       "      <td>863</td>\n",
       "      <td>Pliny The Elder</td>\n",
       "      <td>...</td>\n",
       "      <td>hrking</td>\n",
       "      <td>4.0</td>\n",
       "      <td>This is a big hoppy monster of an IPA..If you...</td>\n",
       "      <td>2009-12-25 17:23:24</td>\n",
       "    </tr>\n",
       "  </tbody>\n",
       "</table>\n",
       "<p>7774 rows × 13 columns</p>\n",
       "</div>"
      ],
      "text/plain": [
       "       abv  beer_id  brewer_id                                beer_name         ...          \\\n",
       "3      9.5    28577       3818      Unearthly (Imperial India Pale Ale)         ...           \n",
       "8      6.7     6549        140  Northern Hemisphere Harvest Wet Hop Ale         ...           \n",
       "16     8.0    36179       3818          Hoppe (Imperial Extra Pale Ale)         ...           \n",
       "...    ...      ...        ...                                      ...         ...           \n",
       "49947  7.0      709        199                              Big Eye IPA         ...           \n",
       "49984  6.0    38388       3718                          L'IPA Du Lièvre         ...           \n",
       "49996  8.0     7971        863                          Pliny The Elder         ...           \n",
       "\n",
       "       profile_name  review_taste                                               text  \\\n",
       "3            nick76           4.0   The aroma has pine, wood, citrus, caramel, an...   \n",
       "8           david18           4.0   I like all of Sierra Nevada's beers but felt ...   \n",
       "16           nick76           3.0   The aroma is papery with citrus, yeast, and s...   \n",
       "...             ...           ...                                                ...   \n",
       "49947  billshmeinke           4.0   12oz into my pint glass.\\t\\tA: Golden honey a...   \n",
       "49984        hlance           4.5   I love this beer, seek it out when I am in Mo...   \n",
       "49996        hrking           4.0   This is a big hoppy monster of an IPA..If you...   \n",
       "\n",
       "                     time  \n",
       "3     2009-10-05 21:32:37  \n",
       "8     2009-10-05 21:34:31  \n",
       "16    2009-10-05 21:43:23  \n",
       "...                   ...  \n",
       "49947 2009-12-25 08:48:11  \n",
       "49984 2009-12-25 16:25:45  \n",
       "49996 2009-12-25 17:23:24  \n",
       "\n",
       "[7774 rows x 13 columns]"
      ]
     },
     "execution_count": 50,
     "metadata": {},
     "output_type": "execute_result"
    }
   ],
   "source": [
    "df[df.beer_style.str.contains('IPA')]"
   ]
  },
  {
   "cell_type": "markdown",
   "metadata": {
    "slideshow": {
     "slide_type": "slide"
    }
   },
   "source": [
    "This is quite powerful. Any method that returns a boolean array is potentially an indexer."
   ]
  },
  {
   "cell_type": "code",
   "execution_count": 51,
   "metadata": {
    "collapsed": false,
    "slideshow": {
     "slide_type": "subslide"
    }
   },
   "outputs": [
    {
     "data": {
      "text/plain": [
       "1904     240\n",
       "53863    208\n",
       "52441    158\n",
       "        ... \n",
       "41285      1\n",
       "47430      1\n",
       "53274      1\n",
       "Name: beer_id, dtype: int64"
      ]
     },
     "execution_count": 51,
     "metadata": {},
     "output_type": "execute_result"
    }
   ],
   "source": [
    "beer_ids = df.beer_id.value_counts()\n",
    "beer_ids"
   ]
  },
  {
   "cell_type": "code",
   "execution_count": 52,
   "metadata": {
    "collapsed": false,
    "slideshow": {
     "slide_type": "subslide"
    }
   },
   "outputs": [
    {
     "data": {
      "text/html": [
       "<div>\n",
       "<table border=\"1\" class=\"dataframe\">\n",
       "  <thead>\n",
       "    <tr style=\"text-align: right;\">\n",
       "      <th></th>\n",
       "      <th>abv</th>\n",
       "      <th>beer_id</th>\n",
       "      <th>brewer_id</th>\n",
       "      <th>beer_name</th>\n",
       "      <th>...</th>\n",
       "      <th>profile_name</th>\n",
       "      <th>review_taste</th>\n",
       "      <th>text</th>\n",
       "      <th>time</th>\n",
       "    </tr>\n",
       "  </thead>\n",
       "  <tbody>\n",
       "    <tr>\n",
       "      <th>142</th>\n",
       "      <td>8.6</td>\n",
       "      <td>52441</td>\n",
       "      <td>147</td>\n",
       "      <td>Stone 09.09.09 Vertical Epic Ale</td>\n",
       "      <td>...</td>\n",
       "      <td>aubuc1</td>\n",
       "      <td>4.5</td>\n",
       "      <td>Poured in to a chimay goblet.\\t\\tPours black ...</td>\n",
       "      <td>2009-10-06 00:10:46</td>\n",
       "    </tr>\n",
       "    <tr>\n",
       "      <th>446</th>\n",
       "      <td>8.6</td>\n",
       "      <td>52441</td>\n",
       "      <td>147</td>\n",
       "      <td>Stone 09.09.09 Vertical Epic Ale</td>\n",
       "      <td>...</td>\n",
       "      <td>corby112</td>\n",
       "      <td>3.5</td>\n",
       "      <td>Pours pitch black and completely opaque witho...</td>\n",
       "      <td>2009-10-06 07:59:01</td>\n",
       "    </tr>\n",
       "    <tr>\n",
       "      <th>714</th>\n",
       "      <td>8.6</td>\n",
       "      <td>52441</td>\n",
       "      <td>147</td>\n",
       "      <td>Stone 09.09.09 Vertical Epic Ale</td>\n",
       "      <td>...</td>\n",
       "      <td>alcstradamus</td>\n",
       "      <td>3.5</td>\n",
       "      <td>Near black pour with a mountainous 3 finger h...</td>\n",
       "      <td>2009-10-06 21:31:06</td>\n",
       "    </tr>\n",
       "    <tr>\n",
       "      <th>...</th>\n",
       "      <td>...</td>\n",
       "      <td>...</td>\n",
       "      <td>...</td>\n",
       "      <td>...</td>\n",
       "      <td>...</td>\n",
       "      <td>...</td>\n",
       "      <td>...</td>\n",
       "      <td>...</td>\n",
       "      <td>...</td>\n",
       "    </tr>\n",
       "    <tr>\n",
       "      <th>49715</th>\n",
       "      <td>6.8</td>\n",
       "      <td>1904</td>\n",
       "      <td>140</td>\n",
       "      <td>Sierra Nevada Celebration Ale</td>\n",
       "      <td>...</td>\n",
       "      <td>betterbgood</td>\n",
       "      <td>2.5</td>\n",
       "      <td>I've tried this beer on tap about a year ago,...</td>\n",
       "      <td>2009-12-25 01:13:38</td>\n",
       "    </tr>\n",
       "    <tr>\n",
       "      <th>49844</th>\n",
       "      <td>8.6</td>\n",
       "      <td>52441</td>\n",
       "      <td>147</td>\n",
       "      <td>Stone 09.09.09 Vertical Epic Ale</td>\n",
       "      <td>...</td>\n",
       "      <td>russpowell</td>\n",
       "      <td>4.0</td>\n",
       "      <td>thanks to colonelforbin for this one!\\t\\tPour...</td>\n",
       "      <td>2009-12-25 04:10:49</td>\n",
       "    </tr>\n",
       "    <tr>\n",
       "      <th>49863</th>\n",
       "      <td>5.5</td>\n",
       "      <td>53863</td>\n",
       "      <td>28</td>\n",
       "      <td>Our Special Ale 2009 (Anchor Christmas Ale)</td>\n",
       "      <td>...</td>\n",
       "      <td>FickleBeast</td>\n",
       "      <td>4.0</td>\n",
       "      <td>12 oz bottle poured into a pint glass \\t\\tPou...</td>\n",
       "      <td>2009-12-25 04:38:07</td>\n",
       "    </tr>\n",
       "  </tbody>\n",
       "</table>\n",
       "<p>606 rows × 13 columns</p>\n",
       "</div>"
      ],
      "text/plain": [
       "       abv  beer_id  brewer_id                                    beer_name         ...          \\\n",
       "142    8.6    52441        147             Stone 09.09.09 Vertical Epic Ale         ...           \n",
       "446    8.6    52441        147             Stone 09.09.09 Vertical Epic Ale         ...           \n",
       "714    8.6    52441        147             Stone 09.09.09 Vertical Epic Ale         ...           \n",
       "...    ...      ...        ...                                          ...         ...           \n",
       "49715  6.8     1904        140                Sierra Nevada Celebration Ale         ...           \n",
       "49844  8.6    52441        147             Stone 09.09.09 Vertical Epic Ale         ...           \n",
       "49863  5.5    53863         28  Our Special Ale 2009 (Anchor Christmas Ale)         ...           \n",
       "\n",
       "       profile_name  review_taste                                               text  \\\n",
       "142          aubuc1           4.5   Poured in to a chimay goblet.\\t\\tPours black ...   \n",
       "446        corby112           3.5   Pours pitch black and completely opaque witho...   \n",
       "714    alcstradamus           3.5   Near black pour with a mountainous 3 finger h...   \n",
       "...             ...           ...                                                ...   \n",
       "49715   betterbgood           2.5   I've tried this beer on tap about a year ago,...   \n",
       "49844    russpowell           4.0   thanks to colonelforbin for this one!\\t\\tPour...   \n",
       "49863   FickleBeast           4.0   12 oz bottle poured into a pint glass \\t\\tPou...   \n",
       "\n",
       "                     time  \n",
       "142   2009-10-06 00:10:46  \n",
       "446   2009-10-06 07:59:01  \n",
       "714   2009-10-06 21:31:06  \n",
       "...                   ...  \n",
       "49715 2009-12-25 01:13:38  \n",
       "49844 2009-12-25 04:10:49  \n",
       "49863 2009-12-25 04:38:07  \n",
       "\n",
       "[606 rows x 13 columns]"
      ]
     },
     "execution_count": 52,
     "metadata": {},
     "output_type": "execute_result"
    }
   ],
   "source": [
    "df[df.beer_id.isin(beer_ids[0:3].index)]"
   ]
  },
  {
   "cell_type": "markdown",
   "metadata": {
    "slideshow": {
     "slide_type": "slide"
    }
   },
   "source": [
    "# Hierarchical Indexing\n",
    "\n",
    "One of the most powerful and most complicated features of pandas.\n",
    "Let's you represent high-dimensional datasets in a table."
   ]
  },
  {
   "cell_type": "code",
   "execution_count": 53,
   "metadata": {
    "collapsed": false,
    "slideshow": {
     "slide_type": "subslide"
    }
   },
   "outputs": [
    {
     "data": {
      "text/html": [
       "<div>\n",
       "<table border=\"1\" class=\"dataframe\">\n",
       "  <thead>\n",
       "    <tr style=\"text-align: right;\">\n",
       "      <th></th>\n",
       "      <th></th>\n",
       "      <th></th>\n",
       "      <th>abv</th>\n",
       "      <th>brewer_id</th>\n",
       "      <th>beer_name</th>\n",
       "      <th>beer_style</th>\n",
       "      <th>...</th>\n",
       "      <th>review_overall</th>\n",
       "      <th>review_palate</th>\n",
       "      <th>review_taste</th>\n",
       "      <th>text</th>\n",
       "    </tr>\n",
       "    <tr>\n",
       "      <th>profile_name</th>\n",
       "      <th>beer_id</th>\n",
       "      <th>time</th>\n",
       "      <th></th>\n",
       "      <th></th>\n",
       "      <th></th>\n",
       "      <th></th>\n",
       "      <th></th>\n",
       "      <th></th>\n",
       "      <th></th>\n",
       "      <th></th>\n",
       "      <th></th>\n",
       "    </tr>\n",
       "  </thead>\n",
       "  <tbody>\n",
       "    <tr>\n",
       "      <th>01121987</th>\n",
       "      <th>29077</th>\n",
       "      <th>2009-11-30 03:44:42</th>\n",
       "      <td>9.0</td>\n",
       "      <td>11256</td>\n",
       "      <td>Corne De Brume</td>\n",
       "      <td>Scotch Ale / Wee Heavy</td>\n",
       "      <td>...</td>\n",
       "      <td>5.0</td>\n",
       "      <td>4.0</td>\n",
       "      <td>3.5</td>\n",
       "      <td>Poured into a belgian beer glass, not great h...</td>\n",
       "    </tr>\n",
       "    <tr>\n",
       "      <th rowspan=\"4\" valign=\"top\">05Harley</th>\n",
       "      <th>1307</th>\n",
       "      <th>2009-10-06 00:10:06</th>\n",
       "      <td>8.5</td>\n",
       "      <td>428</td>\n",
       "      <td>Der Weisse Bock</td>\n",
       "      <td>Weizenbock</td>\n",
       "      <td>...</td>\n",
       "      <td>4.0</td>\n",
       "      <td>4.0</td>\n",
       "      <td>4.0</td>\n",
       "      <td>Can't find the date on this one.\\t\\tPurchased...</td>\n",
       "    </tr>\n",
       "    <tr>\n",
       "      <th>2732</th>\n",
       "      <th>2009-12-12 01:21:36</th>\n",
       "      <td>8.0</td>\n",
       "      <td>287</td>\n",
       "      <td>Bell's Consecrator Doppelbock</td>\n",
       "      <td>Doppelbock</td>\n",
       "      <td>...</td>\n",
       "      <td>4.0</td>\n",
       "      <td>4.0</td>\n",
       "      <td>4.5</td>\n",
       "      <td>Bottle # 8881 (02/09)\\t\\tPurchased through We...</td>\n",
       "    </tr>\n",
       "    <tr>\n",
       "      <th>2899</th>\n",
       "      <th>2009-10-20 22:27:01</th>\n",
       "      <td>7.1</td>\n",
       "      <td>911</td>\n",
       "      <td>Andechser Doppelbock Dunkel</td>\n",
       "      <td>Doppelbock</td>\n",
       "      <td>...</td>\n",
       "      <td>5.0</td>\n",
       "      <td>4.0</td>\n",
       "      <td>5.0</td>\n",
       "      <td>Bottle # 300310\\t\\tPurchased through Kracked ...</td>\n",
       "    </tr>\n",
       "    <tr>\n",
       "      <th>3054</th>\n",
       "      <th>2009-11-21 02:17:41</th>\n",
       "      <td>5.0</td>\n",
       "      <td>946</td>\n",
       "      <td>Piton Lager Beer</td>\n",
       "      <td>American Adjunct Lager</td>\n",
       "      <td>...</td>\n",
       "      <td>3.0</td>\n",
       "      <td>2.0</td>\n",
       "      <td>3.0</td>\n",
       "      <td>Bottled in 2007.\\t\\tPurchased in St. Lucia @ ...</td>\n",
       "    </tr>\n",
       "  </tbody>\n",
       "</table>\n",
       "<p>5 rows × 10 columns</p>\n",
       "</div>"
      ],
      "text/plain": [
       "                                          abv  brewer_id                      beer_name  \\\n",
       "profile_name beer_id time                                                                 \n",
       "01121987     29077   2009-11-30 03:44:42  9.0      11256                 Corne De Brume   \n",
       "05Harley     1307    2009-10-06 00:10:06  8.5        428                Der Weisse Bock   \n",
       "             2732    2009-12-12 01:21:36  8.0        287  Bell's Consecrator Doppelbock   \n",
       "             2899    2009-10-20 22:27:01  7.1        911    Andechser Doppelbock Dunkel   \n",
       "             3054    2009-11-21 02:17:41  5.0        946               Piton Lager Beer   \n",
       "\n",
       "                                                      beer_style  \\\n",
       "profile_name beer_id time                                          \n",
       "01121987     29077   2009-11-30 03:44:42  Scotch Ale / Wee Heavy   \n",
       "05Harley     1307    2009-10-06 00:10:06              Weizenbock   \n",
       "             2732    2009-12-12 01:21:36              Doppelbock   \n",
       "             2899    2009-10-20 22:27:01              Doppelbock   \n",
       "             3054    2009-11-21 02:17:41  American Adjunct Lager   \n",
       "\n",
       "                                                                ...                          \\\n",
       "profile_name beer_id time                                       ...                           \n",
       "01121987     29077   2009-11-30 03:44:42                        ...                           \n",
       "05Harley     1307    2009-10-06 00:10:06                        ...                           \n",
       "             2732    2009-12-12 01:21:36                        ...                           \n",
       "             2899    2009-10-20 22:27:01                        ...                           \n",
       "             3054    2009-11-21 02:17:41                        ...                           \n",
       "\n",
       "                                          review_overall  review_palate  review_taste  \\\n",
       "profile_name beer_id time                                                               \n",
       "01121987     29077   2009-11-30 03:44:42             5.0            4.0           3.5   \n",
       "05Harley     1307    2009-10-06 00:10:06             4.0            4.0           4.0   \n",
       "             2732    2009-12-12 01:21:36             4.0            4.0           4.5   \n",
       "             2899    2009-10-20 22:27:01             5.0            4.0           5.0   \n",
       "             3054    2009-11-21 02:17:41             3.0            2.0           3.0   \n",
       "\n",
       "                                                                                       text  \n",
       "profile_name beer_id time                                                                    \n",
       "01121987     29077   2009-11-30 03:44:42   Poured into a belgian beer glass, not great h...  \n",
       "05Harley     1307    2009-10-06 00:10:06   Can't find the date on this one.\\t\\tPurchased...  \n",
       "             2732    2009-12-12 01:21:36   Bottle # 8881 (02/09)\\t\\tPurchased through We...  \n",
       "             2899    2009-10-20 22:27:01   Bottle # 300310\\t\\tPurchased through Kracked ...  \n",
       "             3054    2009-11-21 02:17:41   Bottled in 2007.\\t\\tPurchased in St. Lucia @ ...  \n",
       "\n",
       "[5 rows x 10 columns]"
      ]
     },
     "execution_count": 53,
     "metadata": {},
     "output_type": "execute_result"
    }
   ],
   "source": [
    "reviews = df.set_index(['profile_name', 'beer_id', 'time']).sort_index()\n",
    "reviews.head()"
   ]
  },
  {
   "cell_type": "markdown",
   "metadata": {
    "slideshow": {
     "slide_type": "subslide"
    }
   },
   "source": [
    "# Why is this useful"
   ]
  },
  {
   "cell_type": "code",
   "execution_count": 54,
   "metadata": {
    "collapsed": false,
    "slideshow": {
     "slide_type": "subslide"
    }
   },
   "outputs": [
    {
     "data": {
      "text/plain": [
       "drabmuh           242\n",
       "corby112          230\n",
       "BeerFMAndy        202\n",
       "northyorksammy    201\n",
       "mrmanning         187\n",
       "Name: profile_name, dtype: int64"
      ]
     },
     "execution_count": 54,
     "metadata": {},
     "output_type": "execute_result"
    }
   ],
   "source": [
    "top_reviewers = (reviews\n",
    "                        .index\n",
    "                        .get_level_values('profile_name')\n",
    "                        .value_counts()\n",
    "                        .head(5)\n",
    "                )\n",
    "top_reviewers"
   ]
  },
  {
   "cell_type": "code",
   "execution_count": 55,
   "metadata": {
    "collapsed": false,
    "slideshow": {
     "slide_type": "subslide"
    }
   },
   "outputs": [
    {
     "data": {
      "text/html": [
       "<div>\n",
       "<table border=\"1\" class=\"dataframe\">\n",
       "  <thead>\n",
       "    <tr style=\"text-align: right;\">\n",
       "      <th></th>\n",
       "      <th></th>\n",
       "      <th></th>\n",
       "      <th>abv</th>\n",
       "      <th>brewer_id</th>\n",
       "      <th>beer_name</th>\n",
       "      <th>beer_style</th>\n",
       "      <th>...</th>\n",
       "      <th>review_overall</th>\n",
       "      <th>review_palate</th>\n",
       "      <th>review_taste</th>\n",
       "      <th>text</th>\n",
       "    </tr>\n",
       "    <tr>\n",
       "      <th>profile_name</th>\n",
       "      <th>beer_id</th>\n",
       "      <th>time</th>\n",
       "      <th></th>\n",
       "      <th></th>\n",
       "      <th></th>\n",
       "      <th></th>\n",
       "      <th></th>\n",
       "      <th></th>\n",
       "      <th></th>\n",
       "      <th></th>\n",
       "      <th></th>\n",
       "    </tr>\n",
       "  </thead>\n",
       "  <tbody>\n",
       "    <tr>\n",
       "      <th rowspan=\"2\" valign=\"top\">BeerFMAndy</th>\n",
       "      <th>92</th>\n",
       "      <th>2009-12-24 21:51:46</th>\n",
       "      <td>7.2</td>\n",
       "      <td>147</td>\n",
       "      <td>Arrogant Bastard Ale</td>\n",
       "      <td>American Strong Ale</td>\n",
       "      <td>...</td>\n",
       "      <td>4.5</td>\n",
       "      <td>4.0</td>\n",
       "      <td>4.0</td>\n",
       "      <td>22 oz bottle poured into a Sierra Nevada Impe...</td>\n",
       "    </tr>\n",
       "    <tr>\n",
       "      <th>100</th>\n",
       "      <th>2009-10-22 03:39:21</th>\n",
       "      <td>5.7</td>\n",
       "      <td>306</td>\n",
       "      <td>Blue Moon Harvest Moon Pumpkin Ale</td>\n",
       "      <td>Pumpkin Ale</td>\n",
       "      <td>...</td>\n",
       "      <td>2.0</td>\n",
       "      <td>2.5</td>\n",
       "      <td>2.0</td>\n",
       "      <td>12 oz bottle poured into an Imperial Pint. Ma...</td>\n",
       "    </tr>\n",
       "    <tr>\n",
       "      <th>...</th>\n",
       "      <th>...</th>\n",
       "      <th>...</th>\n",
       "      <td>...</td>\n",
       "      <td>...</td>\n",
       "      <td>...</td>\n",
       "      <td>...</td>\n",
       "      <td>...</td>\n",
       "      <td>...</td>\n",
       "      <td>...</td>\n",
       "      <td>...</td>\n",
       "      <td>...</td>\n",
       "    </tr>\n",
       "    <tr>\n",
       "      <th rowspan=\"2\" valign=\"top\">northyorksammy</th>\n",
       "      <th>54918</th>\n",
       "      <th>2009-12-21 14:56:29</th>\n",
       "      <td>12.0</td>\n",
       "      <td>2097</td>\n",
       "      <td>Kuhnhenn Bonicci Barley Wine</td>\n",
       "      <td>American Barleywine</td>\n",
       "      <td>...</td>\n",
       "      <td>3.0</td>\n",
       "      <td>3.5</td>\n",
       "      <td>3.5</td>\n",
       "      <td>Winner of the amateur brewing fest,Jerry Boni...</td>\n",
       "    </tr>\n",
       "    <tr>\n",
       "      <th>54919</th>\n",
       "      <th>2009-12-21 14:59:39</th>\n",
       "      <td>7.0</td>\n",
       "      <td>2097</td>\n",
       "      <td>Kuhnhenn Foreign Export Stout</td>\n",
       "      <td>Foreign / Export Stout</td>\n",
       "      <td>...</td>\n",
       "      <td>3.5</td>\n",
       "      <td>4.0</td>\n",
       "      <td>3.5</td>\n",
       "      <td>Thick stout, a study in chocolate. Very smoot...</td>\n",
       "    </tr>\n",
       "  </tbody>\n",
       "</table>\n",
       "<p>1062 rows × 10 columns</p>\n",
       "</div>"
      ],
      "text/plain": [
       "                                             abv  brewer_id                           beer_name  \\\n",
       "profile_name   beer_id time                                                                       \n",
       "BeerFMAndy     92      2009-12-24 21:51:46   7.2        147                Arrogant Bastard Ale   \n",
       "               100     2009-10-22 03:39:21   5.7        306  Blue Moon Harvest Moon Pumpkin Ale   \n",
       "...                                          ...        ...                                 ...   \n",
       "northyorksammy 54918   2009-12-21 14:56:29  12.0       2097        Kuhnhenn Bonicci Barley Wine   \n",
       "               54919   2009-12-21 14:59:39   7.0       2097       Kuhnhenn Foreign Export Stout   \n",
       "\n",
       "                                                        beer_style  \\\n",
       "profile_name   beer_id time                                          \n",
       "BeerFMAndy     92      2009-12-24 21:51:46     American Strong Ale   \n",
       "               100     2009-10-22 03:39:21             Pumpkin Ale   \n",
       "...                                                            ...   \n",
       "northyorksammy 54918   2009-12-21 14:56:29     American Barleywine   \n",
       "               54919   2009-12-21 14:59:39  Foreign / Export Stout   \n",
       "\n",
       "                                                                  ...                          \\\n",
       "profile_name   beer_id time                                       ...                           \n",
       "BeerFMAndy     92      2009-12-24 21:51:46                        ...                           \n",
       "               100     2009-10-22 03:39:21                        ...                           \n",
       "...                                                               ...                           \n",
       "northyorksammy 54918   2009-12-21 14:56:29                        ...                           \n",
       "               54919   2009-12-21 14:59:39                        ...                           \n",
       "\n",
       "                                            review_overall  review_palate  review_taste  \\\n",
       "profile_name   beer_id time                                                               \n",
       "BeerFMAndy     92      2009-12-24 21:51:46             4.5            4.0           4.0   \n",
       "               100     2009-10-22 03:39:21             2.0            2.5           2.0   \n",
       "...                                                    ...            ...           ...   \n",
       "northyorksammy 54918   2009-12-21 14:56:29             3.0            3.5           3.5   \n",
       "               54919   2009-12-21 14:59:39             3.5            4.0           3.5   \n",
       "\n",
       "                                                                                         text  \n",
       "profile_name   beer_id time                                                                    \n",
       "BeerFMAndy     92      2009-12-24 21:51:46   22 oz bottle poured into a Sierra Nevada Impe...  \n",
       "               100     2009-10-22 03:39:21   12 oz bottle poured into an Imperial Pint. Ma...  \n",
       "...                                                                                       ...  \n",
       "northyorksammy 54918   2009-12-21 14:56:29   Winner of the amateur brewing fest,Jerry Boni...  \n",
       "               54919   2009-12-21 14:59:39   Thick stout, a study in chocolate. Very smoot...  \n",
       "\n",
       "[1062 rows x 10 columns]"
      ]
     },
     "execution_count": 55,
     "metadata": {},
     "output_type": "execute_result"
    }
   ],
   "source": [
    "pd.options.display.max_rows=4\n",
    "reviews.loc[top_reviewers.index, :, :]"
   ]
  },
  {
   "cell_type": "code",
   "execution_count": 56,
   "metadata": {
    "collapsed": false,
    "slideshow": {
     "slide_type": "subslide"
    }
   },
   "outputs": [
    {
     "data": {
      "text/html": [
       "<div>\n",
       "<table border=\"1\" class=\"dataframe\">\n",
       "  <thead>\n",
       "    <tr style=\"text-align: right;\">\n",
       "      <th></th>\n",
       "      <th></th>\n",
       "      <th></th>\n",
       "      <th>abv</th>\n",
       "      <th>brewer_id</th>\n",
       "      <th>beer_name</th>\n",
       "      <th>beer_style</th>\n",
       "      <th>...</th>\n",
       "      <th>review_overall</th>\n",
       "      <th>review_palate</th>\n",
       "      <th>review_taste</th>\n",
       "      <th>text</th>\n",
       "    </tr>\n",
       "    <tr>\n",
       "      <th>profile_name</th>\n",
       "      <th>beer_id</th>\n",
       "      <th>time</th>\n",
       "      <th></th>\n",
       "      <th></th>\n",
       "      <th></th>\n",
       "      <th></th>\n",
       "      <th></th>\n",
       "      <th></th>\n",
       "      <th></th>\n",
       "      <th></th>\n",
       "      <th></th>\n",
       "    </tr>\n",
       "  </thead>\n",
       "  <tbody>\n",
       "    <tr>\n",
       "      <th>BeerFMAndy</th>\n",
       "      <th>100</th>\n",
       "      <th>2009-10-22 03:39:21</th>\n",
       "      <td>5.7</td>\n",
       "      <td>306</td>\n",
       "      <td>Blue Moon Harvest Moon Pumpkin Ale</td>\n",
       "      <td>Pumpkin Ale</td>\n",
       "      <td>...</td>\n",
       "      <td>2.0</td>\n",
       "      <td>2.5</td>\n",
       "      <td>2.0</td>\n",
       "      <td>12 oz bottle poured into an Imperial Pint. Ma...</td>\n",
       "    </tr>\n",
       "  </tbody>\n",
       "</table>\n",
       "<p>1 rows × 10 columns</p>\n",
       "</div>"
      ],
      "text/plain": [
       "                                          abv  brewer_id                           beer_name  \\\n",
       "profile_name beer_id time                                                                      \n",
       "BeerFMAndy   100     2009-10-22 03:39:21  5.7        306  Blue Moon Harvest Moon Pumpkin Ale   \n",
       "\n",
       "                                           beer_style  \\\n",
       "profile_name beer_id time                               \n",
       "BeerFMAndy   100     2009-10-22 03:39:21  Pumpkin Ale   \n",
       "\n",
       "                                                                ...                          \\\n",
       "profile_name beer_id time                                       ...                           \n",
       "BeerFMAndy   100     2009-10-22 03:39:21                        ...                           \n",
       "\n",
       "                                          review_overall  review_palate  review_taste  \\\n",
       "profile_name beer_id time                                                               \n",
       "BeerFMAndy   100     2009-10-22 03:39:21             2.0            2.5           2.0   \n",
       "\n",
       "                                                                                       text  \n",
       "profile_name beer_id time                                                                    \n",
       "BeerFMAndy   100     2009-10-22 03:39:21   12 oz bottle poured into an Imperial Pint. Ma...  \n",
       "\n",
       "[1 rows x 10 columns]"
      ]
     },
     "execution_count": 56,
     "metadata": {},
     "output_type": "execute_result"
    }
   ],
   "source": [
    "reviews.loc[[('BeerFMAndy',100,pd.Timestamp('2009-10-22 03:39:21'))]]"
   ]
  },
  {
   "cell_type": "markdown",
   "metadata": {
    "slideshow": {
     "slide_type": "subslide"
    }
   },
   "source": [
    "### Specifying multi-axis indexers"
   ]
  },
  {
   "cell_type": "code",
   "execution_count": 57,
   "metadata": {
    "collapsed": true
   },
   "outputs": [],
   "source": [
    "idx = pd.IndexSlice"
   ]
  },
  {
   "cell_type": "code",
   "execution_count": 58,
   "metadata": {
    "collapsed": false,
    "slideshow": {
     "slide_type": "fragment"
    }
   },
   "outputs": [
    {
     "data": {
      "text/html": [
       "<div>\n",
       "<table border=\"1\" class=\"dataframe\">\n",
       "  <thead>\n",
       "    <tr style=\"text-align: right;\">\n",
       "      <th></th>\n",
       "      <th></th>\n",
       "      <th></th>\n",
       "      <th>beer_name</th>\n",
       "      <th>beer_style</th>\n",
       "    </tr>\n",
       "    <tr>\n",
       "      <th>profile_name</th>\n",
       "      <th>beer_id</th>\n",
       "      <th>time</th>\n",
       "      <th></th>\n",
       "      <th></th>\n",
       "    </tr>\n",
       "  </thead>\n",
       "  <tbody>\n",
       "    <tr>\n",
       "      <th>BeerFMAndy</th>\n",
       "      <th>92</th>\n",
       "      <th>2009-12-24 21:51:46</th>\n",
       "      <td>Arrogant Bastard Ale</td>\n",
       "      <td>American Strong Ale</td>\n",
       "    </tr>\n",
       "    <tr>\n",
       "      <th>northyorksammy</th>\n",
       "      <th>54919</th>\n",
       "      <th>2009-12-21 14:59:39</th>\n",
       "      <td>Kuhnhenn Foreign Export Stout</td>\n",
       "      <td>Foreign / Export Stout</td>\n",
       "    </tr>\n",
       "  </tbody>\n",
       "</table>\n",
       "</div>"
      ],
      "text/plain": [
       "                                                                beer_name              beer_style\n",
       "profile_name   beer_id time                                                                      \n",
       "BeerFMAndy     92      2009-12-24 21:51:46           Arrogant Bastard Ale     American Strong Ale\n",
       "northyorksammy 54919   2009-12-21 14:59:39  Kuhnhenn Foreign Export Stout  Foreign / Export Stout"
      ]
     },
     "execution_count": 58,
     "metadata": {},
     "output_type": "execute_result"
    }
   ],
   "source": [
    "reviews.loc[idx[top_reviewers.index, [92,54919], :], \n",
    "               ['beer_name','beer_style']]"
   ]
  },
  {
   "cell_type": "code",
   "execution_count": 59,
   "metadata": {
    "collapsed": false,
    "slideshow": {
     "slide_type": "fragment"
    }
   },
   "outputs": [
    {
     "data": {
      "text/html": [
       "<div>\n",
       "<table border=\"1\" class=\"dataframe\">\n",
       "  <thead>\n",
       "    <tr style=\"text-align: right;\">\n",
       "      <th></th>\n",
       "      <th></th>\n",
       "      <th></th>\n",
       "      <th>beer_name</th>\n",
       "      <th>beer_style</th>\n",
       "    </tr>\n",
       "    <tr>\n",
       "      <th>profile_name</th>\n",
       "      <th>beer_id</th>\n",
       "      <th>time</th>\n",
       "      <th></th>\n",
       "      <th></th>\n",
       "    </tr>\n",
       "  </thead>\n",
       "  <tbody>\n",
       "    <tr>\n",
       "      <th>BeerFMAndy</th>\n",
       "      <th>92</th>\n",
       "      <th>2009-12-24 21:51:46</th>\n",
       "      <td>Arrogant Bastard Ale</td>\n",
       "      <td>American Strong Ale</td>\n",
       "    </tr>\n",
       "    <tr>\n",
       "      <th>northyorksammy</th>\n",
       "      <th>54919</th>\n",
       "      <th>2009-12-21 14:59:39</th>\n",
       "      <td>Kuhnhenn Foreign Export Stout</td>\n",
       "      <td>Foreign / Export Stout</td>\n",
       "    </tr>\n",
       "  </tbody>\n",
       "</table>\n",
       "</div>"
      ],
      "text/plain": [
       "                                                                beer_name              beer_style\n",
       "profile_name   beer_id time                                                                      \n",
       "BeerFMAndy     92      2009-12-24 21:51:46           Arrogant Bastard Ale     American Strong Ale\n",
       "northyorksammy 54919   2009-12-21 14:59:39  Kuhnhenn Foreign Export Stout  Foreign / Export Stout"
      ]
     },
     "execution_count": 59,
     "metadata": {},
     "output_type": "execute_result"
    }
   ],
   "source": [
    "(reviews\n",
    "        .query('profile_name in @top_reviewers.index and \\\n",
    "                beer_id in [92,54919]')\n",
    "        [['beer_name','beer_style']]\n",
    " )"
   ]
  }
 ],
 "metadata": {
  "celltoolbar": "Slideshow",
  "kernelspec": {
   "display_name": "Python3 (talk)",
   "language": "python",
   "name": "talk"
  },
  "language_info": {
   "codemirror_mode": {
    "name": "ipython",
    "version": 3
   },
   "file_extension": ".py",
   "mimetype": "text/x-python",
   "name": "python",
   "nbconvert_exporter": "python",
   "pygments_lexer": "ipython3",
   "version": "3.5.1"
  }
 },
 "nbformat": 4,
 "nbformat_minor": 0
}
