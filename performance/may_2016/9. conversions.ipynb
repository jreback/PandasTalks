{
 "cells": [
  {
   "cell_type": "markdown",
   "metadata": {
    "slideshow": {
     "slide_type": "slide"
    }
   },
   "source": [
    "# data conversions"
   ]
  },
  {
   "cell_type": "code",
   "execution_count": 1,
   "metadata": {
    "collapsed": false
   },
   "outputs": [
    {
     "data": {
      "text/plain": [
       "'0.18.1'"
      ]
     },
     "execution_count": 1,
     "metadata": {},
     "output_type": "execute_result"
    }
   ],
   "source": [
    "import numpy as np\n",
    "import pandas as pd\n",
    "%matplotlib inline\n",
    "pd.options.display.max_rows=10\n",
    "pd.options.display.max_seq_items=4\n",
    "pd.__version__"
   ]
  },
  {
   "cell_type": "markdown",
   "metadata": {
    "slideshow": {
     "slide_type": "slide"
    }
   },
   "source": [
    "# dates"
   ]
  },
  {
   "cell_type": "code",
   "execution_count": 2,
   "metadata": {
    "collapsed": false
   },
   "outputs": [
    {
     "data": {
      "text/plain": [
       "DatetimeIndex(['2013-01-01 00:00:00', '2013-01-01 01:00:00',\n",
       "               ...\n",
       "               '2014-02-21 14:00:00', '2014-02-21 15:00:00'], dtype='datetime64[ns]', length=10000, freq='H')"
      ]
     },
     "execution_count": 2,
     "metadata": {},
     "output_type": "execute_result"
    }
   ],
   "source": [
    "idx = pd.date_range('20130101',freq='h',periods=10000)\n",
    "idx"
   ]
  },
  {
   "cell_type": "code",
   "execution_count": 3,
   "metadata": {
    "collapsed": false
   },
   "outputs": [
    {
     "data": {
      "text/plain": [
       "array(['201301', '201301', '201301', ..., '201402', '201402', '201402'], \n",
       "      dtype='<U6')"
      ]
     },
     "execution_count": 3,
     "metadata": {},
     "output_type": "execute_result"
    }
   ],
   "source": [
    "strings = idx.strftime('%Y%m')\n",
    "strings"
   ]
  },
  {
   "cell_type": "code",
   "execution_count": 4,
   "metadata": {
    "collapsed": true,
    "slideshow": {
     "slide_type": "subslide"
    }
   },
   "outputs": [],
   "source": [
    "def slow_format(strings):\n",
    "    return [ pd.to_datetime(s,format='%Y%m') for s in strings ]\n",
    "def reg_format(strings):\n",
    "    return pd.to_datetime(strings,format='%Y%m')\n",
    "def fast_format(strings):\n",
    "    return pd.to_datetime(np.array(strings).astype(int)*100+1,\n",
    "                          format='%Y%m%d')"
   ]
  },
  {
   "cell_type": "code",
   "execution_count": 5,
   "metadata": {
    "collapsed": false
   },
   "outputs": [
    {
     "data": {
      "text/plain": [
       "True"
      ]
     },
     "execution_count": 5,
     "metadata": {},
     "output_type": "execute_result"
    }
   ],
   "source": [
    "results = [slow_format(strings), reg_format(strings), fast_format(strings)]\n",
    "\n",
    "from itertools import permutations\n",
    "np.array(list(map(lambda x: x[0] == x[1], permutations(results, 2)))).all()"
   ]
  },
  {
   "cell_type": "code",
   "execution_count": 6,
   "metadata": {
    "collapsed": true
   },
   "outputs": [],
   "source": [
    "t = {}"
   ]
  },
  {
   "cell_type": "code",
   "execution_count": 7,
   "metadata": {
    "collapsed": false,
    "slideshow": {
     "slide_type": "subslide"
    }
   },
   "outputs": [
    {
     "name": "stdout",
     "output_type": "stream",
     "text": [
      "1 loop, best of 3: 938 ms per loop\n"
     ]
    }
   ],
   "source": [
    "x = %timeit -o slow_format(strings)\n",
    "t['slow'] = x.best"
   ]
  },
  {
   "cell_type": "code",
   "execution_count": 8,
   "metadata": {
    "collapsed": false,
    "slideshow": {
     "slide_type": "fragment"
    }
   },
   "outputs": [
    {
     "name": "stdout",
     "output_type": "stream",
     "text": [
      "10 loops, best of 3: 27.4 ms per loop\n"
     ]
    }
   ],
   "source": [
    "x = %timeit -o reg_format(strings)\n",
    "t['reg'] = x.best"
   ]
  },
  {
   "cell_type": "code",
   "execution_count": 9,
   "metadata": {
    "collapsed": false,
    "slideshow": {
     "slide_type": "fragment"
    }
   },
   "outputs": [
    {
     "name": "stdout",
     "output_type": "stream",
     "text": [
      "100 loops, best of 3: 8.63 ms per loop\n"
     ]
    }
   ],
   "source": [
    "x = %timeit -o fast_format(strings)\n",
    "t['fast'] = x.best"
   ]
  },
  {
   "cell_type": "code",
   "execution_count": 10,
   "metadata": {
    "collapsed": false,
    "slideshow": {
     "slide_type": "subslide"
    }
   },
   "outputs": [
    {
     "data": {
      "text/plain": [
       "<matplotlib.axes._subplots.AxesSubplot at 0x1144c15f8>"
      ]
     },
     "execution_count": 10,
     "metadata": {},
     "output_type": "execute_result"
    },
    {
     "data": {
      "image/png": "[encoded data removed]",
      "text/plain": [
       "<matplotlib.figure.Figure at 0x113891e48>"
      ]
     },
     "metadata": {},
     "output_type": "display_data"
    }
   ],
   "source": [
    "(Series(t).sort_values(ascending=False)\n",
    "          .plot\n",
    "          .barh()\n",
    " )"
   ]
  },
  {
   "cell_type": "markdown",
   "metadata": {
    "slideshow": {
     "slide_type": "slide"
    }
   },
   "source": [
    "# csv and dates"
   ]
  },
  {
   "cell_type": "code",
   "execution_count": 11,
   "metadata": {
    "collapsed": false
   },
   "outputs": [],
   "source": [
    "fn = 'data/csv_and_dates.csv'\n",
    "N = int(1e4)\n",
    "df = DataFrame({'A' : np.random.randn(N)}, \n",
    "               index=pd.date_range('20130101',freq='s',periods=N))\n",
    "df.index = df.index.format(date_format='%Y/%b/%d %H:%M:%S')\n",
    "df.index.name ='dates'\n",
    "df.to_csv(fn)"
   ]
  },
  {
   "cell_type": "code",
   "execution_count": 12,
   "metadata": {
    "collapsed": false
   },
   "outputs": [
    {
     "name": "stdout",
     "output_type": "stream",
     "text": [
      "dates,A\r\n",
      "2013/Jan/01 00:00:00,-0.3885784695675464\r\n",
      "2013/Jan/01 00:00:01,1.5426198986914668\r\n",
      "2013/Jan/01 00:00:02,2.24087882785293\r\n",
      "2013/Jan/01 00:00:03,0.6636148618665987\r\n",
      "2013/Jan/01 00:00:04,0.9601101790673733\r\n",
      "2013/Jan/01 00:00:05,-0.7880563856868205\r\n",
      "2013/Jan/01 00:00:06,-0.22137936343824866\r\n",
      "2013/Jan/01 00:00:07,-1.417785169920416\r\n",
      "2013/Jan/01 00:00:08,0.847959863264044\r\n"
     ]
    }
   ],
   "source": [
    "!head 'data/csv_and_dates.csv'"
   ]
  },
  {
   "cell_type": "code",
   "execution_count": 13,
   "metadata": {
    "collapsed": false,
    "slideshow": {
     "slide_type": "subslide"
    }
   },
   "outputs": [],
   "source": [
    "def read_dp():\n",
    "    dp = lambda s: datetime.datetime.strptime(s,'%Y/%b/%d %H:%M:%S')\n",
    "    return pd.read_csv(fn,\n",
    "                       date_parser=dp,\n",
    "                       index_col='dates')\n",
    "def read_reg():\n",
    "    return pd.read_csv(fn,parse_dates=['dates'],\n",
    "                       index_col='dates')\n",
    "def read_infer():\n",
    "    return pd.read_csv(fn,parse_dates=['dates'],\n",
    "                       infer_datetime_format=True,\n",
    "                       index_col='dates')\n",
    "def read_post_convert():\n",
    "    df = pd.read_csv(fn,\n",
    "                     index_col='dates')\n",
    "    df.index = pd.to_datetime(df.index,\n",
    "                              format='%Y/%b/%d %H:%M:%S')\n",
    "    return df"
   ]
  },
  {
   "cell_type": "code",
   "execution_count": 14,
   "metadata": {
    "collapsed": false
   },
   "outputs": [
    {
     "data": {
      "text/plain": [
       "True"
      ]
     },
     "execution_count": 14,
     "metadata": {},
     "output_type": "execute_result"
    }
   ],
   "source": [
    "results = [read_dp(),read_reg(),read_infer(),read_post_convert()]\n",
    "\n",
    "from itertools import permutations\n",
    "np.array(list(map(lambda x: x[0].equals(x[1]), permutations(results, 2)))).all()"
   ]
  },
  {
   "cell_type": "code",
   "execution_count": 15,
   "metadata": {
    "collapsed": true
   },
   "outputs": [],
   "source": [
    "t = {}"
   ]
  },
  {
   "cell_type": "code",
   "execution_count": 16,
   "metadata": {
    "collapsed": false,
    "slideshow": {
     "slide_type": "subslide"
    }
   },
   "outputs": [
    {
     "name": "stdout",
     "output_type": "stream",
     "text": [
      "10 loops, best of 3: 147 ms per loop\n"
     ]
    }
   ],
   "source": [
    "x = %timeit -o read_dp()\n",
    "t['dp'] = x.best"
   ]
  },
  {
   "cell_type": "code",
   "execution_count": 17,
   "metadata": {
    "collapsed": false,
    "slideshow": {
     "slide_type": "fragment"
    }
   },
   "outputs": [
    {
     "name": "stdout",
     "output_type": "stream",
     "text": [
      "1 loop, best of 3: 1.3 s per loop\n"
     ]
    }
   ],
   "source": [
    "x = %timeit -o read_reg()\n",
    "t['reg'] = x.best"
   ]
  },
  {
   "cell_type": "code",
   "execution_count": 18,
   "metadata": {
    "collapsed": false,
    "slideshow": {
     "slide_type": "fragment"
    }
   },
   "outputs": [
    {
     "name": "stdout",
     "output_type": "stream",
     "text": [
      "10 loops, best of 3: 59.2 ms per loop\n"
     ]
    }
   ],
   "source": [
    "x = %timeit -o read_infer()\n",
    "t['infer'] = x.best"
   ]
  },
  {
   "cell_type": "code",
   "execution_count": 19,
   "metadata": {
    "collapsed": false,
    "slideshow": {
     "slide_type": "fragment"
    }
   },
   "outputs": [
    {
     "name": "stdout",
     "output_type": "stream",
     "text": [
      "10 loops, best of 3: 57.5 ms per loop\n"
     ]
    }
   ],
   "source": [
    "x = %timeit -o read_post_convert()\n",
    "t['post_convert'] = x.best"
   ]
  },
  {
   "cell_type": "code",
   "execution_count": 21,
   "metadata": {
    "collapsed": false,
    "slideshow": {
     "slide_type": "subslide"
    }
   },
   "outputs": [
    {
     "data": {
      "text/plain": [
       "<matplotlib.axes._subplots.AxesSubplot at 0x116ec46d8>"
      ]
     },
     "execution_count": 21,
     "metadata": {},
     "output_type": "execute_result"
    },
    {
     "data": {
      "image/png": "[encoded data removed]",
      "text/plain": [
       "<matplotlib.figure.Figure at 0x116ec02e8>"
      ]
     },
     "metadata": {},
     "output_type": "display_data"
    }
   ],
   "source": [
    "(Series(t).sort_values(ascending=False)\n",
    "          .plot\n",
    "          .barh(log=True)\n",
    " )"
   ]
  }
 ],
 "metadata": {
  "celltoolbar": "Slideshow",
  "kernelspec": {
   "display_name": "Python3 (talk)",
   "language": "python",
   "name": "talk"
  },
  "language_info": {
   "codemirror_mode": {
    "name": "ipython",
    "version": 3
   },
   "file_extension": ".py",
   "mimetype": "text/x-python",
   "name": "python",
   "nbconvert_exporter": "python",
   "pygments_lexer": "ipython3",
   "version": "3.5.1"
  }
 },
 "nbformat": 4,
 "nbformat_minor": 0
}
