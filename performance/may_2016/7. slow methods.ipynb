{
 "cells": [
  {
   "cell_type": "markdown",
   "metadata": {
    "slideshow": {
     "slide_type": "slide"
    }
   },
   "source": [
    "# How to make pandas go <font color='red'>slow</font>"
   ]
  },
  {
   "cell_type": "code",
   "execution_count": 2,
   "metadata": {
    "collapsed": false
   },
   "outputs": [],
   "source": [
    "pd.set_option('max_rows',12)\n",
    "%matplotlib inline"
   ]
  },
  {
   "cell_type": "code",
   "execution_count": 3,
   "metadata": {
    "collapsed": false
   },
   "outputs": [],
   "source": [
    "df = pd.DataFrame(np.random.randn(10000,2),columns=list('AB'))"
   ]
  },
  {
   "cell_type": "code",
   "execution_count": 4,
   "metadata": {
    "collapsed": false,
    "slideshow": {
     "slide_type": "subslide"
    }
   },
   "outputs": [],
   "source": [
    "def f_baseline(df):\n",
    "    return df['A']+1\n",
    "    \n",
    "def f_apply(df):\n",
    "    return df.apply(lambda x: x['A'] + 1, axis=1)\n",
    "\n",
    "def f_itertuples(df):\n",
    "    l = []\n",
    "    for row in df.itertuples():\n",
    "        l.append(row[1]+1)\n",
    "    return Series(l,name='A')\n",
    "\n",
    "def f_iterrows(df):\n",
    "    l = []\n",
    "    for rowindex, row in df.iterrows():\n",
    "        l.append(row['A']+1)\n",
    "    return Series(l,name='A')\n",
    "\n",
    "def f_index(df):\n",
    "    s = df.A.copy()\n",
    "    for i in range(len(s)):\n",
    "        s.iloc[i] += 1\n",
    "    return s\n",
    "\n",
    "def f_index2(df):\n",
    "    l = []\n",
    "    for i in range(len(df)):\n",
    "        l.append(df.iloc[i,0] + 1)\n",
    "    return Series(l,name='A')\n"
   ]
  },
  {
   "cell_type": "code",
   "execution_count": 5,
   "metadata": {
    "collapsed": false,
    "slideshow": {
     "slide_type": "subslide"
    }
   },
   "outputs": [],
   "source": [
    "results = [f_baseline(df), f_itertuples(df), f_apply(df), f_iterrows(df), \n",
    "           f_index(df), f_index2(df)]"
   ]
  },
  {
   "cell_type": "code",
   "execution_count": 6,
   "metadata": {
    "collapsed": false
   },
   "outputs": [
    {
     "data": {
      "text/plain": [
       "True"
      ]
     },
     "execution_count": 6,
     "metadata": {},
     "output_type": "execute_result"
    }
   ],
   "source": [
    "from itertools import imap, permutations\n",
    "np.array(list(imap(lambda x: x[0].equals(x[1]), permutations(results, 2)))).all()"
   ]
  },
  {
   "cell_type": "code",
   "execution_count": 18,
   "metadata": {
    "collapsed": true
   },
   "outputs": [],
   "source": [
    "t = {}"
   ]
  },
  {
   "cell_type": "code",
   "execution_count": 33,
   "metadata": {
    "collapsed": false,
    "slideshow": {
     "slide_type": "subslide"
    }
   },
   "outputs": [
    {
     "name": "stdout",
     "output_type": "stream",
     "text": [
      "100 loops, best of 1: 76.2 µs per loop\n"
     ]
    }
   ],
   "source": [
    "x = %timeit -o -n 100 -r 1 f_baseline(df)\n",
    "t['baseline'] = x.best"
   ]
  },
  {
   "cell_type": "code",
   "execution_count": 35,
   "metadata": {
    "collapsed": false,
    "slideshow": {
     "slide_type": "fragment"
    }
   },
   "outputs": [
    {
     "name": "stdout",
     "output_type": "stream",
     "text": [
      "100 loops, best of 3: 5.95 ms per loop\n"
     ]
    }
   ],
   "source": [
    "x = %timeit -o f_itertuples(df)\n",
    "t['itertuples'] = x.best"
   ]
  },
  {
   "cell_type": "code",
   "execution_count": 36,
   "metadata": {
    "collapsed": false,
    "slideshow": {
     "slide_type": "fragment"
    }
   },
   "outputs": [
    {
     "name": "stdout",
     "output_type": "stream",
     "text": [
      "10 loops, best of 3: 106 ms per loop\n"
     ]
    }
   ],
   "source": [
    "x = %timeit -o f_apply(df)\n",
    "t['apply'] = x.best"
   ]
  },
  {
   "cell_type": "code",
   "execution_count": 37,
   "metadata": {
    "collapsed": false,
    "slideshow": {
     "slide_type": "fragment"
    }
   },
   "outputs": [
    {
     "name": "stdout",
     "output_type": "stream",
     "text": [
      "1 loops, best of 3: 231 ms per loop\n"
     ]
    }
   ],
   "source": [
    "x = %timeit -o f_iterrows(df)\n",
    "t['iterrows'] = x.best"
   ]
  },
  {
   "cell_type": "code",
   "execution_count": 38,
   "metadata": {
    "collapsed": false,
    "slideshow": {
     "slide_type": "fragment"
    }
   },
   "outputs": [
    {
     "name": "stdout",
     "output_type": "stream",
     "text": [
      "1 loops, best of 3: 748 ms per loop\n"
     ]
    }
   ],
   "source": [
    "x = %timeit -o f_index(df)\n",
    "t['index'] = x.best"
   ]
  },
  {
   "cell_type": "code",
   "execution_count": 39,
   "metadata": {
    "collapsed": false,
    "slideshow": {
     "slide_type": "fragment"
    }
   },
   "outputs": [
    {
     "name": "stdout",
     "output_type": "stream",
     "text": [
      "1 loops, best of 3: 1.06 s per loop\n"
     ]
    }
   ],
   "source": [
    "x = %timeit -o f_index2(df)\n",
    "t['index2'] = x.best"
   ]
  },
  {
   "cell_type": "code",
   "execution_count": 41,
   "metadata": {
    "collapsed": false,
    "slideshow": {
     "slide_type": "subslide"
    }
   },
   "outputs": [
    {
     "data": {
      "text/plain": [
       "<matplotlib.axes._subplots.AxesSubplot at 0x109ef1bd0>"
      ]
     },
     "execution_count": 41,
     "metadata": {},
     "output_type": "execute_result"
    },
    {
     "data": {
      "image/png": "[encoded data removed]",
      "text/plain": [
       "<matplotlib.figure.Figure at 0x109ef1110>"
      ]
     },
     "metadata": {},
     "output_type": "display_data"
    }
   ],
   "source": [
    "s = Series(t).sort_values(ascending=True)\n",
    "s.plot(kind='barh')"
   ]
  }
 ],
 "metadata": {
  "celltoolbar": "Slideshow",
  "kernelspec": {
   "display_name": "Python 2",
   "language": "python",
   "name": "python2"
  },
  "language_info": {
   "codemirror_mode": {
    "name": "ipython",
    "version": 2
   },
   "file_extension": ".py",
   "mimetype": "text/x-python",
   "name": "python",
   "nbconvert_exporter": "python",
   "pygments_lexer": "ipython2",
   "version": "2.7.10"
  }
 },
 "nbformat": 4,
 "nbformat_minor": 0
}
