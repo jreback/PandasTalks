{
 "cells": [
  {
   "cell_type": "markdown",
   "metadata": {
    "slideshow": {
     "slide_type": "slide"
    }
   },
   "source": [
    "# How to make pandas go <font color='red'>slow</font>"
   ]
  },
  {
   "cell_type": "code",
   "execution_count": 1,
   "metadata": {
    "collapsed": false
   },
   "outputs": [
    {
     "data": {
      "text/plain": [
       "'0.18.1'"
      ]
     },
     "execution_count": 1,
     "metadata": {},
     "output_type": "execute_result"
    }
   ],
   "source": [
    "import numpy as np\n",
    "import pandas as pd\n",
    "pd.options.display.max_rows=10\n",
    "%matplotlib inline\n",
    "pd.__version__"
   ]
  },
  {
   "cell_type": "code",
   "execution_count": 2,
   "metadata": {
    "collapsed": false
   },
   "outputs": [],
   "source": [
    "df = pd.DataFrame(np.random.randn(10000,2),columns=list('AB'))"
   ]
  },
  {
   "cell_type": "code",
   "execution_count": 3,
   "metadata": {
    "collapsed": false,
    "slideshow": {
     "slide_type": "subslide"
    }
   },
   "outputs": [],
   "source": [
    "def f_baseline(df):\n",
    "    return df['A']+1\n",
    "    \n",
    "def f_apply(df):\n",
    "    return df.apply(lambda x: x['A'] + 1, axis=1)\n",
    "\n",
    "def f_itertuples(df):\n",
    "    l = []\n",
    "    for row in df.itertuples():\n",
    "        l.append(row[1]+1)\n",
    "    return Series(l,name='A')\n",
    "\n",
    "def f_iterrows(df):\n",
    "    l = []\n",
    "    for rowindex, row in df.iterrows():\n",
    "        l.append(row['A']+1)\n",
    "    return Series(l,name='A')\n",
    "\n",
    "def f_index(df):\n",
    "    s = df.A.copy()\n",
    "    for i in range(len(s)):\n",
    "        s.iloc[i] += 1\n",
    "    return s\n",
    "\n",
    "def f_index2(df):\n",
    "    l = []\n",
    "    for i in range(len(df)):\n",
    "        l.append(df.iloc[i,0] + 1)\n",
    "    return Series(l,name='A')\n"
   ]
  },
  {
   "cell_type": "code",
   "execution_count": 4,
   "metadata": {
    "collapsed": false,
    "slideshow": {
     "slide_type": "subslide"
    }
   },
   "outputs": [],
   "source": [
    "results = [f_baseline(df), f_itertuples(df), f_apply(df), f_iterrows(df), \n",
    "           f_index(df), f_index2(df)]"
   ]
  },
  {
   "cell_type": "code",
   "execution_count": 5,
   "metadata": {
    "collapsed": false
   },
   "outputs": [
    {
     "data": {
      "text/plain": [
       "True"
      ]
     },
     "execution_count": 5,
     "metadata": {},
     "output_type": "execute_result"
    }
   ],
   "source": [
    "from itertools import permutations\n",
    "np.array(list(map(lambda x: x[0].equals(x[1]), permutations(results, 2)))).all()"
   ]
  },
  {
   "cell_type": "code",
   "execution_count": 6,
   "metadata": {
    "collapsed": true
   },
   "outputs": [],
   "source": [
    "t = {}"
   ]
  },
  {
   "cell_type": "code",
   "execution_count": 7,
   "metadata": {
    "collapsed": false,
    "slideshow": {
     "slide_type": "subslide"
    }
   },
   "outputs": [
    {
     "name": "stdout",
     "output_type": "stream",
     "text": [
      "100 loops, best of 1: 92.5 µs per loop\n"
     ]
    }
   ],
   "source": [
    "x = %timeit -o -n 100 -r 1 f_baseline(df)\n",
    "t['baseline'] = x.best"
   ]
  },
  {
   "cell_type": "code",
   "execution_count": 8,
   "metadata": {
    "collapsed": false,
    "slideshow": {
     "slide_type": "fragment"
    }
   },
   "outputs": [
    {
     "name": "stdout",
     "output_type": "stream",
     "text": [
      "100 loops, best of 3: 11.3 ms per loop\n"
     ]
    }
   ],
   "source": [
    "x = %timeit -o f_itertuples(df)\n",
    "t['itertuples'] = x.best"
   ]
  },
  {
   "cell_type": "code",
   "execution_count": 9,
   "metadata": {
    "collapsed": false,
    "slideshow": {
     "slide_type": "fragment"
    }
   },
   "outputs": [
    {
     "name": "stdout",
     "output_type": "stream",
     "text": [
      "10 loops, best of 3: 161 ms per loop\n"
     ]
    }
   ],
   "source": [
    "x = %timeit -o f_apply(df)\n",
    "t['apply'] = x.best"
   ]
  },
  {
   "cell_type": "code",
   "execution_count": 10,
   "metadata": {
    "collapsed": false,
    "slideshow": {
     "slide_type": "fragment"
    }
   },
   "outputs": [
    {
     "name": "stdout",
     "output_type": "stream",
     "text": [
      "1 loop, best of 3: 325 ms per loop\n"
     ]
    }
   ],
   "source": [
    "x = %timeit -o f_iterrows(df)\n",
    "t['iterrows'] = x.best"
   ]
  },
  {
   "cell_type": "code",
   "execution_count": 11,
   "metadata": {
    "collapsed": false,
    "slideshow": {
     "slide_type": "fragment"
    }
   },
   "outputs": [
    {
     "name": "stdout",
     "output_type": "stream",
     "text": [
      "1 loop, best of 3: 790 ms per loop\n"
     ]
    }
   ],
   "source": [
    "x = %timeit -o f_index(df)\n",
    "t['index'] = x.best"
   ]
  },
  {
   "cell_type": "code",
   "execution_count": 12,
   "metadata": {
    "collapsed": false,
    "slideshow": {
     "slide_type": "fragment"
    }
   },
   "outputs": [
    {
     "name": "stdout",
     "output_type": "stream",
     "text": [
      "1 loop, best of 3: 1.24 s per loop\n"
     ]
    }
   ],
   "source": [
    "x = %timeit -o f_index2(df)\n",
    "t['index2'] = x.best"
   ]
  },
  {
   "cell_type": "code",
   "execution_count": 13,
   "metadata": {
    "collapsed": false,
    "slideshow": {
     "slide_type": "subslide"
    }
   },
   "outputs": [
    {
     "data": {
      "text/plain": [
       "<matplotlib.axes._subplots.AxesSubplot at 0x114331470>"
      ]
     },
     "execution_count": 13,
     "metadata": {},
     "output_type": "execute_result"
    },
    {
     "data": {
      "image/png": "[encoded data removed]",
      "text/plain": [
       "<matplotlib.figure.Figure at 0x114358710>"
      ]
     },
     "metadata": {},
     "output_type": "display_data"
    }
   ],
   "source": [
    "(Series(t).sort_values(ascending=True)\n",
    "          .plot\n",
    "          .barh()\n",
    " )"
   ]
  }
 ],
 "metadata": {
  "celltoolbar": "Slideshow",
  "kernelspec": {
   "display_name": "Python3 (talk)",
   "language": "python",
   "name": "talk"
  },
  "language_info": {
   "codemirror_mode": {
    "name": "ipython",
    "version": 3
   },
   "file_extension": ".py",
   "mimetype": "text/x-python",
   "name": "python",
   "nbconvert_exporter": "python",
   "pygments_lexer": "ipython3",
   "version": "3.5.1"
  }
 },
 "nbformat": 4,
 "nbformat_minor": 0
}
