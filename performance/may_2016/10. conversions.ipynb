{
 "cells": [
  {
   "cell_type": "markdown",
   "metadata": {
    "slideshow": {
     "slide_type": "slide"
    }
   },
   "source": [
    "# data conversions"
   ]
  },
  {
   "cell_type": "code",
   "execution_count": 1,
   "metadata": {
    "collapsed": false
   },
   "outputs": [],
   "source": [
    "%matplotlib inline\n",
    "pd.set_option('max_rows',12)\n",
    "pd.set_option('max_seq_items',4)\n",
    "pd.set_option('display.width',60)"
   ]
  },
  {
   "cell_type": "markdown",
   "metadata": {
    "slideshow": {
     "slide_type": "slide"
    }
   },
   "source": [
    "# dates"
   ]
  },
  {
   "cell_type": "code",
   "execution_count": 2,
   "metadata": {
    "collapsed": false
   },
   "outputs": [
    {
     "data": {
      "text/plain": [
       "DatetimeIndex(['2013-01-01 00:00:00',\n",
       "               '2013-01-01 01:00:00', \n",
       "               ...\n",
       "               '2014-02-21 14:00:00',\n",
       "               '2014-02-21 15:00:00'],\n",
       "              dtype='datetime64[ns]', length=10000, freq='H')"
      ]
     },
     "execution_count": 2,
     "metadata": {},
     "output_type": "execute_result"
    }
   ],
   "source": [
    "idx = pd.date_range('20130101',freq='h',periods=10000)\n",
    "idx"
   ]
  },
  {
   "cell_type": "code",
   "execution_count": 3,
   "metadata": {
    "collapsed": false
   },
   "outputs": [
    {
     "data": {
      "text/plain": [
       "array(['201301', '201301', '201301', ..., '201402', '201402', '201402'], \n",
       "      dtype='|S6')"
      ]
     },
     "execution_count": 3,
     "metadata": {},
     "output_type": "execute_result"
    }
   ],
   "source": [
    "strings = idx.strftime('%Y%m')\n",
    "strings"
   ]
  },
  {
   "cell_type": "code",
   "execution_count": 4,
   "metadata": {
    "collapsed": true,
    "slideshow": {
     "slide_type": "subslide"
    }
   },
   "outputs": [],
   "source": [
    "def slow_format(strings):\n",
    "    return [ pd.to_datetime(s,format='%Y%m') for s in strings ]\n",
    "def reg_format(strings):\n",
    "    return pd.to_datetime(strings,format='%Y%m')\n",
    "def fast_format(strings):\n",
    "    return pd.to_datetime(np.array(strings).astype(int)*100+1,\n",
    "                          format='%Y%m%d')"
   ]
  },
  {
   "cell_type": "code",
   "execution_count": 5,
   "metadata": {
    "collapsed": false
   },
   "outputs": [
    {
     "data": {
      "text/plain": [
       "True"
      ]
     },
     "execution_count": 5,
     "metadata": {},
     "output_type": "execute_result"
    }
   ],
   "source": [
    "results = [slow_format(strings), reg_format(strings), fast_format(strings)]\n",
    "\n",
    "from itertools import imap, permutations\n",
    "np.array(list(imap(lambda x: x[0] == x[1], permutations(results, 2)))).all()"
   ]
  },
  {
   "cell_type": "code",
   "execution_count": 6,
   "metadata": {
    "collapsed": true
   },
   "outputs": [],
   "source": [
    "t = {}"
   ]
  },
  {
   "cell_type": "code",
   "execution_count": 7,
   "metadata": {
    "collapsed": false,
    "slideshow": {
     "slide_type": "subslide"
    }
   },
   "outputs": [
    {
     "name": "stdout",
     "output_type": "stream",
     "text": [
      "1 loops, best of 3: 674 ms per loop\n"
     ]
    }
   ],
   "source": [
    "x = %timeit -o slow_format(strings)\n",
    "t['slow'] = x.best"
   ]
  },
  {
   "cell_type": "code",
   "execution_count": 8,
   "metadata": {
    "collapsed": false,
    "slideshow": {
     "slide_type": "fragment"
    }
   },
   "outputs": [
    {
     "name": "stdout",
     "output_type": "stream",
     "text": [
      "10 loops, best of 3: 27.3 ms per loop\n"
     ]
    }
   ],
   "source": [
    "x = %timeit -o reg_format(strings)\n",
    "t['reg'] = x.best"
   ]
  },
  {
   "cell_type": "code",
   "execution_count": 9,
   "metadata": {
    "collapsed": false,
    "slideshow": {
     "slide_type": "fragment"
    }
   },
   "outputs": [
    {
     "name": "stdout",
     "output_type": "stream",
     "text": [
      "100 loops, best of 3: 9.97 ms per loop\n"
     ]
    }
   ],
   "source": [
    "x = %timeit -o fast_format(strings)\n",
    "t['fast'] = x.best"
   ]
  },
  {
   "cell_type": "code",
   "execution_count": 10,
   "metadata": {
    "collapsed": false,
    "slideshow": {
     "slide_type": "subslide"
    }
   },
   "outputs": [
    {
     "data": {
      "text/plain": [
       "<matplotlib.axes._subplots.AxesSubplot at 0x109cb6190>"
      ]
     },
     "execution_count": 10,
     "metadata": {},
     "output_type": "execute_result"
    },
    {
     "data": {
      "image/png": "[encoded data removed]",
      "text/plain": [
       "<matplotlib.figure.Figure at 0x109207110>"
      ]
     },
     "metadata": {},
     "output_type": "display_data"
    }
   ],
   "source": [
    "Series(t).sort_values(ascending=False).plot.barh()"
   ]
  },
  {
   "cell_type": "markdown",
   "metadata": {
    "slideshow": {
     "slide_type": "slide"
    }
   },
   "source": [
    "# csv and dates"
   ]
  },
  {
   "cell_type": "code",
   "execution_count": 13,
   "metadata": {
    "collapsed": false
   },
   "outputs": [
    {
     "name": "stderr",
     "output_type": "stream",
     "text": [
      "/Users/jreback/miniconda/lib/python2.7/site-packages/ipykernel/__main__.py:3: DeprecationWarning: using a non-integer number instead of an integer will result in an error in the future\n",
      "  app.launch_new_instance()\n"
     ]
    }
   ],
   "source": [
    "fn = 'data/csv_and_dates.csv'\n",
    "N = 1e4\n",
    "df = DataFrame({'A' : np.random.randn(N)}, \n",
    "               index=pd.date_range('20130101',freq='s',periods=N))\n",
    "df.index = df.index.format(date_format='%Y/%b/%d %H:%M:%S')\n",
    "df.index.name ='dates'\n",
    "df.to_csv(fn)"
   ]
  },
  {
   "cell_type": "code",
   "execution_count": 14,
   "metadata": {
    "collapsed": false
   },
   "outputs": [
    {
     "name": "stdout",
     "output_type": "stream",
     "text": [
      "dates,A\r\n",
      "2013/Jan/01 00:00:00,0.688120883996\r\n",
      "2013/Jan/01 00:00:01,1.06048392317\r\n",
      "2013/Jan/01 00:00:02,-0.0884823771456\r\n",
      "2013/Jan/01 00:00:03,0.747950611859\r\n",
      "2013/Jan/01 00:00:04,-1.3433667236\r\n",
      "2013/Jan/01 00:00:05,-0.486924203781\r\n",
      "2013/Jan/01 00:00:06,3.02459196797\r\n",
      "2013/Jan/01 00:00:07,-0.430671687294\r\n",
      "2013/Jan/01 00:00:08,-0.903937982543\r\n"
     ]
    }
   ],
   "source": [
    "!head 'data/csv_and_dates.csv'"
   ]
  },
  {
   "cell_type": "code",
   "execution_count": 15,
   "metadata": {
    "collapsed": false,
    "slideshow": {
     "slide_type": "subslide"
    }
   },
   "outputs": [],
   "source": [
    "def read_dp():\n",
    "    dp = lambda s: datetime.datetime.strptime(s,'%Y/%b/%d %H:%M:%S')\n",
    "    return pd.read_csv(fn,\n",
    "                       date_parser=dp,\n",
    "                       index_col='dates')\n",
    "def read_reg():\n",
    "    return pd.read_csv(fn,parse_dates=['dates'],\n",
    "                       index_col='dates')\n",
    "def read_infer():\n",
    "    return pd.read_csv(fn,parse_dates=['dates'],\n",
    "                       infer_datetime_format=True,\n",
    "                       index_col='dates')\n",
    "def read_post_convert():\n",
    "    df = pd.read_csv(fn,\n",
    "                     index_col='dates')\n",
    "    df.index = pd.to_datetime(df.index,\n",
    "                              format='%Y/%b/%d %H:%M:%S')\n",
    "    return df"
   ]
  },
  {
   "cell_type": "code",
   "execution_count": 16,
   "metadata": {
    "collapsed": false
   },
   "outputs": [
    {
     "data": {
      "text/plain": [
       "True"
      ]
     },
     "execution_count": 16,
     "metadata": {},
     "output_type": "execute_result"
    }
   ],
   "source": [
    "results = [read_dp(),read_reg(),read_infer(),read_post_convert()]\n",
    "\n",
    "from itertools import imap, permutations\n",
    "np.array(list(imap(lambda x: x[0].equals(x[1]), permutations(results, 2)))).all()"
   ]
  },
  {
   "cell_type": "code",
   "execution_count": 17,
   "metadata": {
    "collapsed": true
   },
   "outputs": [],
   "source": [
    "t = {}"
   ]
  },
  {
   "cell_type": "code",
   "execution_count": 19,
   "metadata": {
    "collapsed": false,
    "slideshow": {
     "slide_type": "subslide"
    }
   },
   "outputs": [
    {
     "name": "stdout",
     "output_type": "stream",
     "text": [
      "10 loops, best of 3: 156 ms per loop\n"
     ]
    }
   ],
   "source": [
    "x = %timeit -o read_dp()\n",
    "t['dp'] = x.best"
   ]
  },
  {
   "cell_type": "code",
   "execution_count": 21,
   "metadata": {
    "collapsed": false,
    "slideshow": {
     "slide_type": "fragment"
    }
   },
   "outputs": [
    {
     "name": "stdout",
     "output_type": "stream",
     "text": [
      "1 loops, best of 3: 1.2 s per loop\n"
     ]
    }
   ],
   "source": [
    "x = %timeit -o read_reg()\n",
    "t['reg'] = x.best"
   ]
  },
  {
   "cell_type": "code",
   "execution_count": 22,
   "metadata": {
    "collapsed": false,
    "slideshow": {
     "slide_type": "fragment"
    }
   },
   "outputs": [
    {
     "name": "stdout",
     "output_type": "stream",
     "text": [
      "10 loops, best of 3: 73.5 ms per loop\n"
     ]
    }
   ],
   "source": [
    "x = %timeit -o read_infer()\n",
    "t['infer'] = x.best"
   ]
  },
  {
   "cell_type": "code",
   "execution_count": 23,
   "metadata": {
    "collapsed": false,
    "slideshow": {
     "slide_type": "fragment"
    }
   },
   "outputs": [
    {
     "name": "stdout",
     "output_type": "stream",
     "text": [
      "10 loops, best of 3: 80.8 ms per loop\n"
     ]
    }
   ],
   "source": [
    "x = %timeit -o read_post_convert()\n",
    "t['post_convert'] = x.best"
   ]
  },
  {
   "cell_type": "code",
   "execution_count": 24,
   "metadata": {
    "collapsed": false,
    "slideshow": {
     "slide_type": "subslide"
    }
   },
   "outputs": [
    {
     "data": {
      "text/plain": [
       "<matplotlib.axes._subplots.AxesSubplot at 0x10abb42d0>"
      ]
     },
     "execution_count": 24,
     "metadata": {},
     "output_type": "execute_result"
    },
    {
     "data": {
      "image/png": "[encoded data removed]",
      "text/plain": [
       "<matplotlib.figure.Figure at 0x10abb4950>"
      ]
     },
     "metadata": {},
     "output_type": "display_data"
    }
   ],
   "source": [
    "Series(t).sort_values(ascending=False).plot.barh()"
   ]
  }
 ],
 "metadata": {
  "celltoolbar": "Slideshow",
  "kernelspec": {
   "display_name": "Python 2",
   "language": "python",
   "name": "python2"
  },
  "language_info": {
   "codemirror_mode": {
    "name": "ipython",
    "version": 2
   },
   "file_extension": ".py",
   "mimetype": "text/x-python",
   "name": "python",
   "nbconvert_exporter": "python",
   "pygments_lexer": "ipython2",
   "version": "2.7.10"
  }
 },
 "nbformat": 4,
 "nbformat_minor": 0
}
