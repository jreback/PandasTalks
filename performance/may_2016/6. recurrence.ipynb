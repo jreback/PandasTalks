{
 "cells": [
  {
   "cell_type": "markdown",
   "metadata": {
    "slideshow": {
     "slide_type": "slide"
    }
   },
   "source": [
    "# Recurrence Relations"
   ]
  },
  {
   "cell_type": "markdown",
   "metadata": {},
   "source": [
    "https://jakevdp.github.io/blog/2013/06/15/numba-vs-cython-take-2/"
   ]
  },
  {
   "cell_type": "code",
   "execution_count": 1,
   "metadata": {
    "collapsed": false
   },
   "outputs": [
    {
     "data": {
      "text/plain": [
       "'0.18.1'"
      ]
     },
     "execution_count": 1,
     "metadata": {},
     "output_type": "execute_result"
    }
   ],
   "source": [
    "import numpy as np\n",
    "from numba import jit\n",
    "import cython\n",
    "%load_ext Cython\n",
    "\n",
    "np.random.seed(1234)\n",
    "import pandas as pd\n",
    "pd.options.display.max_rows=12\n",
    "s = Series(np.random.randn(int(1e5)))\n",
    "com = 20.0\n",
    "pd.__version__"
   ]
  },
  {
   "cell_type": "code",
   "execution_count": 2,
   "metadata": {
    "collapsed": false,
    "slideshow": {
     "slide_type": "subslide"
    }
   },
   "outputs": [],
   "source": [
    "def python(s):\n",
    "    output = Series(index=range(len(s)))\n",
    "\n",
    "    alpha = 1. / (1. + com)\n",
    "    old_weight = 1.0\n",
    "    new_weight = 1.0\n",
    "    weighted_avg = s[0]\n",
    "    output[0] = weighted_avg\n",
    "    \n",
    "    for i in range(1,len(s)):\n",
    "        v = s[i]\n",
    "        old_weight *= (1-alpha)\n",
    "        weighted_avg = ((old_weight * weighted_avg) + \n",
    "                        (new_weight * v)) / (old_weight + new_weight)\n",
    "        old_weight += new_weight\n",
    "        output[i] = weighted_avg\n",
    "        \n",
    "    return output"
   ]
  },
  {
   "cell_type": "code",
   "execution_count": 3,
   "metadata": {
    "collapsed": false,
    "slideshow": {
     "slide_type": "subslide"
    }
   },
   "outputs": [],
   "source": [
    "%%cython\n",
    "cimport cython\n",
    "@cython.wraparound(False)\n",
    "@cython.boundscheck(False)\n",
    "def _cython(double[:] arr, double com, double[:] output):\n",
    "    cdef:\n",
    "        double alpha, old_weight, new_weight, weighted_avg, v\n",
    "        int i\n",
    "    \n",
    "    alpha = 1. / (1. + com)\n",
    "    old_weight = 1.0\n",
    "    new_weight = 1.0\n",
    "    weighted_avg = arr[0]\n",
    "    output[0] = weighted_avg\n",
    "    \n",
    "    for i in range(1,arr.shape[0]):\n",
    "        v = arr[i]\n",
    "        old_weight *= (1-alpha)\n",
    "        weighted_avg = ((old_weight * weighted_avg) + \n",
    "                        (new_weight * v)) / (old_weight + new_weight)\n",
    "        old_weight += new_weight\n",
    "        output[i] = weighted_avg\n",
    "        \n",
    "    return output"
   ]
  },
  {
   "cell_type": "code",
   "execution_count": 4,
   "metadata": {
    "collapsed": true
   },
   "outputs": [],
   "source": [
    "def cython1(s):\n",
    "    output = np.empty(len(s),dtype='float64')\n",
    "    _cython(s.values, com, output)\n",
    "    return Series(output)"
   ]
  },
  {
   "cell_type": "code",
   "execution_count": 5,
   "metadata": {
    "collapsed": true,
    "slideshow": {
     "slide_type": "subslide"
    }
   },
   "outputs": [],
   "source": [
    "def cython2(s):\n",
    "    return s.ewm(com=com,adjust=True).mean()"
   ]
  },
  {
   "cell_type": "code",
   "execution_count": 6,
   "metadata": {
    "collapsed": false,
    "slideshow": {
     "slide_type": "subslide"
    }
   },
   "outputs": [],
   "source": [
    "@jit\n",
    "def _numba(arr, output):\n",
    "    alpha = 1. / (1. + com)\n",
    "    old_weight = 1.0\n",
    "    new_weight = 1.0\n",
    "    weighted_avg = arr[0]\n",
    "    output[0] = weighted_avg\n",
    "    \n",
    "    for i in range(1,arr.shape[0]):\n",
    "        v = arr[i]\n",
    "        old_weight *= (1-alpha)\n",
    "        weighted_avg = ((old_weight * weighted_avg) + \n",
    "                        (new_weight * v)) / (old_weight + new_weight)\n",
    "        old_weight += new_weight\n",
    "        output[i] = weighted_avg\n",
    "    \n",
    "\n",
    "def numba(s):\n",
    " \n",
    "    output = np.empty(len(s),dtype='float64')\n",
    "    _numba(s.values, output)\n",
    "    return Series(output)"
   ]
  },
  {
   "cell_type": "code",
   "execution_count": 7,
   "metadata": {
    "collapsed": false,
    "slideshow": {
     "slide_type": "subslide"
    }
   },
   "outputs": [
    {
     "data": {
      "text/plain": [
       "True"
      ]
     },
     "execution_count": 7,
     "metadata": {},
     "output_type": "execute_result"
    }
   ],
   "source": [
    "result1 = python(s)\n",
    "result2 = cython1(s)\n",
    "result3 = cython2(s)\n",
    "result4 = numba(s)\n",
    "result1.equals(result2) and result1.equals(result3) and result1.equals(result4)"
   ]
  },
  {
   "cell_type": "code",
   "execution_count": 8,
   "metadata": {
    "collapsed": false,
    "slideshow": {
     "slide_type": "subslide"
    }
   },
   "outputs": [
    {
     "name": "stdout",
     "output_type": "stream",
     "text": [
      "1 loop, best of 3: 2.03 s per loop\n"
     ]
    }
   ],
   "source": [
    "%timeit python(s)"
   ]
  },
  {
   "cell_type": "code",
   "execution_count": 9,
   "metadata": {
    "collapsed": false,
    "slideshow": {
     "slide_type": "fragment"
    }
   },
   "outputs": [
    {
     "name": "stdout",
     "output_type": "stream",
     "text": [
      "1000 loops, best of 3: 982 µs per loop\n"
     ]
    }
   ],
   "source": [
    "%timeit cython1(s)"
   ]
  },
  {
   "cell_type": "code",
   "execution_count": 10,
   "metadata": {
    "collapsed": false,
    "slideshow": {
     "slide_type": "fragment"
    }
   },
   "outputs": [
    {
     "name": "stdout",
     "output_type": "stream",
     "text": [
      "100 loops, best of 3: 9.65 ms per loop\n"
     ]
    }
   ],
   "source": [
    "%timeit cython2(s)"
   ]
  },
  {
   "cell_type": "code",
   "execution_count": 11,
   "metadata": {
    "collapsed": false,
    "slideshow": {
     "slide_type": "fragment"
    }
   },
   "outputs": [
    {
     "name": "stdout",
     "output_type": "stream",
     "text": [
      "1000 loops, best of 3: 991 µs per loop\n"
     ]
    }
   ],
   "source": [
    "%timeit numba(s)"
   ]
  }
 ],
 "metadata": {
  "celltoolbar": "Slideshow",
  "kernelspec": {
   "display_name": "Python3 (talk)",
   "language": "python",
   "name": "talk"
  },
  "language_info": {
   "codemirror_mode": {
    "name": "ipython",
    "version": 3
   },
   "file_extension": ".py",
   "mimetype": "text/x-python",
   "name": "python",
   "nbconvert_exporter": "python",
   "pygments_lexer": "ipython3",
   "version": "3.5.1"
  }
 },
 "nbformat": 4,
 "nbformat_minor": 0
}
