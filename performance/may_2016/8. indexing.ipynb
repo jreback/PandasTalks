{
 "cells": [
  {
   "cell_type": "markdown",
   "metadata": {
    "slideshow": {
     "slide_type": "slide"
    }
   },
   "source": [
    "# indexing methods"
   ]
  },
  {
   "cell_type": "code",
   "execution_count": 32,
   "metadata": {
    "collapsed": false
   },
   "outputs": [
    {
     "data": {
      "text/plain": [
       "'0.18.1'"
      ]
     },
     "execution_count": 32,
     "metadata": {},
     "output_type": "execute_result"
    }
   ],
   "source": [
    "import numpy as np\n",
    "import pandas as pd\n",
    "np.random.seed(1234)\n",
    "pd.options.display.max_rows=10\n",
    "%matplotlib inline\n",
    "pd.__version__"
   ]
  },
  {
   "cell_type": "code",
   "execution_count": 33,
   "metadata": {
    "collapsed": false,
    "slideshow": {
     "slide_type": "subslide"
    }
   },
   "outputs": [],
   "source": [
    "def f_ix(df):\n",
    "    df.ix[0,0] = 0\n",
    "def f_loc(df):\n",
    "    df.loc[0,'A'] = 0\n",
    "def f_iloc(df):\n",
    "    df.iloc[0,0] = 0\n",
    "def f_at(df):\n",
    "    df.at[0,'A'] = 0\n",
    "def f_iat(df):\n",
    "    df.iat[0,0] = 0\n",
    "def f_numpy(df):\n",
    "    df.values[0,0] = 0\n",
    "def cf():    \n",
    "    return pd.DataFrame(np.random.randn(100000,2),columns=list('AB'))"
   ]
  },
  {
   "cell_type": "code",
   "execution_count": 3,
   "metadata": {
    "collapsed": true
   },
   "outputs": [],
   "source": [
    "t = {}"
   ]
  },
  {
   "cell_type": "code",
   "execution_count": 4,
   "metadata": {
    "collapsed": false,
    "slideshow": {
     "slide_type": "subslide"
    }
   },
   "outputs": [
    {
     "name": "stdout",
     "output_type": "stream",
     "text": [
      "100 loops, best of 1: 225 µs per loop\n"
     ]
    }
   ],
   "source": [
    "df = cf()\n",
    "x = %timeit -o -n 100 -r 1 f_ix(df)\n",
    "t['ix'] = x.best"
   ]
  },
  {
   "cell_type": "code",
   "execution_count": 5,
   "metadata": {
    "collapsed": false,
    "slideshow": {
     "slide_type": "fragment"
    }
   },
   "outputs": [
    {
     "name": "stdout",
     "output_type": "stream",
     "text": [
      "100 loops, best of 1: 244 µs per loop\n"
     ]
    }
   ],
   "source": [
    "df = cf()\n",
    "x = %timeit -o -n 100 -r 1 f_loc(df)\n",
    "t['loc'] = x.best"
   ]
  },
  {
   "cell_type": "code",
   "execution_count": 6,
   "metadata": {
    "collapsed": false,
    "slideshow": {
     "slide_type": "fragment"
    }
   },
   "outputs": [
    {
     "name": "stdout",
     "output_type": "stream",
     "text": [
      "100 loops, best of 1: 170 µs per loop\n"
     ]
    }
   ],
   "source": [
    "df = cf()\n",
    "x = %timeit -o -n 100 -r 1 f_iloc(df)\n",
    "t['iloc'] = x.best"
   ]
  },
  {
   "cell_type": "code",
   "execution_count": 7,
   "metadata": {
    "collapsed": false,
    "slideshow": {
     "slide_type": "fragment"
    }
   },
   "outputs": [
    {
     "name": "stdout",
     "output_type": "stream",
     "text": [
      "100 loops, best of 1: 48.1 µs per loop\n"
     ]
    }
   ],
   "source": [
    "df = cf()\n",
    "x = %timeit -o -n 100 -r 1 f_at(df)\n",
    "t['at'] = x.best"
   ]
  },
  {
   "cell_type": "code",
   "execution_count": 8,
   "metadata": {
    "collapsed": false,
    "slideshow": {
     "slide_type": "fragment"
    }
   },
   "outputs": [
    {
     "name": "stdout",
     "output_type": "stream",
     "text": [
      "100 loops, best of 1: 17.3 µs per loop\n"
     ]
    }
   ],
   "source": [
    "df = cf()\n",
    "x = %timeit -o -n 100 -r 1 f_iat(df)\n",
    "t['iat'] = x.best"
   ]
  },
  {
   "cell_type": "code",
   "execution_count": 9,
   "metadata": {
    "collapsed": false,
    "slideshow": {
     "slide_type": "fragment"
    }
   },
   "outputs": [
    {
     "name": "stdout",
     "output_type": "stream",
     "text": [
      "100 loops, best of 1: 20 µs per loop\n"
     ]
    }
   ],
   "source": [
    "df = cf()\n",
    "x = %timeit -o -n 100 -r 1 f_numpy(df)\n",
    "t['numpy'] = x.best"
   ]
  },
  {
   "cell_type": "code",
   "execution_count": 10,
   "metadata": {
    "collapsed": false,
    "slideshow": {
     "slide_type": "subslide"
    }
   },
   "outputs": [
    {
     "data": {
      "text/plain": [
       "<matplotlib.axes._subplots.AxesSubplot at 0x1143d5748>"
      ]
     },
     "execution_count": 10,
     "metadata": {},
     "output_type": "execute_result"
    },
    {
     "data": {
      "image/png": "[encoded data removed]",
      "text/plain": [
       "<matplotlib.figure.Figure at 0x1143bd7f0>"
      ]
     },
     "metadata": {},
     "output_type": "display_data"
    }
   ],
   "source": [
    "(Series(t).sort_values(ascending=False)\n",
    "          .plot\n",
    "          .barh(log=True)\n",
    " )"
   ]
  },
  {
   "cell_type": "markdown",
   "metadata": {
    "slideshow": {
     "slide_type": "subslide"
    }
   },
   "source": [
    "# does this matter"
   ]
  },
  {
   "cell_type": "code",
   "execution_count": 50,
   "metadata": {
    "collapsed": true
   },
   "outputs": [],
   "source": [
    "def numpy_iterative(df):\n",
    "    na = df.values\n",
    "    for i in range(len(df)):\n",
    "        na[i,0] = 0\n",
    "def pandas_iterative(df):\n",
    "    for i in range(len(df)):\n",
    "        df.iat[i,0] = 0\n",
    "def pandas_vectorized(df):\n",
    "    df.iloc[:,0] = np.zeros(len(df))"
   ]
  },
  {
   "cell_type": "code",
   "execution_count": 51,
   "metadata": {
    "collapsed": true
   },
   "outputs": [],
   "source": [
    "t = {}"
   ]
  },
  {
   "cell_type": "code",
   "execution_count": 52,
   "metadata": {
    "collapsed": false,
    "slideshow": {
     "slide_type": "subslide"
    }
   },
   "outputs": [
    {
     "name": "stdout",
     "output_type": "stream",
     "text": [
      "100 loops, best of 1: 16.5 ms per loop\n"
     ]
    }
   ],
   "source": [
    "df = cf()\n",
    "x = %timeit -o -r 1 numpy_iterative(df)\n",
    "t['numpy_iterative'] = x.best"
   ]
  },
  {
   "cell_type": "code",
   "execution_count": 53,
   "metadata": {
    "collapsed": false,
    "slideshow": {
     "slide_type": "fragment"
    }
   },
   "outputs": [
    {
     "name": "stdout",
     "output_type": "stream",
     "text": [
      "1 loop, best of 1: 1.02 s per loop\n"
     ]
    }
   ],
   "source": [
    "df = cf()\n",
    "x = %timeit -o -r 1 pandas_iterative(df)\n",
    "t['pandas_iterative'] = x.best"
   ]
  },
  {
   "cell_type": "code",
   "execution_count": 54,
   "metadata": {
    "collapsed": false,
    "slideshow": {
     "slide_type": "fragment"
    }
   },
   "outputs": [
    {
     "name": "stdout",
     "output_type": "stream",
     "text": [
      "1000 loops, best of 1: 374 µs per loop\n"
     ]
    }
   ],
   "source": [
    "df = cf()\n",
    "x = %timeit -o -r 1 pandas_vectorized(df)\n",
    "t['pandas_vectorized'] = x.best"
   ]
  },
  {
   "cell_type": "code",
   "execution_count": 55,
   "metadata": {
    "collapsed": false,
    "slideshow": {
     "slide_type": "subslide"
    }
   },
   "outputs": [
    {
     "data": {
      "text/plain": [
       "<matplotlib.axes._subplots.AxesSubplot at 0x1180d70f0>"
      ]
     },
     "execution_count": 55,
     "metadata": {},
     "output_type": "execute_result"
    },
    {
     "data": {
      "image/png": "[encoded data removed]",
      "text/plain": [
       "<matplotlib.figure.Figure at 0x118021908>"
      ]
     },
     "metadata": {},
     "output_type": "display_data"
    }
   ],
   "source": [
    "(Series(t).sort_values(ascending=False)\n",
    "          .plot\n",
    "          .barh(log=True)\n",
    " )"
   ]
  }
 ],
 "metadata": {
  "celltoolbar": "Slideshow",
  "kernelspec": {
   "display_name": "Python3 (talk)",
   "language": "python",
   "name": "talk"
  },
  "language_info": {
   "codemirror_mode": {
    "name": "ipython",
    "version": 3
   },
   "file_extension": ".py",
   "mimetype": "text/x-python",
   "name": "python",
   "nbconvert_exporter": "python",
   "pygments_lexer": "ipython3",
   "version": "3.5.1"
  }
 },
 "nbformat": 4,
 "nbformat_minor": 0
}
