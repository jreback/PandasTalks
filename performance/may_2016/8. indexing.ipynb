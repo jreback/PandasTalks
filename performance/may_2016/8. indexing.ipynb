{
 "cells": [
  {
   "cell_type": "markdown",
   "metadata": {
    "slideshow": {
     "slide_type": "slide"
    }
   },
   "source": [
    "# indexing methods"
   ]
  },
  {
   "cell_type": "code",
   "execution_count": 1,
   "metadata": {
    "collapsed": false
   },
   "outputs": [],
   "source": [
    "%matplotlib inline\n",
    "pd.set_option('max_rows',12)"
   ]
  },
  {
   "cell_type": "code",
   "execution_count": 2,
   "metadata": {
    "collapsed": false,
    "slideshow": {
     "slide_type": "subslide"
    }
   },
   "outputs": [],
   "source": [
    "def f_ix(df):\n",
    "    df.ix[0,0] = 0\n",
    "def f_loc(df):\n",
    "    df.loc[0,'A'] = 0\n",
    "def f_iloc(df):\n",
    "    df.iloc[0,0] = 0\n",
    "def f_at(df):\n",
    "    df.at[0,'A'] = 0\n",
    "def f_iat(df):\n",
    "    df.iat[0,0] = 0\n",
    "def f_numpy(df):\n",
    "    df.values[0,0] = 0\n",
    "def cf():    \n",
    "    return pd.DataFrame(np.random.randn(100000,2),columns=list('AB'))"
   ]
  },
  {
   "cell_type": "code",
   "execution_count": 3,
   "metadata": {
    "collapsed": true
   },
   "outputs": [],
   "source": [
    "t = {}"
   ]
  },
  {
   "cell_type": "code",
   "execution_count": 4,
   "metadata": {
    "collapsed": false,
    "slideshow": {
     "slide_type": "subslide"
    }
   },
   "outputs": [
    {
     "name": "stdout",
     "output_type": "stream",
     "text": [
      "100 loops, best of 1: 199 µs per loop\n"
     ]
    }
   ],
   "source": [
    "df = cf()\n",
    "x = %timeit -o -n 100 -r 1 f_ix(df)\n",
    "t['ix'] = x.best"
   ]
  },
  {
   "cell_type": "code",
   "execution_count": 5,
   "metadata": {
    "collapsed": false,
    "slideshow": {
     "slide_type": "fragment"
    }
   },
   "outputs": [
    {
     "name": "stdout",
     "output_type": "stream",
     "text": [
      "100 loops, best of 1: 308 µs per loop\n"
     ]
    }
   ],
   "source": [
    "df = cf()\n",
    "x = %timeit -o -n 100 -r 1 f_loc(df)\n",
    "t['loc'] = x.best"
   ]
  },
  {
   "cell_type": "code",
   "execution_count": 6,
   "metadata": {
    "collapsed": false,
    "slideshow": {
     "slide_type": "fragment"
    }
   },
   "outputs": [
    {
     "name": "stdout",
     "output_type": "stream",
     "text": [
      "100 loops, best of 1: 339 µs per loop\n"
     ]
    }
   ],
   "source": [
    "df = cf()\n",
    "x = %timeit -o -n 100 -r 1 f_iloc(df)\n",
    "t['iloc'] = x.best"
   ]
  },
  {
   "cell_type": "code",
   "execution_count": 7,
   "metadata": {
    "collapsed": false,
    "slideshow": {
     "slide_type": "fragment"
    }
   },
   "outputs": [
    {
     "name": "stdout",
     "output_type": "stream",
     "text": [
      "100 loops, best of 1: 35.6 µs per loop\n"
     ]
    }
   ],
   "source": [
    "df = cf()\n",
    "x = %timeit -o -n 100 -r 1 f_at(df)\n",
    "t['at'] = x.best"
   ]
  },
  {
   "cell_type": "code",
   "execution_count": 8,
   "metadata": {
    "collapsed": false,
    "slideshow": {
     "slide_type": "fragment"
    }
   },
   "outputs": [
    {
     "name": "stdout",
     "output_type": "stream",
     "text": [
      "100 loops, best of 1: 10 µs per loop\n"
     ]
    }
   ],
   "source": [
    "df = cf()\n",
    "x = %timeit -o -n 100 -r 1 f_iat(df)\n",
    "t['iat'] = x.best"
   ]
  },
  {
   "cell_type": "code",
   "execution_count": 9,
   "metadata": {
    "collapsed": false,
    "slideshow": {
     "slide_type": "fragment"
    }
   },
   "outputs": [
    {
     "name": "stdout",
     "output_type": "stream",
     "text": [
      "100 loops, best of 1: 9.01 µs per loop\n"
     ]
    }
   ],
   "source": [
    "df = cf()\n",
    "x = %timeit -o -n 100 -r 1 f_numpy(df)\n",
    "t['numpy'] = x.best"
   ]
  },
  {
   "cell_type": "code",
   "execution_count": 10,
   "metadata": {
    "collapsed": false,
    "slideshow": {
     "slide_type": "subslide"
    }
   },
   "outputs": [
    {
     "data": {
      "text/plain": [
       "<matplotlib.axes._subplots.AxesSubplot at 0x109bb6910>"
      ]
     },
     "execution_count": 10,
     "metadata": {},
     "output_type": "execute_result"
    },
    {
     "data": {
      "image/png": "[encoded data removed]",
      "text/plain": [
       "<matplotlib.figure.Figure at 0x109b01bd0>"
      ]
     },
     "metadata": {},
     "output_type": "display_data"
    }
   ],
   "source": [
    "Series(t).sort_values(ascending=False).plot.barh(log=True)"
   ]
  },
  {
   "cell_type": "markdown",
   "metadata": {
    "slideshow": {
     "slide_type": "subslide"
    }
   },
   "source": [
    "# does this matter"
   ]
  },
  {
   "cell_type": "code",
   "execution_count": 11,
   "metadata": {
    "collapsed": true
   },
   "outputs": [],
   "source": [
    "def f1(df):\n",
    "    na = df.values\n",
    "    for i in xrange(len(df)):\n",
    "        na[i,0] = 0\n",
    "def f2(df):\n",
    "    for i in xrange(len(df)):\n",
    "        df.iat[i,0] = 0\n",
    "def f3(df):\n",
    "    df.iloc[:,0] = 0"
   ]
  },
  {
   "cell_type": "code",
   "execution_count": 12,
   "metadata": {
    "collapsed": true
   },
   "outputs": [],
   "source": [
    "t = {}"
   ]
  },
  {
   "cell_type": "code",
   "execution_count": 13,
   "metadata": {
    "collapsed": false,
    "slideshow": {
     "slide_type": "subslide"
    }
   },
   "outputs": [
    {
     "name": "stdout",
     "output_type": "stream",
     "text": [
      "100 loops, best of 1: 13.7 ms per loop\n"
     ]
    }
   ],
   "source": [
    "df = cf()\n",
    "x = %timeit -o -r 1 f1(df)\n",
    "t['f1'] = x.best"
   ]
  },
  {
   "cell_type": "code",
   "execution_count": 14,
   "metadata": {
    "collapsed": false,
    "slideshow": {
     "slide_type": "fragment"
    }
   },
   "outputs": [
    {
     "name": "stdout",
     "output_type": "stream",
     "text": [
      "1 loops, best of 1: 796 ms per loop\n"
     ]
    }
   ],
   "source": [
    "df = cf()\n",
    "x = %timeit -o -r 1 f2(df)\n",
    "t['f2'] = x.best"
   ]
  },
  {
   "cell_type": "code",
   "execution_count": 15,
   "metadata": {
    "collapsed": false,
    "slideshow": {
     "slide_type": "fragment"
    }
   },
   "outputs": [
    {
     "name": "stdout",
     "output_type": "stream",
     "text": [
      "1000 loops, best of 1: 766 µs per loop\n"
     ]
    }
   ],
   "source": [
    "df = cf()\n",
    "x = %timeit -o -r 1 f3(df)\n",
    "t['f3'] = x.best"
   ]
  },
  {
   "cell_type": "code",
   "execution_count": 18,
   "metadata": {
    "collapsed": false,
    "slideshow": {
     "slide_type": "subslide"
    }
   },
   "outputs": [
    {
     "data": {
      "text/plain": [
       "<matplotlib.axes._subplots.AxesSubplot at 0x10b822cd0>"
      ]
     },
     "execution_count": 18,
     "metadata": {},
     "output_type": "execute_result"
    },
    {
     "data": {
      "image/png": "[encoded data removed]",
      "text/plain": [
       "<matplotlib.figure.Figure at 0x10b6f1190>"
      ]
     },
     "metadata": {},
     "output_type": "display_data"
    }
   ],
   "source": [
    "Series(t).sort_values(ascending=False).plot.barh(log=True)"
   ]
  }
 ],
 "metadata": {
  "celltoolbar": "Slideshow",
  "kernelspec": {
   "display_name": "Python 2",
   "language": "python",
   "name": "python2"
  },
  "language_info": {
   "codemirror_mode": {
    "name": "ipython",
    "version": 2
   },
   "file_extension": ".py",
   "mimetype": "text/x-python",
   "name": "python",
   "nbconvert_exporter": "python",
   "pygments_lexer": "ipython2",
   "version": "2.7.10"
  }
 },
 "nbformat": 4,
 "nbformat_minor": 0
}
